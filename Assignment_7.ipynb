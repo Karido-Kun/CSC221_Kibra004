{
  "nbformat": 4,
  "nbformat_minor": 0,
  "metadata": {
    "colab": {
      "provenance": [],
      "include_colab_link": true
    },
    "kernelspec": {
      "name": "python3",
      "display_name": "Python 3"
    },
    "language_info": {
      "name": "python"
    }
  },
  "cells": [
    {
      "cell_type": "markdown",
      "metadata": {
        "id": "view-in-github",
        "colab_type": "text"
      },
      "source": [
        "<a href=\"https://colab.research.google.com/github/Karido-Kun/CSC221_Kibra004/blob/main/Assignment_7.ipynb\" target=\"_parent\"><img src=\"https://colab.research.google.com/assets/colab-badge.svg\" alt=\"Open In Colab\"/></a>"
      ]
    },
    {
      "cell_type": "code",
      "execution_count": null,
      "metadata": {
        "colab": {
          "base_uri": "https://localhost:8080/"
        },
        "id": "hZwbuMXK8ltH",
        "outputId": "fd837d5d-bd27-4093-f683-7a358ad3a352"
      },
      "outputs": [
        {
          "output_type": "stream",
          "name": "stdout",
          "text": [
            "green\n",
            "5\n"
          ]
        }
      ],
      "source": [
        "alien_0={'color': 'green', 'points': 5}\n",
        "print(alien_0['color'])\n",
        "print(alien_0['points'])"
      ]
    },
    {
      "cell_type": "code",
      "source": [
        "alien_0={'color': 'green', 'points': 5}\n",
        "print(alien_0)\n",
        "\n",
        "alien_0['x_position']=0\n",
        "alien_0['y_position']=25\n",
        "print(alien_0)\n",
        "\n"
      ],
      "metadata": {
        "colab": {
          "base_uri": "https://localhost:8080/"
        },
        "id": "R5CbHStwAdFU",
        "outputId": "6a5ee4fe-854b-4586-d9e7-71e22048496e"
      },
      "execution_count": null,
      "outputs": [
        {
          "output_type": "stream",
          "name": "stdout",
          "text": [
            "{'color': 'green', 'points': 5}\n",
            "{'color': 'green', 'points': 5, 'x_position': 0, 'y_position': 25}\n"
          ]
        }
      ]
    },
    {
      "cell_type": "code",
      "source": [
        "alien_0={}\n",
        "alien_0['color']='green'\n",
        "alien_0['points']=5\n",
        "print(alien_0)"
      ],
      "metadata": {
        "colab": {
          "base_uri": "https://localhost:8080/"
        },
        "id": "WwCp7OWUKol8",
        "outputId": "72ccc165-6426-47cf-f905-0e7e84cc45bf"
      },
      "execution_count": null,
      "outputs": [
        {
          "output_type": "stream",
          "name": "stdout",
          "text": [
            "{'color': 'green', 'points': 5}\n"
          ]
        }
      ]
    },
    {
      "cell_type": "code",
      "source": [],
      "metadata": {
        "id": "h_Irp_7tK6mB"
      },
      "execution_count": null,
      "outputs": []
    },
    {
      "cell_type": "markdown",
      "source": [
        "6-1"
      ],
      "metadata": {
        "id": "YQKy-afCAT35"
      }
    },
    {
      "cell_type": "code",
      "source": [
        "fav_person={'first_name': 'Kalid', 'last_name': 'Ibrahim', 'age': 20, 'city': 'Plattsburgh'}\n",
        "print(fav_person['first_name'])\n",
        "print(fav_person['last_name'])\n",
        "print(fav_person['age'])\n",
        "print(fav_person['city'])"
      ],
      "metadata": {
        "colab": {
          "base_uri": "https://localhost:8080/"
        },
        "id": "Icrq4mpaAZQc",
        "outputId": "15707ea3-913c-41bc-9010-24bfb1c970ff"
      },
      "execution_count": null,
      "outputs": [
        {
          "output_type": "stream",
          "name": "stdout",
          "text": [
            "Kalid\n",
            "Ibrahim\n",
            "20\n",
            "Plattsburgh\n"
          ]
        }
      ]
    },
    {
      "cell_type": "markdown",
      "source": [
        "6-2"
      ],
      "metadata": {
        "id": "wYSOO348AVDD"
      }
    },
    {
      "cell_type": "code",
      "source": [
        "favorite_number={\n",
        "    'Orlando': 10,\n",
        "    'Kalid': 3,\n",
        "    'Shunsei': 15,\n",
        "    'Tedros': 13,\n",
        "    'Taichi': 12\n",
        "}\n",
        "for name, number in favorite_number.items():\n",
        "  print(f\"\\nName: {name}\")\n",
        "  print(f\"Favorite_Number: {number}\")"
      ],
      "metadata": {
        "colab": {
          "base_uri": "https://localhost:8080/"
        },
        "id": "R5GHbpZoAZ5d",
        "outputId": "07ebae8e-25b6-450e-feed-773ae5e2a40f"
      },
      "execution_count": null,
      "outputs": [
        {
          "output_type": "stream",
          "name": "stdout",
          "text": [
            "\n",
            "Name: Orlando\n",
            "Favorite_Number: 10\n",
            "\n",
            "Name: Kalid\n",
            "Favorite_Number: 3\n",
            "\n",
            "Name: Shunsei\n",
            "Favorite_Number: 15\n",
            "\n",
            "Name: Tedros\n",
            "Favorite_Number: 13\n",
            "\n",
            "Name: Taichi\n",
            "Favorite_Number: 12\n"
          ]
        }
      ]
    },
    {
      "cell_type": "markdown",
      "source": [
        "6-3"
      ],
      "metadata": {
        "id": "OPOaGs5oAVq8"
      }
    },
    {
      "cell_type": "code",
      "source": [
        "glossary={\n",
        "    'tuple': 'immutable list where values cannot change.',\n",
        "    'range': 'starts counting at the first value you give it, and stops when it reaches the second value',\n",
        "    'dynamic list': 'adding or removing elements from a list as you build it.',\n",
        "    'list': 'a collection of items in a particular order',\n",
        "    'string': 'a series of characters',\n",
        "    'f_string': 'format strings replaces the name of any variable in braces with its value',\n",
        "    'else': 'matches any condition that was not matched by a specific if or elif test, and that can sometimes include invalid or even malicious data.',\n",
        "    'object': 'an object can be a variable, a data structure, a function, or a method.',\n",
        "    'variable': 'connected to a value, which is the information associated with that variable.',\n",
        "    'traceback': 'is a record of where the interpreter ran into trouble when trying to execute your code.'\n",
        "\n",
        "\n",
        "}\n",
        "for name, definition in glossary.items():\n",
        "  print(f\"\\n{name.title()} : \\n{definition}\")\n"
      ],
      "metadata": {
        "colab": {
          "base_uri": "https://localhost:8080/"
        },
        "id": "KUoOlwxeAabd",
        "outputId": "f707da37-d182-4da8-a999-881f61e308e3"
      },
      "execution_count": null,
      "outputs": [
        {
          "output_type": "stream",
          "name": "stdout",
          "text": [
            "\n",
            "Tuple : \n",
            "immutable list where values cannot change.\n",
            "\n",
            "Range : \n",
            "starts counting at the first value you give it, and stops when it reaches the second value\n",
            "\n",
            "Dynamic List : \n",
            "adding or removing elements from a list as you build it.\n",
            "\n",
            "List : \n",
            "a collection of items in a particular order\n",
            "\n",
            "String : \n",
            "a series of characters\n",
            "\n",
            "F_String : \n",
            "format strings replaces the name of any variable in braces with its value\n",
            "\n",
            "Else : \n",
            "matches any condition that was not matched by a specific if or elif test, and that can sometimes include invalid or even malicious data.\n",
            "\n",
            "Object : \n",
            "an object can be a variable, a data structure, a function, or a method.\n",
            "\n",
            "Variable : \n",
            "connected to a value, which is the information associated with that variable.\n",
            "\n",
            "Traceback : \n",
            "is a record of where the interpreter ran into trouble when trying to execute your code.\n"
          ]
        }
      ]
    },
    {
      "cell_type": "markdown",
      "source": [
        "6-4"
      ],
      "metadata": {
        "id": "CDcbZfFaAWj9"
      }
    },
    {
      "cell_type": "code",
      "source": [
        "#changed 6-3 to include a loop"
      ],
      "metadata": {
        "id": "UpmYsl6gAbCB"
      },
      "execution_count": null,
      "outputs": []
    },
    {
      "cell_type": "markdown",
      "source": [
        "6-11"
      ],
      "metadata": {
        "id": "yyu6AZr8AXVv"
      }
    },
    {
      "cell_type": "code",
      "source": [
        "\n",
        "cities={\n",
        "    'New York City': {\n",
        "        'Country': 'USA',\n",
        "        'Population': '8.5 million',\n",
        "        'Fact': 'There are more than 800 languages spoken in New York.',\n",
        "    },\n",
        "    'Dubai': {\n",
        "        'Country': 'UAE',\n",
        "        'Population': '3 million',\n",
        "        'Fact': 'It has the tallest building in the world.',\n",
        "    },\n",
        "    'Addis Ababa': {\n",
        "        'Country': 'Ethiopia',\n",
        "        'Population': '5.7 million',\n",
        "        'Fact': 'The city of Addis Ababa is famous as the home to the biggest outdoor market in Africa.',\n",
        "    }\n",
        "\n",
        "}\n",
        "for city, city_info in cities.items():\n",
        "  print(f\"\\nCity: {city}\")\n",
        "  Country=city_info['Country']\n",
        "  Population=city_info['Population']\n",
        "  Fact=city_info['Fact']\n",
        "  print(f\"\\tCountry: {Country}\")\n",
        "  print(f\"\\tPopulation: {Population}\")\n",
        "  print(f\"\\tCity_Fact: {Fact}\")"
      ],
      "metadata": {
        "colab": {
          "base_uri": "https://localhost:8080/"
        },
        "id": "A9_AbOdLAbbb",
        "outputId": "250994f1-f504-439c-8be7-a0eaa4556802"
      },
      "execution_count": null,
      "outputs": [
        {
          "output_type": "stream",
          "name": "stdout",
          "text": [
            "\n",
            "City: New York City\n",
            "\tCountry: USA\n",
            "\tPopulation: 8.5 million\n",
            "\tCity_Fact: There are more than 800 languages spoken in New York.\n",
            "\n",
            "City: Dubai\n",
            "\tCountry: UAE\n",
            "\tPopulation: 3 million\n",
            "\tCity_Fact: It has the tallest building in the world.\n",
            "\n",
            "City: Addis Ababa\n",
            "\tCountry: Ethiopia\n",
            "\tPopulation: 5.7 million\n",
            "\tCity_Fact: The city of Addis Ababa is famous as the home to the biggest outdoor market in Africa.\n"
          ]
        }
      ]
    },
    {
      "cell_type": "markdown",
      "source": [
        "6-12"
      ],
      "metadata": {
        "id": "ps4sf5VaAX-o"
      }
    },
    {
      "cell_type": "markdown",
      "source": [
        "favorite_languages.py"
      ],
      "metadata": {
        "id": "pcKmjZhqlF_N"
      }
    },
    {
      "cell_type": "code",
      "source": [
        "favorite_languages={\n",
        "    'Jen': {\n",
        "        'Age': '20',\n",
        "        'Favorite Language': 'Python',\n",
        "        'Favorite Color': 'Red',\n",
        "    },\n",
        "    'Sarah': {\n",
        "        'Age': '21',\n",
        "        'Favorite Language': 'C',\n",
        "        'Favorite Color': 'Blue',\n",
        "    },\n",
        "    'Edward': {\n",
        "        'Age': '18',\n",
        "        'Favorite Language': 'Rust',\n",
        "        'Favorite Color': 'Green',\n",
        "    },\n",
        "    'Phil': {\n",
        "        'Age': '19',\n",
        "        'Favorite Language': 'Python',\n",
        "        'Favorite Color': 'Pink',\n",
        "    }\n",
        "\n",
        "}\n",
        "for person, person_info in favorite_languages.items():\n",
        "  print(f\"\\nName: {person}\")\n",
        "  Age=person_info['Age']\n",
        "  Favorite_Language=person_info['Favorite Language']\n",
        "  Favorite_Color=person_info['Favorite Color']\n",
        "  print(f\"\\tAge: {Age}\")\n",
        "  print(f\"\\tFavorite Language: {Favorite_Language}\")\n",
        "  print(f\"\\tFavorite Color: {Favorite_Color}\")"
      ],
      "metadata": {
        "colab": {
          "base_uri": "https://localhost:8080/"
        },
        "id": "e7CsH0l1AcIt",
        "outputId": "dfcf9993-84ab-4c65-cf37-797dcc632332"
      },
      "execution_count": null,
      "outputs": [
        {
          "output_type": "stream",
          "name": "stdout",
          "text": [
            "\n",
            "Name: Jen\n",
            "\tAge: 20\n",
            "\tFavorite Language: Python\n",
            "\tFavorite Color: Red\n",
            "\n",
            "Name: Sarah\n",
            "\tAge: 21\n",
            "\tFavorite Language: C\n",
            "\tFavorite Color: Blue\n",
            "\n",
            "Name: Edward\n",
            "\tAge: 18\n",
            "\tFavorite Language: Rust\n",
            "\tFavorite Color: Green\n",
            "\n",
            "Name: Phil\n",
            "\tAge: 19\n",
            "\tFavorite Language: Python\n",
            "\tFavorite Color: Pink\n"
          ]
        }
      ]
    }
  ]
}