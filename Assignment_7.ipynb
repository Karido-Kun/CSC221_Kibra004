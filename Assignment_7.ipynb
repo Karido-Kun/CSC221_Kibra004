{
  "nbformat": 4,
  "nbformat_minor": 0,
  "metadata": {
    "colab": {
      "provenance": [],
      "include_colab_link": true
    },
    "kernelspec": {
      "name": "python3",
      "display_name": "Python 3"
    },
    "language_info": {
      "name": "python"
    }
  },
  "cells": [
    {
      "cell_type": "markdown",
      "metadata": {
        "id": "view-in-github",
        "colab_type": "text"
      },
      "source": [
        "<a href=\"https://colab.research.google.com/github/Karido-Kun/CSC221_Kibra004/blob/main/Assignment_7.ipynb\" target=\"_parent\"><img src=\"https://colab.research.google.com/assets/colab-badge.svg\" alt=\"Open In Colab\"/></a>"
      ]
    },
    {
      "cell_type": "code",
      "source": [
        "# TIY 6-1\n",
        "person = {\n",
        "    'first_name': 'Kalid',\n",
        "    'last_name': 'Ibrahim',\n",
        "    'age': 20,\n",
        "    'city': 'Plattsburgh',\n",
        "    }\n",
        "\n",
        "print(person['first_name'])\n",
        "print(person['last_name'])\n",
        "print(person['age'])\n",
        "print(person['city'])"
      ],
      "metadata": {
        "colab": {
          "base_uri": "https://localhost:8080/"
        },
        "id": "1bC7GbWNbQMO",
        "outputId": "23ee1569-571b-4aba-ed95-886d8b1e598a"
      },
      "execution_count": 1,
      "outputs": [
        {
          "output_type": "stream",
          "name": "stdout",
          "text": [
            "Kalid\n",
            "Ibrahim\n",
            "20\n",
            "Plattsburgh\n"
          ]
        }
      ]
    },
    {
      "cell_type": "code",
      "source": [
        "# TIY 6-2\n",
        "favorite_numbers = {\n",
        "    'Kalid': 42,\n",
        "    'Teddy': 23,\n",
        "    'Felicia': 7,\n",
        "    'Naji': 1_000_000,\n",
        "    'Khushi': 0,\n",
        "    }\n",
        "\n",
        "num = favorite_numbers['Kalid']\n",
        "print(f\"Kalid's favorite number is {num}.\")\n",
        "\n",
        "num = favorite_numbers['Teddy']\n",
        "print(f\"Teddy's favorite number is {num}.\")\n",
        "\n",
        "num = favorite_numbers['Felicia']\n",
        "print(f\"Felica's favorite number is {num}.\")\n",
        "\n",
        "num = favorite_numbers['Naji']\n",
        "print(f\"Naji's favorite number is {num}.\")\n",
        "\n",
        "num = favorite_numbers['Khushi']\n",
        "print(f\"Khushi's favorite number is {num}.\")"
      ],
      "metadata": {
        "colab": {
          "base_uri": "https://localhost:8080/"
        },
        "id": "ZJdGBP2tbcAY",
        "outputId": "7e5531fe-1685-40b5-ac75-8c0bd38768ee"
      },
      "execution_count": 3,
      "outputs": [
        {
          "output_type": "stream",
          "name": "stdout",
          "text": [
            "Kalid's favorite number is 42.\n",
            "Teddy's favorite number is 23.\n",
            "Felica's favorite number is 7.\n",
            "Naji's favorite number is 1000000.\n",
            "Khushi's favorite number is 0.\n"
          ]
        }
      ]
    },
    {
      "cell_type": "code",
      "source": [
        "# TIY 6-3\n",
        "glossary = {\n",
        "    'string': 'A series of characters.',\n",
        "    'comment': 'A note in a program that the Python interpreter ignores.',\n",
        "    'list': 'A collection of items in a particular order.',\n",
        "    'loop': 'Work through a collection of items, one at a time.',\n",
        "    'dictionary': \"A collection of key-value pairs.\",\n",
        "    }\n",
        "\n",
        "word = 'string'\n",
        "print(f\"\\n{word.title()}: {glossary[word]}\")\n",
        "\n",
        "word = 'comment'\n",
        "print(f\"\\n{word.title()}: {glossary[word]}\")\n",
        "\n",
        "word = 'list'\n",
        "print(f\"\\n{word.title()}: {glossary[word]}\")\n",
        "\n",
        "word = 'loop'\n",
        "print(f\"\\n{word.title()}: {glossary[word]}\")\n",
        "\n",
        "word = 'dictionary'\n",
        "print(f\"\\n{word.title()}: {glossary[word]}\")"
      ],
      "metadata": {
        "colab": {
          "base_uri": "https://localhost:8080/"
        },
        "id": "ICe-pxFUcPTo",
        "outputId": "eaadce50-9db2-4a38-d5eb-97754d12bf40"
      },
      "execution_count": 4,
      "outputs": [
        {
          "output_type": "stream",
          "name": "stdout",
          "text": [
            "\n",
            "String: A series of characters.\n",
            "\n",
            "Comment: A note in a program that the Python interpreter ignores.\n",
            "\n",
            "List: A collection of items in a particular order.\n",
            "\n",
            "Loop: Work through a collection of items, one at a time.\n",
            "\n",
            "Dictionary: A collection of key-value pairs.\n"
          ]
        }
      ]
    },
    {
      "cell_type": "code",
      "source": [
        "# TIY 6-4\n",
        "glossary = {\n",
        "    'string': 'A series of characters.',\n",
        "    'comment': 'A note in a program that the Python interpreter ignores.',\n",
        "    'list': 'A collection of items in a particular order.',\n",
        "    'loop': 'Work through a collection of items, one at a time.',\n",
        "    'dictionary': \"A collection of key-value pairs.\",\n",
        "    'key': 'The first item in a key-value pair in a dictionary.',\n",
        "    'value': 'An item associated with a key in a dictionary.',\n",
        "    'conditional test': 'A comparison between two values.',\n",
        "    'float': 'A numerical value with a decimal component.',\n",
        "    'boolean expression': 'An expression that evaluates to True or False.',\n",
        "    }\n",
        "\n",
        "for word, definition in glossary.items():\n",
        "    print(f\"\\n{word.title()}: {definition}\")"
      ],
      "metadata": {
        "colab": {
          "base_uri": "https://localhost:8080/"
        },
        "id": "sbS0Vs3gcbUy",
        "outputId": "6bd65c38-8442-4d57-be58-c8db47f91e8b"
      },
      "execution_count": 5,
      "outputs": [
        {
          "output_type": "stream",
          "name": "stdout",
          "text": [
            "\n",
            "String: A series of characters.\n",
            "\n",
            "Comment: A note in a program that the Python interpreter ignores.\n",
            "\n",
            "List: A collection of items in a particular order.\n",
            "\n",
            "Loop: Work through a collection of items, one at a time.\n",
            "\n",
            "Dictionary: A collection of key-value pairs.\n",
            "\n",
            "Key: The first item in a key-value pair in a dictionary.\n",
            "\n",
            "Value: An item associated with a key in a dictionary.\n",
            "\n",
            "Conditional Test: A comparison between two values.\n",
            "\n",
            "Float: A numerical value with a decimal component.\n",
            "\n",
            "Boolean Expression: An expression that evaluates to True or False.\n"
          ]
        }
      ]
    },
    {
      "cell_type": "code",
      "source": [
        "# TIY 6-11\n",
        "cities = {\n",
        "    'Addis': {\n",
        "        'country': 'Ethiopia',\n",
        "        'population': 8_210_000,\n",
        "        'nearby mountains': 'Entoto',\n",
        "        },\n",
        "    'Talkeetna': {\n",
        "        'country': 'United states',\n",
        "        'population': 876,\n",
        "        'nearby mountains': 'Alaska range',\n",
        "        },\n",
        "    'Doha': {\n",
        "        'country': 'Qatar',\n",
        "        'population': 1_186_023,\n",
        "        'nearby mountains': 'Qurayn Abu al Baw',\n",
        "        }\n",
        "    }\n",
        "\n",
        "for city, city_info in cities.items():\n",
        "    country = city_info['country'].title()\n",
        "    population = city_info['population']\n",
        "    mountains = city_info['nearby mountains'].title()\n",
        "\n",
        "    print(f\"\\n{city.title()} is in {country}.\")\n",
        "    print(f\"  It has a population of about {population}.\")\n",
        "    print(f\"  The {mountains} mounats are nearby.\")"
      ],
      "metadata": {
        "colab": {
          "base_uri": "https://localhost:8080/"
        },
        "id": "o2FbnXkodA3X",
        "outputId": "7e2b6e55-1c28-4a67-e5d4-00356de47a3a"
      },
      "execution_count": 6,
      "outputs": [
        {
          "output_type": "stream",
          "name": "stdout",
          "text": [
            "\n",
            "Addis is in Ethiopia.\n",
            "  It has a population of about 8210000.\n",
            "  The Entoto mounats are nearby.\n",
            "\n",
            "Talkeetna is in United States.\n",
            "  It has a population of about 876.\n",
            "  The Alaska Range mounats are nearby.\n",
            "\n",
            "Doha is in Qatar.\n",
            "  It has a population of about 1186023.\n",
            "  The Qurayn Abu Al Baw mounats are nearby.\n"
          ]
        }
      ]
    },
    {
      "cell_type": "code",
      "source": [
        "def read_and_sort_grades(file_path):\n",
        "    \"\"\"\n",
        "    Read a dictionary from a file, sort it by names and grades, and print the results.\n",
        "\n",
        "    Parameters:\n",
        "    file_path (str): The path to the file containing names and grades.\n",
        "\n",
        "    Returns:\n",
        "    dict: The dictionary with names as keys and grades as values.\n",
        "    \"\"\"\n",
        "    grades_dict = {}\n",
        "    with open(file_path, 'r') as file:\n",
        "        for line in file:\n",
        "            name, grade = line.strip().split(', ')\n",
        "            grades_dict[name] = int(grade)\n",
        "\n",
        "    # Sort by names\n",
        "    sorted_by_name = dict(sorted(grades_dict.items()))\n",
        "    print(\"Sorted by names:\")\n",
        "    for name, grade in sorted_by_name.items():\n",
        "        print(f\"{name}: {grade}\")\n",
        "\n",
        "    # Sort by grades (from highest to lowest)\n",
        "    sorted_by_grade = dict(sorted(grades_dict.items(), key=lambda item: item[1], reverse=True))\n",
        "    print(\"\\nSorted by grades:\")\n",
        "    for name, grade in sorted_by_grade.items():\n",
        "        print(f\"{name}: {grade}\")\n",
        "\n",
        "    return grades_dict\n",
        "\n",
        "  # Create a sample file for testing\n",
        "with open('grades.txt', 'w') as file:\n",
        "    file.write('kevin, 91\\n')\n",
        "    file.write('ayush, 94\\n')\n",
        "    file.write('bob, 97\\n')\n",
        "    file.write('amy, 89\\n')\n",
        "    file.write('ankita, 97\\n')\n",
        "    file.write('ned, 79\\n')\n",
        "    file.write('timmy, 82\\n')\n",
        "\n",
        "# Test the function\n",
        "grades = read_and_sort_grades('grades.txt')\n",
        "expected_dict = {\n",
        "    'kevin': 91,\n",
        "    'ayush': 94,\n",
        "    'bob': 97,\n",
        "    'amy': 89,\n",
        "    'ankita': 97,\n",
        "    'ned': 79,\n",
        "    'timmy': 82\n",
        "}\n",
        "assert grades == expected_dict\n",
        "\n"
      ],
      "metadata": {
        "colab": {
          "base_uri": "https://localhost:8080/"
        },
        "id": "1E23j9G-d400",
        "outputId": "22c4f4d2-5301-428c-8d01-1e6f084282a1"
      },
      "execution_count": 7,
      "outputs": [
        {
          "output_type": "stream",
          "name": "stdout",
          "text": [
            "Sorted by names:\n",
            "amy: 89\n",
            "ankita: 97\n",
            "ayush: 94\n",
            "bob: 97\n",
            "kevin: 91\n",
            "ned: 79\n",
            "timmy: 82\n",
            "\n",
            "Sorted by grades:\n",
            "bob: 97\n",
            "ankita: 97\n",
            "ayush: 94\n",
            "kevin: 91\n",
            "amy: 89\n",
            "timmy: 82\n",
            "ned: 79\n"
          ]
        }
      ]
    }
  ]
}