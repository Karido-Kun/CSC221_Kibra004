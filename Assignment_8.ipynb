{
  "nbformat": 4,
  "nbformat_minor": 0,
  "metadata": {
    "colab": {
      "provenance": [],
      "authorship_tag": "ABX9TyPxfGfl+RKVawwYpK5qssP9",
      "include_colab_link": true
    },
    "kernelspec": {
      "name": "python3",
      "display_name": "Python 3"
    },
    "language_info": {
      "name": "python"
    }
  },
  "cells": [
    {
      "cell_type": "markdown",
      "metadata": {
        "id": "view-in-github",
        "colab_type": "text"
      },
      "source": [
        "<a href=\"https://colab.research.google.com/github/Karido-Kun/CSC221_Kibra004/blob/main/Assignment_8.ipynb\" target=\"_parent\"><img src=\"https://colab.research.google.com/assets/colab-badge.svg\" alt=\"Open In Colab\"/></a>"
      ]
    },
    {
      "cell_type": "code",
      "source": [
        "# TIY 8-2\n",
        "def favorite_book(title):\n",
        "    \"\"\"Display a message about someone's favorite book.\"\"\"\n",
        "    print(f\"{title} is one of my favorite books.\")\n",
        "\n",
        "favorite_book('The Abstract Wild')"
      ],
      "metadata": {
        "colab": {
          "base_uri": "https://localhost:8080/"
        },
        "id": "7HPU9hW57wCW",
        "outputId": "bbdf7f03-25fa-4172-d760-f6c88534311e"
      },
      "execution_count": 1,
      "outputs": [
        {
          "output_type": "stream",
          "name": "stdout",
          "text": [
            "The Abstract Wild is one of my favorite books.\n"
          ]
        }
      ]
    },
    {
      "cell_type": "code",
      "source": [
        "# TIY 8-3\n",
        "def make_shirt(size, message):\n",
        "    \"\"\"Summarize the shirt that's going to be made.\"\"\"\n",
        "    print(f\"\\nI'm going to make a {size} t-shirt.\")\n",
        "    print(f'It will say, \"{message}\"')\n",
        "\n",
        "make_shirt('large', 'I love Python!')\n",
        "make_shirt(message=\"Readability counts.\", size='medium')"
      ],
      "metadata": {
        "colab": {
          "base_uri": "https://localhost:8080/"
        },
        "id": "xDM_eA6u71sf",
        "outputId": "88e2a88b-9130-4bae-ea5d-9ae981192615"
      },
      "execution_count": 3,
      "outputs": [
        {
          "output_type": "stream",
          "name": "stdout",
          "text": [
            "\n",
            "I'm going to make a large t-shirt.\n",
            "It will say, \"I love Python!\"\n",
            "\n",
            "I'm going to make a medium t-shirt.\n",
            "It will say, \"Readability counts.\"\n"
          ]
        }
      ]
    },
    {
      "cell_type": "code",
      "source": [
        "# TIY 8-4\n",
        "def make_shirt(size='large', message='I love Python!'):\n",
        "    \"\"\"Summarize the shirt that's going to be made.\"\"\"\n",
        "    print(f\"\\nI'm going to make a {size} t-shirt.\")\n",
        "    print(f'It will say, \"{message}\"')\n",
        "\n",
        "make_shirt()\n",
        "make_shirt(size='medium')\n",
        "make_shirt('small', 'Programmers are loopy.')"
      ],
      "metadata": {
        "colab": {
          "base_uri": "https://localhost:8080/"
        },
        "id": "8HWpPgjY8Ag0",
        "outputId": "14e2c5bb-7c0d-4686-937f-75d18a824598"
      },
      "execution_count": 4,
      "outputs": [
        {
          "output_type": "stream",
          "name": "stdout",
          "text": [
            "\n",
            "I'm going to make a large t-shirt.\n",
            "It will say, \"I love Python!\"\n",
            "\n",
            "I'm going to make a medium t-shirt.\n",
            "It will say, \"I love Python!\"\n",
            "\n",
            "I'm going to make a small t-shirt.\n",
            "It will say, \"Programmers are loopy.\"\n"
          ]
        }
      ]
    },
    {
      "cell_type": "code",
      "source": [
        "def func8(a, b, c=42):\n",
        "    \"\"\"\n",
        "    Function that takes two or three numbers and returns their sum, product,\n",
        "    and a list of these numbers in sorted order. The third number defaults to 42 if not provided.\n",
        "\n",
        "    Args:\n",
        "    a (int or float): The first number.\n",
        "    b (int or float): The second number.\n",
        "    c (int or float, optional): The third number, default is 42.\n",
        "\n",
        "    Returns:\n",
        "    tuple: Contains the sum of the numbers, the product of the numbers,\n",
        "          and a list of the numbers in sorted order.\n",
        "    \"\"\"\n",
        "    # Calculate sum of the arguments\n",
        "    sum_values = a + b + c\n",
        "    # Calculate product of the arguments\n",
        "    product_values = a * b * c\n",
        "    # Sort the arguments and put them in a list\n",
        "    sorted_list = sorted([a, b, c])\n",
        "\n",
        "    return sum_values, product_values, sorted_list\n",
        "\n",
        "# Test cases to verify the functionality of func8\n",
        "test_cases = [\n",
        "    (10, 5),  # two positive numbers, default c\n",
        "    (1, 2, 3),  # three positive numbers\n",
        "    (-1, -2),  # two negative numbers, default c\n",
        "    (0, 0),  # zeros as input, default c\n",
        "    (1, 1, 1)  # same numbers, no default\n",
        "]\n",
        "\n",
        "# Run tests and print results\n",
        "test_results = {str(case): func8(*case) for case in test_cases}\n",
        "print(test_results)\n"
      ],
      "metadata": {
        "colab": {
          "base_uri": "https://localhost:8080/"
        },
        "id": "R1ZT2Rx_93FA",
        "outputId": "d396343a-6028-4d8c-cb29-ca5d38bf8246"
      },
      "execution_count": 5,
      "outputs": [
        {
          "output_type": "stream",
          "name": "stdout",
          "text": [
            "{'(10, 5)': (57, 2100, [5, 10, 42]), '(1, 2, 3)': (6, 6, [1, 2, 3]), '(-1, -2)': (39, 84, [-2, -1, 42]), '(0, 0)': (42, 0, [0, 0, 42]), '(1, 1, 1)': (3, 1, [1, 1, 1])}\n"
          ]
        }
      ]
    }
  ]
}