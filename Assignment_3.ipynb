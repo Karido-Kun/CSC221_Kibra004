{
  "nbformat": 4,
  "nbformat_minor": 0,
  "metadata": {
    "colab": {
      "provenance": [],
      "authorship_tag": "ABX9TyO9uAvyaGkR0aB8JbdoewlU",
      "include_colab_link": true
    },
    "kernelspec": {
      "name": "python3",
      "display_name": "Python 3"
    },
    "language_info": {
      "name": "python"
    }
  },
  "cells": [
    {
      "cell_type": "markdown",
      "metadata": {
        "id": "view-in-github",
        "colab_type": "text"
      },
      "source": [
        "<a href=\"https://colab.research.google.com/github/Karido-Kun/CSC221_Kibra004/blob/main/Assignment_3.ipynb\" target=\"_parent\"><img src=\"https://colab.research.google.com/assets/colab-badge.svg\" alt=\"Open In Colab\"/></a>"
      ]
    },
    {
      "cell_type": "code",
      "execution_count": 1,
      "metadata": {
        "colab": {
          "base_uri": "https://localhost:8080/"
        },
        "id": "pBtxoaOucSTw",
        "outputId": "928a07e3-5672-4100-802b-c09ff6a6b006"
      },
      "outputs": [
        {
          "output_type": "stream",
          "name": "stdout",
          "text": [
            "Hello Kalid. How are your classes. \n"
          ]
        }
      ],
      "source": [
        "# This is TIY 2-1\n",
        "simple_message= \"Kalid\"\n",
        "print(f\"Hello {simple_message}. How are your classes. \")"
      ]
    },
    {
      "cell_type": "code",
      "source": [
        "# This is TIY 2-2\n",
        "message=\"Anime\"\n",
        "print(f\"Hello Kalid I heard you like to watch {message}.\")\n",
        "message=\"Movies\"\n",
        "print(f\"Hello Kalid I heard you like to watch {message}.\")"
      ],
      "metadata": {
        "colab": {
          "base_uri": "https://localhost:8080/"
        },
        "id": "Lx7qWhv6ezNk",
        "outputId": "99fb0d91-91a1-458e-9f67-7e582bf8cd95"
      },
      "execution_count": 4,
      "outputs": [
        {
          "output_type": "stream",
          "name": "stdout",
          "text": [
            "Hello Kalid I heard you like to watch Anime.\n",
            "Hello Kalid I heard you like to watch Movies.\n"
          ]
        }
      ]
    },
    {
      "cell_type": "code",
      "source": [
        "# This is TIY 2-3\n",
        "Name=\"Kalid\"\n",
        "print(f\"Hello {Name} would you like to learn some Python today?\")"
      ],
      "metadata": {
        "colab": {
          "base_uri": "https://localhost:8080/"
        },
        "id": "Cck8tnYqfVUn",
        "outputId": "a83da1bc-fa34-450e-ee9b-0e6a7ce39bf7"
      },
      "execution_count": 5,
      "outputs": [
        {
          "output_type": "stream",
          "name": "stdout",
          "text": [
            "Hello Kalid would you like to learn some Python today?\n"
          ]
        }
      ]
    },
    {
      "cell_type": "code",
      "source": [
        "# This is TIY 2-4\n",
        "Full_name=input(\"Enter Your Full Name \")\n",
        "print(f\"Hello,{Full_name.title()}\")\n",
        "print(f\"Hello,{Full_name.upper()}\")\n",
        "print(f\"Hello,{Full_name.lower()}\")"
      ],
      "metadata": {
        "colab": {
          "base_uri": "https://localhost:8080/"
        },
        "id": "mTMEniIwrBuV",
        "outputId": "f3b33064-da5e-4d48-d157-5c0a3c070ab5"
      },
      "execution_count": 6,
      "outputs": [
        {
          "output_type": "stream",
          "name": "stdout",
          "text": [
            "Enter Your Full Name Kalid Ibrahim\n",
            "Hello,Kalid Ibrahim\n",
            "Hello,KALID IBRAHIM\n",
            "Hello,kalid ibrahim\n"
          ]
        }
      ]
    },
    {
      "cell_type": "code",
      "source": [
        "# This is TIY 2-5\n",
        "Qoute=\"Naruto Uzumaki once said: \\\"If you don't like your density, don't accept it. Instead, have the courage to change it the way you want it to be\\\"\"\n",
        "print(f'{Qoute}')"
      ],
      "metadata": {
        "colab": {
          "base_uri": "https://localhost:8080/"
        },
        "id": "Aurz7ofQxKgu",
        "outputId": "71e66317-cfdf-4191-ab1d-7bfa491861e5"
      },
      "execution_count": 17,
      "outputs": [
        {
          "output_type": "stream",
          "name": "stdout",
          "text": [
            "Naruto Uzumaki once said: \"If you don't like your density, don't accept it. Instead, have the courage to change it the way you want it to be\"\n"
          ]
        }
      ]
    },
    {
      "cell_type": "code",
      "source": [
        "# This is TIY 2-6\n",
        "Famous_person=\"Naruto Uzumaki\"\n",
        "Qoute=f\"{Famous_person} once said: \\\"If you don't like your density, don't accept it. Instead, have the courage to change it the way you want it to be\\\"\"\n",
        "print(f'{Qoute}')"
      ],
      "metadata": {
        "colab": {
          "base_uri": "https://localhost:8080/"
        },
        "id": "CRHuwb-3yFwi",
        "outputId": "a25ccdca-fead-4794-8830-db3aaafc145c"
      },
      "execution_count": 19,
      "outputs": [
        {
          "output_type": "stream",
          "name": "stdout",
          "text": [
            "Naruto Uzumaki once said: \"If you don't like your density, don't accept it. Instead, have the courage to change it the way you want it to be\"\n"
          ]
        }
      ]
    },
    {
      "cell_type": "code",
      "source": [
        "# This is TIY 2-7\n",
        "First_name=\"\\n\\tKalid \"\n",
        "Last_name=\"\\n\\tIbrahim \"\n",
        "print(f'{First_name}{Last_name}')\n",
        "Full_name_left_strip=f\"{First_name.lstrip()}{Last_name.lstrip()}\"\n",
        "Full_name_right_strip=f\"{First_name.rstrip()}{Last_name.rstrip()}\"\n",
        "Full_name_strip=f\"{First_name.strip()}{Last_name.strip()}\"\n",
        "print(Full_name)\n",
        "print(Full_name_left_strip)\n",
        "print(Full_name_right_strip)\n",
        "print(Full_name_strip)"
      ],
      "metadata": {
        "colab": {
          "base_uri": "https://localhost:8080/"
        },
        "id": "Id6XDGXKzUqR",
        "outputId": "634129d2-cc44-48d7-f32d-d73535c9293c"
      },
      "execution_count": 56,
      "outputs": [
        {
          "output_type": "stream",
          "name": "stdout",
          "text": [
            "\n",
            "\tKalid \n",
            "\tIbrahim \n",
            "KalidIbrahim\n",
            "Kalid Ibrahim \n",
            "\n",
            "\tKalid\n",
            "\tIbrahim\n",
            "KalidIbrahim\n"
          ]
        }
      ]
    },
    {
      "cell_type": "code",
      "source": [
        "# This is TIY 2-8\n",
        "File_name='python_notes.txt'\n",
        "print(f\"{File_name.removesuffix('.txt')}\")"
      ],
      "metadata": {
        "colab": {
          "base_uri": "https://localhost:8080/"
        },
        "id": "aKX7V-jP0EX7",
        "outputId": "11ef2653-708e-4214-d9ba-5bc98f4d8508"
      },
      "execution_count": 47,
      "outputs": [
        {
          "output_type": "stream",
          "name": "stdout",
          "text": [
            "python_notes\n"
          ]
        }
      ]
    },
    {
      "cell_type": "code",
      "source": [
        "#This is TIY 2-9\n",
        "print(7+1,10-2,4*2,16/2, sep='\\n')\n",
        "# I have used the separator character(sep='') since you cannot use \\n in a print parenthesis"
      ],
      "metadata": {
        "colab": {
          "base_uri": "https://localhost:8080/"
        },
        "id": "PQtsE4dh3Zip",
        "outputId": "a1482cd0-8761-4d93-8c7e-3669aca29875"
      },
      "execution_count": 54,
      "outputs": [
        {
          "output_type": "stream",
          "name": "stdout",
          "text": [
            "8\n",
            "8\n",
            "8\n",
            "8.0\n"
          ]
        }
      ]
    },
    {
      "cell_type": "code",
      "source": [
        "Number='3'\n",
        "Favorite_number=f\"My favorite number is {Number}\"\n",
        "print(Favorite_number)"
      ],
      "metadata": {
        "colab": {
          "base_uri": "https://localhost:8080/"
        },
        "id": "6UZ9H_1I8iMk",
        "outputId": "65a5aeba-0059-4b49-f2e3-fedd6236ab8a"
      },
      "execution_count": 55,
      "outputs": [
        {
          "output_type": "stream",
          "name": "stdout",
          "text": [
            "My favorite number is 3\n"
          ]
        }
      ]
    },
    {
      "cell_type": "code",
      "source": [
        "import this"
      ],
      "metadata": {
        "colab": {
          "base_uri": "https://localhost:8080/"
        },
        "id": "UGCQ4Pp_-e4l",
        "outputId": "0cd07601-d858-41a9-f6e5-704ee63fbf34"
      },
      "execution_count": 57,
      "outputs": [
        {
          "output_type": "stream",
          "name": "stdout",
          "text": [
            "The Zen of Python, by Tim Peters\n",
            "\n",
            "Beautiful is better than ugly.\n",
            "Explicit is better than implicit.\n",
            "Simple is better than complex.\n",
            "Complex is better than complicated.\n",
            "Flat is better than nested.\n",
            "Sparse is better than dense.\n",
            "Readability counts.\n",
            "Special cases aren't special enough to break the rules.\n",
            "Although practicality beats purity.\n",
            "Errors should never pass silently.\n",
            "Unless explicitly silenced.\n",
            "In the face of ambiguity, refuse the temptation to guess.\n",
            "There should be one-- and preferably only one --obvious way to do it.\n",
            "Although that way may not be obvious at first unless you're Dutch.\n",
            "Now is better than never.\n",
            "Although never is often better than *right* now.\n",
            "If the implementation is hard to explain, it's a bad idea.\n",
            "If the implementation is easy to explain, it may be a good idea.\n",
            "Namespaces are one honking great idea -- let's do more of those!\n"
          ]
        }
      ]
    }
  ]
}