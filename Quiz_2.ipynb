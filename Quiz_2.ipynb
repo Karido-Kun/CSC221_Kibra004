{
  "nbformat": 4,
  "nbformat_minor": 0,
  "metadata": {
    "colab": {
      "provenance": [],
      "authorship_tag": "ABX9TyOqYGlwOafwFQNFQjxVVuN2",
      "include_colab_link": true
    },
    "kernelspec": {
      "name": "python3",
      "display_name": "Python 3"
    },
    "language_info": {
      "name": "python"
    }
  },
  "cells": [
    {
      "cell_type": "markdown",
      "metadata": {
        "id": "view-in-github",
        "colab_type": "text"
      },
      "source": [
        "<a href=\"https://colab.research.google.com/github/Karido-Kun/CSC221_Kibra004/blob/main/Quiz_2.ipynb\" target=\"_parent\"><img src=\"https://colab.research.google.com/assets/colab-badge.svg\" alt=\"Open In Colab\"/></a>"
      ]
    },
    {
      "cell_type": "code",
      "execution_count": null,
      "metadata": {
        "colab": {
          "base_uri": "https://localhost:8080/"
        },
        "id": "x5tnk3Ie0L4g",
        "outputId": "86f6e3cd-974d-4d89-ae4d-ebfdb8db392b"
      },
      "outputs": [
        {
          "output_type": "stream",
          "name": "stdout",
          "text": [
            "None\n"
          ]
        }
      ],
      "source": [
        "# 1.None\n",
        "# None is used to denote the absence of a value or a null value\n",
        "x = None\n",
        "print(x)  # Outputs: None\n"
      ]
    },
    {
      "cell_type": "code",
      "source": [
        "# 2. break\n",
        "# break is used to exit a loop prematurely\n",
        "for i in range(10):\n",
        "    if i == 5:\n",
        "        break\n",
        "    print(i)  # Outputs: 0 1 2 3 4\n"
      ],
      "metadata": {
        "colab": {
          "base_uri": "https://localhost:8080/"
        },
        "id": "Cdz98ar90cyh",
        "outputId": "59e0983d-ea7b-4618-9af4-81b06aea03ff"
      },
      "execution_count": null,
      "outputs": [
        {
          "output_type": "stream",
          "name": "stdout",
          "text": [
            "0\n",
            "1\n",
            "2\n",
            "3\n",
            "4\n"
          ]
        }
      ]
    },
    {
      "cell_type": "code",
      "source": [
        "# 3.except\n",
        "# except is used to handle exceptions that occur during the execution of try block\n",
        "try:\n",
        "    x = 1 / 0\n",
        "except ZeroDivisionError:\n",
        "    print(\"Cannot divide by zero\")  # Outputs: Cannot divide by zero\n"
      ],
      "metadata": {
        "colab": {
          "base_uri": "https://localhost:8080/"
        },
        "id": "bR7o5md10kRJ",
        "outputId": "3cf38c20-ac19-484a-84cd-eeb879018253"
      },
      "execution_count": null,
      "outputs": [
        {
          "output_type": "stream",
          "name": "stdout",
          "text": [
            "Cannot divide by zero\n"
          ]
        }
      ]
    },
    {
      "cell_type": "code",
      "source": [
        "# 4. in\n",
        "# in is used to check if a value exists within an iterable\n",
        "x = [1, 2, 3]\n",
        "print(2 in x)  # Outputs: True\n"
      ],
      "metadata": {
        "colab": {
          "base_uri": "https://localhost:8080/"
        },
        "id": "UlXOuHWQ0tcY",
        "outputId": "6a9659ec-f546-487c-ccc7-aaf4b6d97a44"
      },
      "execution_count": null,
      "outputs": [
        {
          "output_type": "stream",
          "name": "stdout",
          "text": [
            "True\n"
          ]
        }
      ]
    },
    {
      "cell_type": "code",
      "source": [
        "# 5. raise\n",
        "# raise is used to raise an exception\n",
        "try:\n",
        "    raise ValueError(\"A value error occurred\")\n",
        "except ValueError as e:\n",
        "    print(e)  # Outputs: A value error occurred\n"
      ],
      "metadata": {
        "colab": {
          "base_uri": "https://localhost:8080/"
        },
        "id": "l7kPXVhI01gt",
        "outputId": "1c9931c8-f774-44b4-8eee-beae557fa6cb"
      },
      "execution_count": null,
      "outputs": [
        {
          "output_type": "stream",
          "name": "stdout",
          "text": [
            "A value error occurred\n"
          ]
        }
      ]
    },
    {
      "cell_type": "code",
      "source": [
        "# 6. False\n",
        "# False is a boolean type that represents the false value\n",
        "x = False\n",
        "if x:\n",
        "    print(\"True\")\n",
        "else:\n",
        "    print(\"False\")  # Outputs: False\n"
      ],
      "metadata": {
        "colab": {
          "base_uri": "https://localhost:8080/"
        },
        "id": "dn0N5M4k09Hb",
        "outputId": "3baf09a2-e698-4345-c65c-14d2c6d647c9"
      },
      "execution_count": null,
      "outputs": [
        {
          "output_type": "stream",
          "name": "stdout",
          "text": [
            "False\n"
          ]
        }
      ]
    },
    {
      "cell_type": "code",
      "source": [
        "# 7. await\n",
        "# await is used to suspend execution of a coroutine until it completes\n",
        "import asyncio\n",
        "\n",
        "async def main():\n",
        "    await asyncio.sleep(1)\n",
        "    print(\"Hello after await\")\n",
        "\n",
        "# This would typically be called in an async environment like so: asyncio.run(main())\n"
      ],
      "metadata": {
        "id": "PUzF7XQN1FCQ"
      },
      "execution_count": null,
      "outputs": []
    },
    {
      "cell_type": "code",
      "source": [
        "# 8. else\n",
        "# else is used in conditional statements as a fallback if no previous conditions are met\n",
        "x = 5\n",
        "if x > 10:\n",
        "    print(\"Greater than 10\")\n",
        "else:\n",
        "    print(\"Less or equal to 10\")  # Outputs: Less or equal to 10\n"
      ],
      "metadata": {
        "colab": {
          "base_uri": "https://localhost:8080/"
        },
        "id": "5E8O5b-p1QBy",
        "outputId": "a32eca29-d631-4f10-b000-a97562a4a724"
      },
      "execution_count": null,
      "outputs": [
        {
          "output_type": "stream",
          "name": "stdout",
          "text": [
            "Less or equal to 10\n"
          ]
        }
      ]
    },
    {
      "cell_type": "code",
      "source": [
        "# 9. import\n",
        "# import is used to import modules into a Python script\n",
        "import math\n",
        "print(math.sqrt(16))  # Outputs: 4.0\n"
      ],
      "metadata": {
        "colab": {
          "base_uri": "https://localhost:8080/"
        },
        "id": "r0gJX1R61X47",
        "outputId": "84439ca2-2ab8-4917-ba0b-2aebc94daaeb"
      },
      "execution_count": null,
      "outputs": [
        {
          "output_type": "stream",
          "name": "stdout",
          "text": [
            "4.0\n"
          ]
        }
      ]
    },
    {
      "cell_type": "code",
      "source": [
        "# 10. pass\n",
        "# pass is a null operation -- when it is executed, nothing happens\n",
        "def function():\n",
        "    pass  # No operation occurs here\n"
      ],
      "metadata": {
        "id": "KYyCfR9I1hgb"
      },
      "execution_count": null,
      "outputs": []
    },
    {
      "cell_type": "code",
      "source": [
        "# 11. and\n",
        "# and is a logical operator used to combine conditional statements\n",
        "x = 5\n",
        "print(x > 0 and x < 10)  # Outputs: True"
      ],
      "metadata": {
        "colab": {
          "base_uri": "https://localhost:8080/"
        },
        "id": "lrZr_tMk3JzD",
        "outputId": "f302dabc-f9a2-4a57-b1e6-d39bc743cbbb"
      },
      "execution_count": null,
      "outputs": [
        {
          "output_type": "stream",
          "name": "stdout",
          "text": [
            "True\n"
          ]
        }
      ]
    },
    {
      "cell_type": "code",
      "source": [
        "# 12. continue\n",
        "# continue skips the rest of the code inside a loop for the current iteration\n",
        "for i in range(10):\n",
        "    if i % 2 == 0:\n",
        "        continue  # Skip the print statement for even numbers\n",
        "    print(i)  # Outputs: 1, 3, 5, 7, 9"
      ],
      "metadata": {
        "colab": {
          "base_uri": "https://localhost:8080/"
        },
        "id": "Q6qteDQM16P9",
        "outputId": "e5d790fe-ad16-41d8-b6c5-a70d5d5d14b8"
      },
      "execution_count": null,
      "outputs": [
        {
          "output_type": "stream",
          "name": "stdout",
          "text": [
            "1\n",
            "3\n",
            "5\n",
            "7\n",
            "9\n"
          ]
        }
      ]
    },
    {
      "cell_type": "code",
      "source": [
        "# 13. for\n",
        "\n",
        "# for is used to iterate over a sequence (like a list, tuple, or string)\n",
        "for i in [1, 2, 3]:\n",
        "    print(i)  # Outputs: 1 2 3\n",
        "\n"
      ],
      "metadata": {
        "colab": {
          "base_uri": "https://localhost:8080/"
        },
        "id": "xXvC9KVJ2E_N",
        "outputId": "a487834b-1683-486c-9cc6-54bf5c872f6c"
      },
      "execution_count": null,
      "outputs": [
        {
          "output_type": "stream",
          "name": "stdout",
          "text": [
            "1\n",
            "2\n",
            "3\n"
          ]
        }
      ]
    },
    {
      "cell_type": "code",
      "source": [
        "# 14. lambda\n",
        "\n",
        "# lambda creates an anonymous function\n",
        "x = lambda a : a + 10\n",
        "print(x(5))  # Outputs: 15\n"
      ],
      "metadata": {
        "colab": {
          "base_uri": "https://localhost:8080/"
        },
        "id": "xf0E4wJF2MuJ",
        "outputId": "8bdc4148-a570-4ebc-ef98-b43bb7bf0338"
      },
      "execution_count": null,
      "outputs": [
        {
          "output_type": "stream",
          "name": "stdout",
          "text": [
            "15\n"
          ]
        }
      ]
    },
    {
      "cell_type": "code",
      "source": [
        "# 15. try\n",
        "# try block lets you test a block of code for errors\n",
        "try:\n",
        "    print(1 / 0)\n",
        "except ZeroDivisionError:\n",
        "    print(\"Cannot divide by zero\")  # This will be executed\n",
        "\n"
      ],
      "metadata": {
        "colab": {
          "base_uri": "https://localhost:8080/"
        },
        "id": "2BEbybXB2VQk",
        "outputId": "cdd378a9-fb5c-449b-c873-52e9ec981f1a"
      },
      "execution_count": null,
      "outputs": [
        {
          "output_type": "stream",
          "name": "stdout",
          "text": [
            "Cannot divide by zero\n"
          ]
        }
      ]
    },
    {
      "cell_type": "code",
      "source": [
        "# 16. True\n",
        "# True is a boolean type that represents the true value\n",
        "x = True\n",
        "if x:\n",
        "    print(\"True\")  # Outputs: True\n"
      ],
      "metadata": {
        "colab": {
          "base_uri": "https://localhost:8080/"
        },
        "id": "m6BYHgGs2cOO",
        "outputId": "b0ab359b-8f96-449e-ae23-08c3d48ee3da"
      },
      "execution_count": null,
      "outputs": [
        {
          "output_type": "stream",
          "name": "stdout",
          "text": [
            "True\n"
          ]
        }
      ]
    },
    {
      "cell_type": "code",
      "source": [
        "# 17. class\n",
        "# class is used to define a new user-defined class in Python\n",
        "class MyClass:\n",
        "    x = 5\n",
        "\n",
        "obj = MyClass()\n",
        "print(obj.x)  # Outputs: 5\n"
      ],
      "metadata": {
        "colab": {
          "base_uri": "https://localhost:8080/"
        },
        "id": "tjvtjTWQ2ifb",
        "outputId": "e54c64d3-1456-4311-95e8-93925fba7531"
      },
      "execution_count": null,
      "outputs": [
        {
          "output_type": "stream",
          "name": "stdout",
          "text": [
            "5\n"
          ]
        }
      ]
    },
    {
      "cell_type": "code",
      "source": [
        "# 18. finally\n",
        "\n",
        "# finally block lets you execute code, regardless of the result of try- and except blocks\n",
        "try:\n",
        "    print(1 / 0)\n",
        "except ZeroDivisionError:\n",
        "    print(\"Error\")\n",
        "finally:\n",
        "    print(\"This will execute no matter what\")  # Outputs: Error followed by This will execute no matter what\n"
      ],
      "metadata": {
        "colab": {
          "base_uri": "https://localhost:8080/"
        },
        "id": "d5TSkRmH2n4N",
        "outputId": "94984585-4fc8-49ea-9432-5493e8fc4363"
      },
      "execution_count": null,
      "outputs": [
        {
          "output_type": "stream",
          "name": "stdout",
          "text": [
            "Error\n",
            "This will execute no matter what\n"
          ]
        }
      ]
    },
    {
      "cell_type": "code",
      "source": [
        "# 19. is\n",
        "# is is used to test if two variables refer to the same object\n",
        "x = [1, 2, 3]\n",
        "y = x\n",
        "print(x is y)  # Outputs: True\n"
      ],
      "metadata": {
        "colab": {
          "base_uri": "https://localhost:8080/"
        },
        "id": "r168XC7V2t1A",
        "outputId": "6edab26f-cbdf-4da8-f63c-86ea4b609036"
      },
      "execution_count": null,
      "outputs": [
        {
          "output_type": "stream",
          "name": "stdout",
          "text": [
            "True\n"
          ]
        }
      ]
    },
    {
      "cell_type": "code",
      "source": [
        "# 20. return\n",
        "# return is used to return a value from a function\n",
        "def add(a, b):\n",
        "    return a + b\n",
        "\n",
        "print(add(3, 4))  # Outputs: 7"
      ],
      "metadata": {
        "colab": {
          "base_uri": "https://localhost:8080/"
        },
        "id": "0DRLK_iB20ai",
        "outputId": "dba8e7f0-0b4d-4520-c285-4c1cbc099339"
      },
      "execution_count": null,
      "outputs": [
        {
          "output_type": "stream",
          "name": "stdout",
          "text": [
            "7\n"
          ]
        }
      ]
    },
    {
      "cell_type": "code",
      "source": [
        "# 21. as\n",
        "\n",
        "# as is used to create an alias when importing a module or in exception handling\n",
        "import math as m\n",
        "print(m.sqrt(16))  # Outputs: 4.0\n",
        "\n",
        "try:\n",
        "    x = 1 / 0\n",
        "except ZeroDivisionError as e:\n",
        "    print(e)  # Outputs: division by zero"
      ],
      "metadata": {
        "id": "wrRof2_53csJ",
        "colab": {
          "base_uri": "https://localhost:8080/"
        },
        "outputId": "519d857b-23c4-4454-a91a-0405e9395cf5"
      },
      "execution_count": 38,
      "outputs": [
        {
          "output_type": "stream",
          "name": "stdout",
          "text": [
            "4.0\n",
            "division by zero\n"
          ]
        }
      ]
    },
    {
      "cell_type": "code",
      "source": [
        "# 22. def\n",
        "# def is used to define a function\n",
        "def greet(name):\n",
        "    return f\"Hello, {name}!\"\n",
        "\n",
        "print(greet(\"Alice\"))  # Outputs: Hello, Alice!\n"
      ],
      "metadata": {
        "colab": {
          "base_uri": "https://localhost:8080/"
        },
        "id": "JX_j5ETY3uf2",
        "outputId": "756ab537-5d11-4871-c661-60be7aee2d67"
      },
      "execution_count": null,
      "outputs": [
        {
          "output_type": "stream",
          "name": "stdout",
          "text": [
            "Hello, Alice!\n"
          ]
        }
      ]
    },
    {
      "cell_type": "code",
      "source": [
        "# 23. from\n",
        "\n",
        "# from is used to import specific parts of a module\n",
        "from math import sqrt\n",
        "print(sqrt(25))  # Outputs: 5.0\n"
      ],
      "metadata": {
        "colab": {
          "base_uri": "https://localhost:8080/"
        },
        "id": "lkUDm7SQ3zdw",
        "outputId": "80ac9ca8-abf0-4e02-9a80-8deb47da6457"
      },
      "execution_count": null,
      "outputs": [
        {
          "output_type": "stream",
          "name": "stdout",
          "text": [
            "5.0\n"
          ]
        }
      ]
    },
    {
      "cell_type": "code",
      "source": [
        "# 24. nonlocal\n",
        "\n",
        "# nonlocal is used to work with variables inside nested functions\n",
        "def outer():\n",
        "    x = \"local\"\n",
        "    def inner():\n",
        "        nonlocal x\n",
        "        x = \"nonlocal\"\n",
        "    inner()\n",
        "    return x\n",
        "\n",
        "print(outer())  # Outputs: nonlocal"
      ],
      "metadata": {
        "colab": {
          "base_uri": "https://localhost:8080/"
        },
        "id": "FNA9k60w34So",
        "outputId": "bf749100-fd40-4cd2-a2fa-6eb75b1150ca"
      },
      "execution_count": null,
      "outputs": [
        {
          "output_type": "stream",
          "name": "stdout",
          "text": [
            "nonlocal\n"
          ]
        }
      ]
    },
    {
      "cell_type": "code",
      "source": [
        "# 25. while\n",
        "\n",
        "# while is used for loops that continue until a condition is no longer true\n",
        "x = 0\n",
        "while x < 5:\n",
        "    print(x)\n",
        "    x += 1  # Outputs: 0 1 2 3 4\n"
      ],
      "metadata": {
        "colab": {
          "base_uri": "https://localhost:8080/"
        },
        "id": "qaTTUH414EAT",
        "outputId": "d96a4717-282c-41ae-dc67-4a7952ec1223"
      },
      "execution_count": null,
      "outputs": [
        {
          "output_type": "stream",
          "name": "stdout",
          "text": [
            "0\n",
            "1\n",
            "2\n",
            "3\n",
            "4\n"
          ]
        }
      ]
    },
    {
      "cell_type": "code",
      "source": [
        "# 26. async\n",
        "\n",
        "# async is used to declare a coroutine, which is a type of asynchronous function\n",
        "import asyncio\n",
        "\n",
        "async def my_coroutine():\n",
        "    await asyncio.sleep(1)\n",
        "    return \"Finished after delay\"\n",
        "\n",
        "# Typically used like so: asyncio.run(my_coroutine())"
      ],
      "metadata": {
        "id": "roadXFZL4Nkp"
      },
      "execution_count": null,
      "outputs": []
    },
    {
      "cell_type": "code",
      "source": [
        "# 27. elif\n",
        "\n",
        "# elif is used in conditional statements, as part of an if statement\n",
        "x = 20\n",
        "if x < 10:\n",
        "    print(\"Less than 10\")\n",
        "elif x < 20:\n",
        "    print(\"Between 10 and 20\")\n",
        "else:\n",
        "    print(\"20 or more\")  # Outputs: 20 or more\n"
      ],
      "metadata": {
        "colab": {
          "base_uri": "https://localhost:8080/"
        },
        "id": "p-dBA20K4VaA",
        "outputId": "a87c75d2-4649-4c3b-a137-eb25bf72eab2"
      },
      "execution_count": null,
      "outputs": [
        {
          "output_type": "stream",
          "name": "stdout",
          "text": [
            "20 or more\n"
          ]
        }
      ]
    },
    {
      "cell_type": "code",
      "source": [
        "# 28. if\n",
        "\n",
        "# if is used to make a decision in code\n",
        "x = 7\n",
        "if x > 5:\n",
        "    print(\"Greater than 5\")  # Outputs: Greater than 5\n"
      ],
      "metadata": {
        "colab": {
          "base_uri": "https://localhost:8080/"
        },
        "id": "sqyYdK1G4b8r",
        "outputId": "33d9769b-4dc2-4864-a464-fbe7b6ad31b5"
      },
      "execution_count": null,
      "outputs": [
        {
          "output_type": "stream",
          "name": "stdout",
          "text": [
            "Greater than 5\n"
          ]
        }
      ]
    },
    {
      "cell_type": "code",
      "source": [
        "# 29. not\n",
        "\n",
        "# not is a logical operator used to invert the truth value\n",
        "x = False\n",
        "if not x:\n",
        "    print(\"x is False\")  # Outputs: x is False\n"
      ],
      "metadata": {
        "colab": {
          "base_uri": "https://localhost:8080/"
        },
        "id": "5SfeLQmd4hON",
        "outputId": "5bb74e3b-ad83-46d5-92e1-f8b3c4c51a9e"
      },
      "execution_count": null,
      "outputs": [
        {
          "output_type": "stream",
          "name": "stdout",
          "text": [
            "x is False\n"
          ]
        }
      ]
    },
    {
      "cell_type": "code",
      "source": [
        "# 30. with\n",
        "\n",
        "# Create a new file and write some text to it\n",
        "with open('/content/sample.txt', 'w') as f:\n",
        "    f.write('Hello, this is a test file.\\n')\n",
        "    f.write('My name is Kalid.')\n",
        "\n",
        "# Confirm the content by reading it back\n",
        "with open('/content/sample.txt', 'r') as f:\n",
        "    content = f.read()\n",
        "    print(content)\n"
      ],
      "metadata": {
        "id": "s1VpnljE4rJU",
        "colab": {
          "base_uri": "https://localhost:8080/"
        },
        "outputId": "9a49d14f-bbbd-45ee-b9ee-e3f7aede86bf"
      },
      "execution_count": 37,
      "outputs": [
        {
          "output_type": "stream",
          "name": "stdout",
          "text": [
            "Hello, this is a test file.\n",
            "My name is Kalid.\n"
          ]
        }
      ]
    },
    {
      "cell_type": "code",
      "source": [
        "# 31. assert\n",
        "# assert is used for debugging purposes to check if a condition is True\n",
        "x = 1\n",
        "assert x > 0  # If condition is False, it raises an AssertionError"
      ],
      "metadata": {
        "id": "nhkCkYWX53J4"
      },
      "execution_count": 43,
      "outputs": []
    },
    {
      "cell_type": "code",
      "source": [
        "# 32. del\n",
        "# del is used to delete objects\n",
        "x = [1, 2, 3]\n",
        "del x[1]\n",
        "print(x)  # Outputs: [1, 3]\n"
      ],
      "metadata": {
        "colab": {
          "base_uri": "https://localhost:8080/"
        },
        "id": "GaKIcIS36WXD",
        "outputId": "77516a20-c66e-4c77-c3ae-7947fcbbf30d"
      },
      "execution_count": 39,
      "outputs": [
        {
          "output_type": "stream",
          "name": "stdout",
          "text": [
            "[1, 3]\n"
          ]
        }
      ]
    },
    {
      "cell_type": "code",
      "source": [
        "# 33. global\n",
        "# global is used to declare that a variable inside a function is global\n",
        "x = 5\n",
        "def change():\n",
        "    global x\n",
        "    x = 10\n",
        "change()\n",
        "print(x)  # Outputs: 10"
      ],
      "metadata": {
        "colab": {
          "base_uri": "https://localhost:8080/"
        },
        "id": "sIdRCl3b6cHU",
        "outputId": "48fcf074-5c61-437a-eaa6-0eead85a9bff"
      },
      "execution_count": 40,
      "outputs": [
        {
          "output_type": "stream",
          "name": "stdout",
          "text": [
            "10\n"
          ]
        }
      ]
    },
    {
      "cell_type": "code",
      "source": [
        "# 34. or\n",
        "# or is a logical operator that returns True if one of the statements is true\n",
        "x = False\n",
        "y = True\n",
        "print(x or y)  # Outputs: True\n"
      ],
      "metadata": {
        "colab": {
          "base_uri": "https://localhost:8080/"
        },
        "id": "htm4zQGX6huU",
        "outputId": "3f863f44-ab69-46a3-bbd3-1d48ee8c9725"
      },
      "execution_count": 41,
      "outputs": [
        {
          "output_type": "stream",
          "name": "stdout",
          "text": [
            "True\n"
          ]
        }
      ]
    },
    {
      "cell_type": "code",
      "source": [
        "# 35. yield\n",
        "\n",
        "# yield is used in a function like return, except the function will return a generator\n",
        "def count_up_to(max):\n",
        "    count = 1\n",
        "    while count <= max:\n",
        "        yield count\n",
        "        count += 1\n",
        "\n",
        "counter = count_up_to(3)\n",
        "print(next(counter))  # Outputs: 1\n",
        "print(next(counter))  # Outputs: 2\n",
        "print(next(counter))  # Outputs: 3"
      ],
      "metadata": {
        "colab": {
          "base_uri": "https://localhost:8080/"
        },
        "id": "myQ6nBYs6nwQ",
        "outputId": "13ba5975-4058-4a55-f67e-8bfae1c266bf"
      },
      "execution_count": 42,
      "outputs": [
        {
          "output_type": "stream",
          "name": "stdout",
          "text": [
            "1\n",
            "2\n",
            "3\n"
          ]
        }
      ]
    }
  ]
}