{
  "nbformat": 4,
  "nbformat_minor": 0,
  "metadata": {
    "colab": {
      "provenance": [],
      "authorship_tag": "ABX9TyM8lSNsv1JCY547KlOg4drf",
      "include_colab_link": true
    },
    "kernelspec": {
      "name": "python3",
      "display_name": "Python 3"
    },
    "language_info": {
      "name": "python"
    }
  },
  "cells": [
    {
      "cell_type": "markdown",
      "metadata": {
        "id": "view-in-github",
        "colab_type": "text"
      },
      "source": [
        "<a href=\"https://colab.research.google.com/github/Karido-Kun/CSC221_Kibra004/blob/main/Assignment_9_10.ipynb\" target=\"_parent\"><img src=\"https://colab.research.google.com/assets/colab-badge.svg\" alt=\"Open In Colab\"/></a>"
      ]
    },
    {
      "cell_type": "code",
      "source": [
        "# This function takes a string of text as input and returns the frequency of each word.\n",
        "\n",
        "def word_frequency(text):\n",
        "    \"\"\"\n",
        "    Calculate the frequency of each word in the given text.\n",
        "\n",
        "    Parameters:\n",
        "    text (str): The input text to analyze.\n",
        "\n",
        "    Returns:\n",
        "    dict: A dictionary with words as keys and their frequencies as values.\n",
        "    \"\"\"\n",
        "    from collections import Counter\n",
        "    words = text.split()\n",
        "    frequency = Counter(words)\n",
        "    return frequency\n",
        "\n",
        "\n",
        "# Test cases\n",
        "assert word_frequency(\"hello world hello\") == {\"hello\": 2, \"world\": 1}\n",
        "assert word_frequency(\"test this test\") == {\"test\": 2, \"this\": 1}\n"
      ],
      "metadata": {
        "id": "oO5nSyY2TmT_"
      },
      "execution_count": 12,
      "outputs": []
    },
    {
      "cell_type": "code",
      "source": [
        "# This function takes a list of numbers and returns the mean, median, and mode.\n",
        "\n",
        "def basic_statistics(numbers):\n",
        "    \"\"\"\n",
        "    Calculate the mean, median, and mode of a list of numbers.\n",
        "\n",
        "    Parameters:\n",
        "    numbers (list): The list of numbers to analyze.\n",
        "\n",
        "    Returns:\n",
        "    tuple: A tuple containing the mean, median, and mode.\n",
        "    \"\"\"\n",
        "    from statistics import mean, median, mode\n",
        "    return mean(numbers), median(numbers), mode(numbers)\n",
        "\n",
        "# Test cases\n",
        "assert basic_statistics([1, 2, 2, 3, 4]) == (2.4, 2, 2)\n",
        "assert basic_statistics([5, 5, 5, 5, 5]) == (5, 5, 5)\n"
      ],
      "metadata": {
        "id": "DVDJhD-EU9Gn"
      },
      "execution_count": 13,
      "outputs": []
    },
    {
      "cell_type": "code",
      "source": [
        "#This function takes a variable number of arguments and returns their sum.\n",
        "\n",
        "def sum_var_args(*args):\n",
        "    \"\"\"\n",
        "    Calculate the sum of a variable number of arguments.\n",
        "\n",
        "    Parameters:\n",
        "    *args: Variable number of arguments.\n",
        "\n",
        "    Returns:\n",
        "    int/float: The sum of the arguments.\n",
        "    \"\"\"\n",
        "    return sum(args)\n",
        "\n",
        "# Test cases\n",
        "assert sum_var_args(1, 2, 3) == 6\n",
        "assert sum_var_args(10, 20, 30, 40) == 100\n"
      ],
      "metadata": {
        "id": "GiF2rq5PWWfR"
      },
      "execution_count": 14,
      "outputs": []
    },
    {
      "cell_type": "code",
      "source": [
        "# This function takes a list of strings and returns them sorted alphabetically.\n",
        "\n",
        "\n",
        "def sort_strings(strings):\n",
        "    \"\"\"\n",
        "    Sort a list of strings alphabetically.\n",
        "\n",
        "    Parameters:\n",
        "    strings (list): The list of strings to sort.\n",
        "\n",
        "    Returns:\n",
        "    list: The sorted list of strings.\n",
        "    \"\"\"\n",
        "    return sorted(strings)\n",
        "\n",
        "# Test cases\n",
        "assert sort_strings([\"banana\", \"apple\", \"cherry\"]) == [\"apple\", \"banana\", \"cherry\"]\n",
        "assert sort_strings([\"dog\", \"cat\", \"elephant\"]) == [\"cat\", \"dog\", \"elephant\"]\n",
        "\n"
      ],
      "metadata": {
        "id": "pFuGeM5MWeSi"
      },
      "execution_count": 15,
      "outputs": []
    },
    {
      "cell_type": "code",
      "source": [
        "# This function takes a string and returns the frequency of each character using a dictionary.\n",
        "\n",
        "def char_frequency(text):\n",
        "    \"\"\"\n",
        "    Calculate the frequency of each character in the given text.\n",
        "\n",
        "    Parameters:\n",
        "    text (str): The input text to analyze.\n",
        "\n",
        "    Returns:\n",
        "    dict: A dictionary with characters as keys and their frequencies as values.\n",
        "    \"\"\"\n",
        "    from collections import Counter\n",
        "    return dict(Counter(text))\n",
        "\n",
        "# Test cases\n",
        "assert char_frequency(\"hello\") == {\"h\": 1, \"e\": 1, \"l\": 2, \"o\": 1}\n",
        "assert char_frequency(\"mississippi\") == {\"m\": 1, \"i\": 4, \"s\": 4, \"p\": 2}\n"
      ],
      "metadata": {
        "id": "baUIZSFcWnnP"
      },
      "execution_count": 17,
      "outputs": []
    },
    {
      "cell_type": "code",
      "source": [
        "# This function implements a simple number guessing game.\n",
        "\n",
        "import random\n",
        "\n",
        "def guessing_game(lower, upper):\n",
        "    \"\"\"\n",
        "    A simple number guessing game.\n",
        "\n",
        "    Parameters:\n",
        "    lower (int): The lower bound of the range.\n",
        "    upper (int): The upper bound of the range.\n",
        "\n",
        "    Returns:\n",
        "    int: The correct number guessed.\n",
        "    \"\"\"\n",
        "    number = random.randint(lower, upper)\n",
        "    guess = None\n",
        "    while guess != number:\n",
        "        guess = int(input(f\"Guess a number between {lower} and {upper}: \"))\n",
        "        if guess < number:\n",
        "            print(\"Too low!\")\n",
        "        elif guess > number:\n",
        "            print(\"Too high!\")\n",
        "    print(\"Correct!\")\n",
        "    return number\n"
      ],
      "metadata": {
        "id": "LWfrh6M8W04E"
      },
      "execution_count": 23,
      "outputs": []
    },
    {
      "cell_type": "code",
      "source": [
        "# This function calculates the factorial of a given number.\n",
        "\n",
        "def factorial(n):\n",
        "    \"\"\"\n",
        "    Calculate the factorial of a given number.\n",
        "\n",
        "    Parameters:\n",
        "    n (int): The number to calculate the factorial of.\n",
        "\n",
        "    Returns:\n",
        "    int: The factorial of the number.\n",
        "    \"\"\"\n",
        "    if n == 0:\n",
        "        return 1\n",
        "    else:\n",
        "        return n * factorial(n - 1)\n",
        "\n",
        "# Test cases\n",
        "assert factorial(5) == 120\n",
        "assert factorial(0) == 1\n"
      ],
      "metadata": {
        "id": "WtQrppneXzVl"
      },
      "execution_count": 24,
      "outputs": []
    },
    {
      "cell_type": "code",
      "source": [
        "# This function evaluates a polynomial for a given value of x.\n",
        "\n",
        "def evaluate_polynomial(coefficients, x):\n",
        "    \"\"\"\n",
        "    Evaluate a polynomial at a given value of x.\n",
        "\n",
        "    Parameters:\n",
        "    coefficients (list): List of coefficients (from highest degree to lowest).\n",
        "    x (int/float): The value at which to evaluate the polynomial.\n",
        "\n",
        "    Returns:\n",
        "    int/float: The result of the polynomial evaluation.\n",
        "    \"\"\"\n",
        "    result = 0\n",
        "    for i, coef in enumerate(coefficients):\n",
        "        result += coef * (x ** (len(coefficients) - i - 1))\n",
        "    return result\n",
        "\n",
        "\n",
        "# Test cases\n",
        "assert evaluate_polynomial([1, 0, -2], 3) == 7  # x^2 - 2 at x=3\n",
        "assert evaluate_polynomial([2, -1, 0, 3], 2) == 15  # 2x^3 - x^2 + 3 at x=2\n"
      ],
      "metadata": {
        "id": "3VhE6nfYX9kS"
      },
      "execution_count": 26,
      "outputs": []
    },
    {
      "cell_type": "code",
      "source": [
        "# This function creates a simple bar chart using matplotlib.\n",
        "import matplotlib.pyplot as plt\n",
        "\n",
        "def create_bar_chart(data, title):\n",
        "    \"\"\"\n",
        "    Create a bar chart with the given data and title.\n",
        "\n",
        "    Parameters:\n",
        "    data (dict): The data for the bar chart (keys as labels, values as heights).\n",
        "    title (str): The title of the bar chart.\n",
        "\n",
        "    Returns:\n",
        "    None\n",
        "    \"\"\"\n",
        "    labels = list(data.keys())\n",
        "    heights = list(data.values())\n",
        "    plt.bar(labels, heights)\n",
        "    plt.title(title)\n",
        "    plt.show()\n",
        "\n",
        "# Test cases are visual, so no assert statements.\n",
        "# Example usage:\n",
        "create_bar_chart({'A': 5, 'B': 3, 'C': 7}, 'Sample Bar Chart')\n"
      ],
      "metadata": {
        "colab": {
          "base_uri": "https://localhost:8080/",
          "height": 452
        },
        "id": "KYH0knW1Ycqu",
        "outputId": "29b27671-d1e3-418d-9f48-9c1de8a35a71"
      },
      "execution_count": 27,
      "outputs": [
        {
          "output_type": "display_data",
          "data": {
            "text/plain": [
              "<Figure size 640x480 with 1 Axes>"
            ],
            "image/png": "[encoded data removed]"
          },
          "metadata": {}
        }
      ]
    },
    {
      "cell_type": "code",
      "source": [
        "# This function takes a string and returns it reversed.\n",
        "\n",
        "def reverse_string(s):\n",
        "    \"\"\"\n",
        "    Reverse the order of characters in a string.\n",
        "\n",
        "    Parameters:\n",
        "    text (str): The input string to reverse.\n",
        "\n",
        "    Returns:\n",
        "    str: The reversed string.\n",
        "    \"\"\"\n",
        "    return s[::-1]\n",
        "\n",
        "# Test cases\n",
        "assert reverse_string(\"hello\") == \"olleh\"\n",
        "assert reverse_string(\"world\") == \"dlrow\"\n"
      ],
      "metadata": {
        "id": "V27wOFqvYi6n"
      },
      "execution_count": 28,
      "outputs": []
    }
  ]
}