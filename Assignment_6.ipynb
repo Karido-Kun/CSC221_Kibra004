{
  "nbformat": 4,
  "nbformat_minor": 0,
  "metadata": {
    "colab": {
      "provenance": [],
      "authorship_tag": "ABX9TyMa6/fPkdB32zkV2wZq8BSk",
      "include_colab_link": true
    },
    "kernelspec": {
      "name": "python3",
      "display_name": "Python 3"
    },
    "language_info": {
      "name": "python"
    }
  },
  "cells": [
    {
      "cell_type": "markdown",
      "metadata": {
        "id": "view-in-github",
        "colab_type": "text"
      },
      "source": [
        "<a href=\"https://colab.research.google.com/github/Karido-Kun/CSC221_Kibra004/blob/main/Assignment_6.ipynb\" target=\"_parent\"><img src=\"https://colab.research.google.com/assets/colab-badge.svg\" alt=\"Open In Colab\"/></a>"
      ]
    },
    {
      "cell_type": "code",
      "execution_count": 2,
      "metadata": {
        "colab": {
          "base_uri": "https://localhost:8080/"
        },
        "id": "HOH4bQ2-F5sA",
        "outputId": "15a831fd-64fb-46f1-b170-fe5bcb8fd324"
      },
      "outputs": [
        {
          "output_type": "stream",
          "name": "stdout",
          "text": [
            "Is car == ram? I predict False\n",
            "False\n",
            "\n",
            "Is pizza topping == pepperoni? I predict True\n",
            "True\n",
            "\n",
            "Is pizza topping == tuna? I predict True\n",
            "False\n",
            "\n",
            "Is car color == red? I predict False\n",
            "True\n",
            "\n",
            "Is outside == cold? I  predict True\n",
            "True\n",
            "\n",
            "Is outside == hot? I  predict False\n",
            "False\n",
            "\n",
            "Is the person == tired? I  predict True\n",
            "True\n",
            "\n",
            "Is the window == broken? I  predict False\n",
            "True\n",
            "\n",
            "Is the juice == mango? I predict True\n",
            "False\n",
            "\n",
            "Is the food == spicy? I predict True\n",
            "False\n"
          ]
        }
      ],
      "source": [
        "car = 'ford'\n",
        "print(\"Is car == ram? I predict False\")\n",
        "print(car == 'ram')\n",
        "\n",
        "topping ='pepperoni'\n",
        "print(\"\\nIs pizza topping == pepperoni? I predict True\")\n",
        "print(topping =='pepperoni')\n",
        "\n",
        "topping ='pepperoni'\n",
        "print(\"\\nIs pizza topping == tuna? I predict True\")\n",
        "print(topping =='tuna')\n",
        "\n",
        "car_color ='red'\n",
        "print(\"\\nIs car color == red? I predict False\")\n",
        "print(car_color =='red')\n",
        "\n",
        "outside ='cold'\n",
        "print(\"\\nIs outside == cold? I  predict True\")\n",
        "print(outside =='cold')\n",
        "\n",
        "outside ='cold'\n",
        "print(\"\\nIs outside == hot? I  predict False\")\n",
        "print(outside =='Hot')\n",
        "\n",
        "person ='tired'\n",
        "print(\"\\nIs the person == tired? I  predict True\")\n",
        "print(person =='tired')\n",
        "\n",
        "window ='broken'\n",
        "print(\"\\nIs the window == broken? I  predict False\")\n",
        "print(window =='broken')\n",
        "\n",
        "juice ='pineapple'\n",
        "print(\"\\nIs the juice == mango? I predict True\")\n",
        "print(juice =='mango')\n",
        "\n",
        "food = 'sweet'\n",
        "print(\"\\nIs the food == spicy? I predict True\")\n",
        "print(food =='spicy')\n"
      ]
    },
    {
      "cell_type": "code",
      "source": [
        "#Equality\n",
        "hat = 'red'\n",
        "hat == 'red'"
      ],
      "metadata": {
        "colab": {
          "base_uri": "https://localhost:8080/"
        },
        "id": "oBoHbj8oGBMv",
        "outputId": "e13e3cee-307b-41c5-ad37-2978ebf915c7"
      },
      "execution_count": 3,
      "outputs": [
        {
          "output_type": "execute_result",
          "data": {
            "text/plain": [
              "True"
            ]
          },
          "metadata": {},
          "execution_count": 3
        }
      ]
    },
    {
      "cell_type": "code",
      "source": [
        "#Inequality\n",
        "topping = 'pepperoni'\n",
        "topping == 'pineapple'\n",
        ""
      ],
      "metadata": {
        "colab": {
          "base_uri": "https://localhost:8080/"
        },
        "id": "jdZcw2ZRGFCD",
        "outputId": "da09396b-9614-43fe-de93-96ea87a5e9d8"
      },
      "execution_count": 4,
      "outputs": [
        {
          "output_type": "execute_result",
          "data": {
            "text/plain": [
              "False"
            ]
          },
          "metadata": {},
          "execution_count": 4
        }
      ]
    },
    {
      "cell_type": "code",
      "source": [
        "#lower method\n",
        "person_name = 'Orlando'\n",
        "person_name.lower() == 'orlando'"
      ],
      "metadata": {
        "colab": {
          "base_uri": "https://localhost:8080/"
        },
        "id": "R2zLGc_1GISQ",
        "outputId": "96f3da0c-f10c-43c4-aa9b-25c959e45116"
      },
      "execution_count": 5,
      "outputs": [
        {
          "output_type": "execute_result",
          "data": {
            "text/plain": [
              "True"
            ]
          },
          "metadata": {},
          "execution_count": 5
        }
      ]
    },
    {
      "cell_type": "code",
      "source": [
        "#numerical test\n",
        "age = 20\n",
        "age == 20\n",
        "age < 21\n",
        "age <= 21\n",
        "age > 19\n",
        "age >= 19"
      ],
      "metadata": {
        "colab": {
          "base_uri": "https://localhost:8080/"
        },
        "id": "QUw3dX6fGLpU",
        "outputId": "868a2048-ee67-4499-edb8-da22d747b063"
      },
      "execution_count": 6,
      "outputs": [
        {
          "output_type": "execute_result",
          "data": {
            "text/plain": [
              "True"
            ]
          },
          "metadata": {},
          "execution_count": 6
        }
      ]
    },
    {
      "cell_type": "code",
      "source": [
        "#test using the and keyword and or keyword\n",
        "mitsubishi = 'red'\n",
        "toyota = 'blue'\n",
        "mitsubishi == 'yellow' and toyota == 'blue'\n",
        "mitsubishi == 'yellow' or toyota == 'blue'"
      ],
      "metadata": {
        "colab": {
          "base_uri": "https://localhost:8080/"
        },
        "id": "HR2kI-HOGPOJ",
        "outputId": "a1a98641-3aef-4b2c-ac8f-d24fd4d52d93"
      },
      "execution_count": 7,
      "outputs": [
        {
          "output_type": "execute_result",
          "data": {
            "text/plain": [
              "True"
            ]
          },
          "metadata": {},
          "execution_count": 7
        }
      ]
    },
    {
      "cell_type": "code",
      "source": [
        "#test whether item is in list\n",
        "car_year = [2005, 2009, 2010, 2019]\n",
        "2009 in car_year"
      ],
      "metadata": {
        "colab": {
          "base_uri": "https://localhost:8080/"
        },
        "id": "wH63GFxiGSEc",
        "outputId": "ee6a7e48-a34d-4cb5-871e-ec3fe75585e0"
      },
      "execution_count": 8,
      "outputs": [
        {
          "output_type": "execute_result",
          "data": {
            "text/plain": [
              "True"
            ]
          },
          "metadata": {},
          "execution_count": 8
        }
      ]
    },
    {
      "cell_type": "code",
      "source": [
        "#test whether item is not is in list\n",
        "days_off = ['Wednesday', 'Saturday', 'Sunday']\n",
        "day = 'Monday'\n",
        "if day not in days_off:\n",
        "  print(f\"You do not have {day.title()} off\")"
      ],
      "metadata": {
        "colab": {
          "base_uri": "https://localhost:8080/"
        },
        "id": "DBMnAiUAGUoL",
        "outputId": "31b269e5-9985-4355-c737-8f83e10f26fd"
      },
      "execution_count": 9,
      "outputs": [
        {
          "output_type": "stream",
          "name": "stdout",
          "text": [
            "You do not have Monday off\n"
          ]
        }
      ]
    },
    {
      "cell_type": "code",
      "source": [
        "alien_color = 'green'\n",
        "if alien_color == 'green':\n",
        "  print('You just earned 5 points!')\n",
        ""
      ],
      "metadata": {
        "colab": {
          "base_uri": "https://localhost:8080/"
        },
        "id": "qpLCBe_3GX5A",
        "outputId": "62402e87-a726-4a6c-a40f-cdbcdf059656"
      },
      "execution_count": 10,
      "outputs": [
        {
          "output_type": "stream",
          "name": "stdout",
          "text": [
            "You just earned 5 points!\n"
          ]
        }
      ]
    },
    {
      "cell_type": "code",
      "source": [
        "alien_color = 'yellow'\n",
        "if alien_color == 'green':\n",
        "  print('You just earned 5 points!')"
      ],
      "metadata": {
        "id": "nu8n1-VSGaxi"
      },
      "execution_count": 12,
      "outputs": []
    },
    {
      "cell_type": "code",
      "source": [
        "age = 20\n",
        "if age < 2:\n",
        "  print('Person is a baby')\n",
        "elif (age >= 2) and (age < 4):\n",
        "  print('Person is a toddler')\n",
        "elif (age >= 4) and (age < 13):\n",
        "  print('Person is a kid')\n",
        "elif (age >= 13) and (age < 20):\n",
        "  print('Person is a teenager')\n",
        "elif (age >= 20) and (age < 65):\n",
        "  print('Person is an adult')\n",
        "else:\n",
        "  print('Person is an elder')\n",
        ""
      ],
      "metadata": {
        "colab": {
          "base_uri": "https://localhost:8080/"
        },
        "id": "Pgi7Fh9AGgDh",
        "outputId": "62a77163-0454-4e93-fb5b-1ca2b08af9c9"
      },
      "execution_count": 13,
      "outputs": [
        {
          "output_type": "stream",
          "name": "stdout",
          "text": [
            "Person is an adult\n"
          ]
        }
      ]
    },
    {
      "cell_type": "code",
      "source": [
        "#Create a program that stores the type of pizza that someone orders and tells the cook what not to put and what to put on it\n",
        "toppings_available=['pepperoni', 'cheese', 'anchovies', 'peppers', 'onions', 'olives', 'pineapple', 'chicken', 'ham']\n",
        "sizes_available=['small, medium, large']\n",
        "cheeses_available=['mozzarella, cheddar, american, provolone']\n",
        "customer_size=input('Enter your requested size(small, medium, or large)')\n",
        "sizes=[]\n",
        "sizes.append(customer_size)\n",
        "customer_toppings=input('Enter your requested toppings(pepperoni, cheese, anchovies, peppers, onions, olives, pineapple, chicken, or ham) If no more toppings, say none!')\n",
        "toppings=[]\n",
        "toppings.append(customer_toppings)\n",
        "customer_cheeses=input('Enter your requested cheeses(mozzarella, cheddar, american, provolone)')\n",
        "cheeses=[]\n",
        "cheeses.append(customer_cheeses)\n",
        "for size in sizes:\n",
        "  print(f'\\nCustomer wants a {size} pizza.')\n",
        "for cheese in cheeses:\n",
        "  print(f'\\nAdd {cheese} on the pizza')\n",
        "for topping in toppings:\n",
        "  print(f'\\nAdd {topping} on the pizza.')\n"
      ],
      "metadata": {
        "colab": {
          "base_uri": "https://localhost:8080/"
        },
        "id": "z9Z-6PQxGlRU",
        "outputId": "bc6667e9-5609-42f5-bf2c-c817b150cff8"
      },
      "execution_count": 14,
      "outputs": [
        {
          "output_type": "stream",
          "name": "stdout",
          "text": [
            "Enter your requested size(small, medium, or large)Large\n",
            "Enter your requested toppings(pepperoni, cheese, anchovies, peppers, onions, olives, pineapple, chicken, or ham) If no more toppings, say none!Cheese\n",
            "Enter your requested cheeses(mozzarella, cheddar, american, provolone)mozzarella\n",
            "\n",
            "Customer wants a Large pizza.\n",
            "\n",
            "Add mozzarella on the pizza\n",
            "\n",
            "Add Cheese on the pizza.\n"
          ]
        }
      ]
    }
  ]
}