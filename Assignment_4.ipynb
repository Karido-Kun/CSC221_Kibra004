{
  "nbformat": 4,
  "nbformat_minor": 0,
  "metadata": {
    "colab": {
      "provenance": [],
      "authorship_tag": "ABX9TyMMzm29Ps+alxrbbaTFk7FL",
      "include_colab_link": true
    },
    "kernelspec": {
      "name": "python3",
      "display_name": "Python 3"
    },
    "language_info": {
      "name": "python"
    }
  },
  "cells": [
    {
      "cell_type": "markdown",
      "metadata": {
        "id": "view-in-github",
        "colab_type": "text"
      },
      "source": [
        "<a href=\"https://colab.research.google.com/github/Karido-Kun/CSC221_Kibra004/blob/main/Assignment_4.ipynb\" target=\"_parent\"><img src=\"https://colab.research.google.com/assets/colab-badge.svg\" alt=\"Open In Colab\"/></a>"
      ]
    },
    {
      "cell_type": "code",
      "execution_count": 4,
      "metadata": {
        "colab": {
          "base_uri": "https://localhost:8080/"
        },
        "id": "n7KccVSubbhZ",
        "outputId": "78cda08b-9263-483d-899d-c16c16ecfd05"
      },
      "outputs": [
        {
          "output_type": "stream",
          "name": "stdout",
          "text": [
            "Teddy\n",
            "Felicia\n",
            "Amen\n",
            "Naji\n",
            "Khushi\n"
          ]
        }
      ],
      "source": [
        "# This is TIY 3-1\n",
        "Friends=['Teddy','Felicia','Amen','Naji','Khushi']\n",
        "print(Friends[0].title())\n",
        "print(Friends[1].title())\n",
        "print(Friends[2].title())\n",
        "print(Friends[3].title())\n",
        "print(Friends[4].title())"
      ]
    },
    {
      "cell_type": "code",
      "source": [
        "# This is TIY 3-2\n",
        "Friends=['Teddy','Felicia','Amen','Naji','Khushi']\n",
        "Message=\"Welcome to Intro to programming class \"\n",
        "print(f'{Message}{Friends[0].title()}')\n",
        "print(f'{Message}{Friends[1].title()}')\n",
        "print(f'{Message}{Friends[2].title()}')\n",
        "print(f'{Message}{Friends[3].title()}')\n",
        "print(f'{Message}{Friends[4].title()}')"
      ],
      "metadata": {
        "colab": {
          "base_uri": "https://localhost:8080/"
        },
        "id": "gSuU26QCeevS",
        "outputId": "e1603ec0-9075-4c3e-9462-6c826bd5b8c8"
      },
      "execution_count": 6,
      "outputs": [
        {
          "output_type": "stream",
          "name": "stdout",
          "text": [
            "Welcome to Intro to programming class Teddy\n",
            "Welcome to Intro to programming class Felicia\n",
            "Welcome to Intro to programming class Amen\n",
            "Welcome to Intro to programming class Naji\n",
            "Welcome to Intro to programming class Khushi\n"
          ]
        }
      ]
    },
    {
      "cell_type": "code",
      "source": [
        "# This is TIY 3-3\n",
        "Cars=['Lamborghini','Rolls Royce','Tesla','BWM']\n",
        "Message=\"I would like to own a \"\n",
        "print(f'{Message}{Cars[0].title()}')\n",
        "print(f'{Message}{Cars[1].title()}')\n",
        "print(f'{Message}{Cars[2].title()}')\n",
        "print(f'{Message}{Cars[3].title()}')"
      ],
      "metadata": {
        "colab": {
          "base_uri": "https://localhost:8080/"
        },
        "id": "yh6RRp21gNH-",
        "outputId": "575a7246-b59e-4ec7-c47d-a007983f2ba9"
      },
      "execution_count": 9,
      "outputs": [
        {
          "output_type": "stream",
          "name": "stdout",
          "text": [
            "I would like to own a Lamborghini\n",
            "I would like to own a Rolls Royce\n",
            "I would like to own a Tesla\n",
            "I would like to own a Bwm\n"
          ]
        }
      ]
    },
    {
      "cell_type": "code",
      "source": [
        "# This is TIY 3-4\n",
        "People=['Naruto','Elon Musk','Luffy','Ronaldo']\n",
        "Message=\"I would like to invite \"\n",
        "print(f'{Message}{People[0].title()} to a dinner at my house')\n",
        "print(f'{Message}{People[1].title()} to a dinner at my house')\n",
        "print(f'{Message}{People[2].title()} to a dinner at my house')\n",
        "print(f'{Message}{People[3].title()} to a dinner at my house')\n",
        "len(People)"
      ],
      "metadata": {
        "colab": {
          "base_uri": "https://localhost:8080/"
        },
        "id": "nR918N3-jdNd",
        "outputId": "4c92998d-c504-4e93-8e6c-73f29a6a4f26"
      },
      "execution_count": 45,
      "outputs": [
        {
          "output_type": "stream",
          "name": "stdout",
          "text": [
            "I would like to invite Naruto to a dinner at my house\n",
            "I would like to invite Elon Musk to a dinner at my house\n",
            "I would like to invite Luffy to a dinner at my house\n",
            "I would like to invite Ronaldo to a dinner at my house\n"
          ]
        },
        {
          "output_type": "execute_result",
          "data": {
            "text/plain": [
              "4"
            ]
          },
          "metadata": {},
          "execution_count": 45
        }
      ]
    },
    {
      "cell_type": "code",
      "source": [
        "# This is TIY 3-5\n",
        "People=['Naruto','Elon Musk','Luffy','Ronaldo']\n",
        "Message=\"I would like to invite \"\n",
        "print(f'{Message}{People[0].title()} to a dinner at my house')\n",
        "print(f'{Message}{People[1].title()} to a dinner at my house')\n",
        "print(f'{Message}{People[2].title()} to a dinner at my house')\n",
        "print(f'{Message}{People[3].title()} to a dinner at my house')\n",
        "\n",
        "print(f'{People[1].title()} could not make it to the dinner')\n",
        "del People[1]\n",
        "People.append('Messi')\n",
        "\n",
        "print(f'{Message}{People[0].title()} to a dinner at my house')\n",
        "print(f'{Message}{People[1].title()} to a dinner at my house')\n",
        "print(f'{Message}{People[2].title()} to a dinner at my house')\n",
        "print(f'{Message}{People[3].title()} to a dinner at my house')\n",
        "len(People)"
      ],
      "metadata": {
        "colab": {
          "base_uri": "https://localhost:8080/"
        },
        "id": "4S8eue1Wyms9",
        "outputId": "9daf169d-1faa-46a2-ebbb-5d94eca37ab0"
      },
      "execution_count": 44,
      "outputs": [
        {
          "output_type": "stream",
          "name": "stdout",
          "text": [
            "I would like to invite Naruto to a dinner at my house\n",
            "I would like to invite Elon Musk to a dinner at my house\n",
            "I would like to invite Luffy to a dinner at my house\n",
            "I would like to invite Ronaldo to a dinner at my house\n",
            "Elon Musk could not make it to the dinner\n",
            "I would like to invite Naruto to a dinner at my house\n",
            "I would like to invite Luffy to a dinner at my house\n",
            "I would like to invite Ronaldo to a dinner at my house\n",
            "I would like to invite Messi to a dinner at my house\n"
          ]
        },
        {
          "output_type": "execute_result",
          "data": {
            "text/plain": [
              "4"
            ]
          },
          "metadata": {},
          "execution_count": 44
        }
      ]
    },
    {
      "cell_type": "code",
      "source": [
        "# This is TIY 3-6\n",
        "People=['Naruto','Elon Musk','Luffy','Ronaldo']\n",
        "Message=\"I would like to invite \"\n",
        "print(f'{Message}{People[0].title()} to a dinner at my house')\n",
        "print(f'{Message}{People[1].title()} to a dinner at my house')\n",
        "print(f'{Message}{People[2].title()} to a dinner at my house')\n",
        "print(f'{Message}{People[3].title()} to a dinner at my house')\n",
        "\n",
        "print(f'{People[1].title()} could not make it to the dinner')\n",
        "del People[1]\n",
        "People.append('Messi')\n",
        "\n",
        "print(f'{Message}{People[0].title()} to a dinner at my house')\n",
        "print(f'{Message}{People[1].title()} to a dinner at my house')\n",
        "print(f'{Message}{People[2].title()} to a dinner at my house')\n",
        "print(f'{Message}{People[3].title()} to a dinner at my house')\n",
        "print(f'I just got a Notice that 3 more people are coming to the dinner')\n",
        "People.insert(0,'Elon Musk')\n",
        "People.insert(2,'Mohammed')\n",
        "People.insert(5,'Rophnan')\n",
        "print(f'{Message}{People[0].title()} to a dinner at my house')\n",
        "print(f'{Message}{People[1].title()} to a dinner at my house')\n",
        "print(f'{Message}{People[3].title()} to a dinner at my house')\n",
        "print(f'{Message}{People[2].title()} to a dinner at my house')\n",
        "print(f'{Message}{People[4].title()} to a dinner at my house')\n",
        "print(f'{Message}{People[5].title()} to a dinner at my house')\n",
        "len(People)"
      ],
      "metadata": {
        "colab": {
          "base_uri": "https://localhost:8080/"
        },
        "id": "zJam8_Z7zw1x",
        "outputId": "83b61566-53c9-400a-fc76-7b105d329c6f"
      },
      "execution_count": 43,
      "outputs": [
        {
          "output_type": "stream",
          "name": "stdout",
          "text": [
            "I would like to invite Naruto to a dinner at my house\n",
            "I would like to invite Elon Musk to a dinner at my house\n",
            "I would like to invite Luffy to a dinner at my house\n",
            "I would like to invite Ronaldo to a dinner at my house\n",
            "Elon Musk could not make it to the dinner\n",
            "I would like to invite Naruto to a dinner at my house\n",
            "I would like to invite Luffy to a dinner at my house\n",
            "I would like to invite Ronaldo to a dinner at my house\n",
            "I would like to invite Messi to a dinner at my house\n",
            "I just got a Notice that 3 more people are coming to the dinner\n",
            "I would like to invite Elon Musk to a dinner at my house\n",
            "I would like to invite Naruto to a dinner at my house\n",
            "I would like to invite Luffy to a dinner at my house\n",
            "I would like to invite Mohammed to a dinner at my house\n",
            "I would like to invite Ronaldo to a dinner at my house\n",
            "I would like to invite Rophnan to a dinner at my house\n"
          ]
        },
        {
          "output_type": "execute_result",
          "data": {
            "text/plain": [
              "7"
            ]
          },
          "metadata": {},
          "execution_count": 43
        }
      ]
    },
    {
      "cell_type": "code",
      "source": [
        "# This is TIY 3-7\n",
        "People=['Naruto','Elon Musk','Luffy','Ronaldo']\n",
        "Message=\"I would like to invite \"\n",
        "print(f'{Message}{People[0].title()} to a dinner at my house')\n",
        "print(f'{Message}{People[1].title()} to a dinner at my house')\n",
        "print(f'{Message}{People[2].title()} to a dinner at my house')\n",
        "print(f'{Message}{People[3].title()} to a dinner at my house')\n",
        "\n",
        "print(f'{People[1].title()} could not make it to the dinner')\n",
        "del People[1]\n",
        "People.append('Messi')\n",
        "\n",
        "print(f'{Message}{People[0].title()} to a dinner at my house')\n",
        "print(f'{Message}{People[1].title()} to a dinner at my house')\n",
        "print(f'{Message}{People[2].title()} to a dinner at my house')\n",
        "print(f'{Message}{People[3].title()} to a dinner at my house')\n",
        "print(f'I just got a Notice that 3 more people are coming to the dinner')\n",
        "People.insert(0,'Elon Musk')\n",
        "People.insert(2,'Mohammed')\n",
        "People.insert(5,'Rophnan')\n",
        "print(f'{Message}{People[0].title()} to a dinner at my house')\n",
        "print(f'{Message}{People[1].title()} to a dinner at my house')\n",
        "print(f'{Message}{People[3].title()} to a dinner at my house')\n",
        "print(f'{Message}{People[2].title()} to a dinner at my house')\n",
        "print(f'{Message}{People[4].title()} to a dinner at my house')\n",
        "print(f'{Message}{People[5].title()} to a dinner at my house')\n",
        "\n",
        "\n",
        "Popped_people=People.pop()\n",
        "print(f'{Popped_people} sorry but you are not invited anymore')\n",
        "Popped_people=People.pop()\n",
        "print(f'{Popped_people} sorry but you are not invited anymore')\n",
        "Popped_people=People.pop()\n",
        "print(f'{Popped_people} sorry but you are not invited anymore')\n",
        "Popped_people=People.pop()\n",
        "print(f'{Popped_people} sorry but you are not invited anymore')\n",
        "Popped_people=People.pop()\n",
        "print(f'{Popped_people} sorry but you are not invited anymore')\n",
        "Message=\"You are still invited \"\n",
        "print(f'{People[0]} {Message}')\n",
        "print(f'{People[1]} {Message}')\n",
        "del People[0]\n",
        "del People[0]\n",
        "print(People)\n",
        "len(People)\n"
      ],
      "metadata": {
        "colab": {
          "base_uri": "https://localhost:8080/"
        },
        "id": "2oKXCj_A1CeC",
        "outputId": "8c906669-fecd-4df4-fedc-feb6af8fde03"
      },
      "execution_count": 42,
      "outputs": [
        {
          "output_type": "stream",
          "name": "stdout",
          "text": [
            "I would like to invite Naruto to a dinner at my house\n",
            "I would like to invite Elon Musk to a dinner at my house\n",
            "I would like to invite Luffy to a dinner at my house\n",
            "I would like to invite Ronaldo to a dinner at my house\n",
            "Elon Musk could not make it to the dinner\n",
            "I would like to invite Naruto to a dinner at my house\n",
            "I would like to invite Luffy to a dinner at my house\n",
            "I would like to invite Ronaldo to a dinner at my house\n",
            "I would like to invite Messi to a dinner at my house\n",
            "I just got a Notice that 3 more people are coming to the dinner\n",
            "I would like to invite Elon Musk to a dinner at my house\n",
            "I would like to invite Naruto to a dinner at my house\n",
            "I would like to invite Luffy to a dinner at my house\n",
            "I would like to invite Mohammed to a dinner at my house\n",
            "I would like to invite Ronaldo to a dinner at my house\n",
            "I would like to invite Rophnan to a dinner at my house\n",
            "Messi sorry but you are not invited anymore\n",
            "Rophnan sorry but you are not invited anymore\n",
            "Ronaldo sorry but you are not invited anymore\n",
            "Luffy sorry but you are not invited anymore\n",
            "Mohammed sorry but you are not invited anymore\n",
            "Elon Musk You are still invited \n",
            "Naruto You are still invited \n",
            "[]\n"
          ]
        },
        {
          "output_type": "execute_result",
          "data": {
            "text/plain": [
              "0"
            ]
          },
          "metadata": {},
          "execution_count": 42
        }
      ]
    },
    {
      "cell_type": "code",
      "source": [
        "# This is TIY 3-8\n",
        "Places=['Japan','Dubai','Singapore','England','France']\n",
        "print(Places)\n",
        "print(sorted(Places))\n",
        "print(Places)\n",
        "print(sorted(Places,reverse=True))\n",
        "print(Places)\n",
        "Places.reverse()\n",
        "print(Places)\n",
        "Places.reverse()\n",
        "print(Places)\n",
        "Places.sort()\n",
        "print(Places)\n",
        "Places.sort()\n",
        "print(Places)"
      ],
      "metadata": {
        "colab": {
          "base_uri": "https://localhost:8080/"
        },
        "id": "esBtS3fQ2Nuk",
        "outputId": "945db42d-1b55-493a-acb4-f382412d7ab2"
      },
      "execution_count": 40,
      "outputs": [
        {
          "output_type": "stream",
          "name": "stdout",
          "text": [
            "['Japan', 'Dubai', 'Singapore', 'England', 'France']\n",
            "['Dubai', 'England', 'France', 'Japan', 'Singapore']\n",
            "['Japan', 'Dubai', 'Singapore', 'England', 'France']\n",
            "['Singapore', 'Japan', 'France', 'England', 'Dubai']\n",
            "['Japan', 'Dubai', 'Singapore', 'England', 'France']\n",
            "['France', 'England', 'Singapore', 'Dubai', 'Japan']\n",
            "['Japan', 'Dubai', 'Singapore', 'England', 'France']\n",
            "['Dubai', 'England', 'France', 'Japan', 'Singapore']\n",
            "['Dubai', 'England', 'France', 'Japan', 'Singapore']\n"
          ]
        }
      ]
    },
    {
      "cell_type": "code",
      "source": [
        "# This is TIY 3-10\n",
        "List=['Food','Cars','Boats','Cities','Money']\n",
        "print(List)\n",
        "print(List[3])\n",
        "print(List[-1])\n",
        "List[2]='Music'\n",
        "print(List)\n",
        "List.append('Boats')\n",
        "print(List)\n",
        "List.insert(0,'Laptop')\n",
        "print(List)\n",
        "del List[0]\n",
        "print(List)\n",
        "List.pop()\n",
        "print(List)\n",
        "List.remove('Cities')\n",
        "print(List)\n",
        "List.sort()\n",
        "print(List)\n",
        "List.reverse()\n",
        "print(List)\n",
        "len(List)"
      ],
      "metadata": {
        "colab": {
          "base_uri": "https://localhost:8080/"
        },
        "id": "_9TWQqj49cRL",
        "outputId": "35b9d62c-6a10-45f2-cbff-25151775eae4"
      },
      "execution_count": 67,
      "outputs": [
        {
          "output_type": "stream",
          "name": "stdout",
          "text": [
            "['Food', 'Cars', 'Boats', 'Cities', 'Money']\n",
            "Cities\n",
            "Money\n",
            "['Food', 'Cars', 'Music', 'Cities', 'Money']\n",
            "['Food', 'Cars', 'Music', 'Cities', 'Money', 'Boats']\n",
            "['Laptop', 'Food', 'Cars', 'Music', 'Cities', 'Money', 'Boats']\n",
            "['Food', 'Cars', 'Music', 'Cities', 'Money', 'Boats']\n",
            "['Food', 'Cars', 'Music', 'Cities', 'Money']\n",
            "['Food', 'Cars', 'Music', 'Money']\n",
            "['Cars', 'Food', 'Money', 'Music']\n",
            "['Music', 'Money', 'Food', 'Cars']\n"
          ]
        },
        {
          "output_type": "execute_result",
          "data": {
            "text/plain": [
              "4"
            ]
          },
          "metadata": {},
          "execution_count": 67
        }
      ]
    },
    {
      "cell_type": "code",
      "source": [],
      "metadata": {
        "id": "sEZhenXf_YEe"
      },
      "execution_count": null,
      "outputs": []
    }
  ]
}