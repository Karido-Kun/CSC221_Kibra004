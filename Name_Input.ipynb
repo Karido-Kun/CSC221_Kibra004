{
  "nbformat": 4,
  "nbformat_minor": 0,
  "metadata": {
    "colab": {
      "provenance": [],
      "authorship_tag": "ABX9TyOxefiRcTXtW6J+C7GvbojJ",
      "include_colab_link": true
    },
    "kernelspec": {
      "name": "python3",
      "display_name": "Python 3"
    },
    "language_info": {
      "name": "python"
    }
  },
  "cells": [
    {
      "cell_type": "markdown",
      "metadata": {
        "id": "view-in-github",
        "colab_type": "text"
      },
      "source": [
        "<a href=\"https://colab.research.google.com/github/Karido-Kun/CSC221_Kibra004/blob/main/Name_Input.ipynb\" target=\"_parent\"><img src=\"https://colab.research.google.com/assets/colab-badge.svg\" alt=\"Open In Colab\"/></a>"
      ]
    },
    {
      "cell_type": "code",
      "execution_count": null,
      "metadata": {
        "colab": {
          "base_uri": "https://localhost:8080/"
        },
        "id": "FUFFfrHBdyjB",
        "outputId": "3de3f2e8-e9c5-4cd2-a191-9834c9b0b840"
      },
      "outputs": [
        {
          "output_type": "stream",
          "name": "stdout",
          "text": [
            "Hello world\n",
            "Enter your name: kalid\n",
            "Hello kalid\n"
          ]
        }
      ],
      "source": [
        "print(\"Hello world\")\n",
        "name= input('Enter your name: ')\n",
        "\n",
        "print(f'Hello {name}')"
      ]
    },
    {
      "cell_type": "code",
      "source": [],
      "metadata": {
        "id": "zhj2rR3xd3lo"
      },
      "execution_count": null,
      "outputs": []
    }
  ]
}