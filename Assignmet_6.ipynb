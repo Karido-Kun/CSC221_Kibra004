{
  "nbformat": 4,
  "nbformat_minor": 0,
  "metadata": {
    "colab": {
      "provenance": [],
      "authorship_tag": "ABX9TyO8mgYwCaCZYE0btbfMYBfB",
      "include_colab_link": true
    },
    "kernelspec": {
      "name": "python3",
      "display_name": "Python 3"
    },
    "language_info": {
      "name": "python"
    }
  },
  "cells": [
    {
      "cell_type": "markdown",
      "metadata": {
        "id": "view-in-github",
        "colab_type": "text"
      },
      "source": [
        "<a href=\"https://colab.research.google.com/github/Karido-Kun/CSC221_Kibra004/blob/main/Assignmet_6.ipynb\" target=\"_parent\"><img src=\"https://colab.research.google.com/assets/colab-badge.svg\" alt=\"Open In Colab\"/></a>"
      ]
    },
    {
      "cell_type": "code",
      "execution_count": 2,
      "metadata": {
        "colab": {
          "base_uri": "https://localhost:8080/"
        },
        "id": "xMNIuoLVvZBT",
        "outputId": "98392c50-d582-41ec-abd7-eaf56092a498"
      },
      "outputs": [
        {
          "output_type": "stream",
          "name": "stdout",
          "text": [
            "Rolls Royce\n",
            "BMW\n",
            "Aston Martin\n",
            "Nissan\n"
          ]
        }
      ],
      "source": [
        "# This is TIY 5-1\n",
        "cars = ['audi', 'bmw', 'aston martin', 'nissan']\n",
        "\n",
        "for car in cars:\n",
        "  if car == 'bmw':\n",
        "    print(car.upper())\n",
        "  else:\n",
        "    print(car.title())"
      ]
    },
    {
      "cell_type": "code",
      "source": [
        "car = 'bmw'\n",
        "car == 'bmw'"
      ],
      "metadata": {
        "colab": {
          "base_uri": "https://localhost:8080/"
        },
        "id": "R-aeAqb4w7yD",
        "outputId": "9c903438-efa5-4c6c-ea45-f8341c8e6667"
      },
      "execution_count": 3,
      "outputs": [
        {
          "output_type": "execute_result",
          "data": {
            "text/plain": [
              "True"
            ]
          },
          "metadata": {},
          "execution_count": 3
        }
      ]
    },
    {
      "cell_type": "code",
      "source": [
        "car = 'audi'\n",
        "car == 'bmw'"
      ],
      "metadata": {
        "colab": {
          "base_uri": "https://localhost:8080/"
        },
        "id": "uwKSqIqpw8Xa",
        "outputId": "ff6a8b13-66df-4261-aa48-227c336f5477"
      },
      "execution_count": 4,
      "outputs": [
        {
          "output_type": "execute_result",
          "data": {
            "text/plain": [
              "False"
            ]
          },
          "metadata": {},
          "execution_count": 4
        }
      ]
    },
    {
      "cell_type": "code",
      "source": [
        "car = 'Audi'\n",
        "car == 'audi'"
      ],
      "metadata": {
        "colab": {
          "base_uri": "https://localhost:8080/"
        },
        "id": "ZEceip0sxBQu",
        "outputId": "481b0365-feee-4ece-deaf-7c785798fb11"
      },
      "execution_count": 5,
      "outputs": [
        {
          "output_type": "execute_result",
          "data": {
            "text/plain": [
              "False"
            ]
          },
          "metadata": {},
          "execution_count": 5
        }
      ]
    },
    {
      "cell_type": "code",
      "source": [
        "car = 'Audi'\n",
        "car.lower() =='audi'"
      ],
      "metadata": {
        "colab": {
          "base_uri": "https://localhost:8080/"
        },
        "id": "eedDGKrsxFPb",
        "outputId": "02ddb63f-3706-4c05-b60a-ba6e46ff9057"
      },
      "execution_count": 6,
      "outputs": [
        {
          "output_type": "execute_result",
          "data": {
            "text/plain": [
              "True"
            ]
          },
          "metadata": {},
          "execution_count": 6
        }
      ]
    },
    {
      "cell_type": "code",
      "source": [
        "car = 'Audi'\n",
        "car.lower() == 'audi'\n",
        "car"
      ],
      "metadata": {
        "colab": {
          "base_uri": "https://localhost:8080/",
          "height": 35
        },
        "id": "R1x3LvczxKFn",
        "outputId": "44e9b43e-85ca-4b01-aaf6-e99dde3c52df"
      },
      "execution_count": 7,
      "outputs": [
        {
          "output_type": "execute_result",
          "data": {
            "text/plain": [
              "'Audi'"
            ],
            "application/vnd.google.colaboratory.intrinsic+json": {
              "type": "string"
            }
          },
          "metadata": {},
          "execution_count": 7
        }
      ]
    },
    {
      "cell_type": "code",
      "source": [
        "requested_toppings = 'Pepperoni'\n",
        "\n",
        "if requested_toppings != 'cheese':\n",
        "  print(\"Hold the cheese!\")"
      ],
      "metadata": {
        "colab": {
          "base_uri": "https://localhost:8080/"
        },
        "id": "4R-rc1xgxMN3",
        "outputId": "e07a2ba9-b3e3-4430-f762-a18118fa96a2"
      },
      "execution_count": 8,
      "outputs": [
        {
          "output_type": "stream",
          "name": "stdout",
          "text": [
            "Hold the cheese!\n"
          ]
        }
      ]
    },
    {
      "cell_type": "code",
      "source": [
        "age = 20\n",
        "age == 20"
      ],
      "metadata": {
        "colab": {
          "base_uri": "https://localhost:8080/"
        },
        "id": "kzeG70NhxeJk",
        "outputId": "8bd94f46-bbdc-4dde-bd30-7453b7d64288"
      },
      "execution_count": 9,
      "outputs": [
        {
          "output_type": "execute_result",
          "data": {
            "text/plain": [
              "True"
            ]
          },
          "metadata": {},
          "execution_count": 9
        }
      ]
    },
    {
      "cell_type": "code",
      "source": [
        "answer = 30\n",
        "if answer != 25:\n",
        "  print(\"That is not the correct answer. Please try again!\")"
      ],
      "metadata": {
        "colab": {
          "base_uri": "https://localhost:8080/"
        },
        "id": "zNe_mbEPxiy-",
        "outputId": "6a82ec88-d548-418b-cad5-82afc8e7fe30"
      },
      "execution_count": 10,
      "outputs": [
        {
          "output_type": "stream",
          "name": "stdout",
          "text": [
            "That is not the correct answer. Please try again!\n"
          ]
        }
      ]
    },
    {
      "cell_type": "code",
      "source": [
        "age = 19\n",
        "age < 21"
      ],
      "metadata": {
        "colab": {
          "base_uri": "https://localhost:8080/"
        },
        "id": "bldbMBy4xp1D",
        "outputId": "5843b28e-4376-4ac6-a597-d6f51a20b43a"
      },
      "execution_count": 11,
      "outputs": [
        {
          "output_type": "execute_result",
          "data": {
            "text/plain": [
              "True"
            ]
          },
          "metadata": {},
          "execution_count": 11
        }
      ]
    },
    {
      "cell_type": "code",
      "source": [
        "age <= 21"
      ],
      "metadata": {
        "colab": {
          "base_uri": "https://localhost:8080/"
        },
        "id": "XUW8aR6Rxtl4",
        "outputId": "68a881b8-aef2-456e-fa00-a7ad0dc3e4d8"
      },
      "execution_count": 12,
      "outputs": [
        {
          "output_type": "execute_result",
          "data": {
            "text/plain": [
              "True"
            ]
          },
          "metadata": {},
          "execution_count": 12
        }
      ]
    },
    {
      "cell_type": "code",
      "source": [
        "age > 21"
      ],
      "metadata": {
        "colab": {
          "base_uri": "https://localhost:8080/"
        },
        "id": "88o-NtUDxvtZ",
        "outputId": "b0491bcc-9af6-4b9f-e34d-f59d0c3c1662"
      },
      "execution_count": 13,
      "outputs": [
        {
          "output_type": "execute_result",
          "data": {
            "text/plain": [
              "False"
            ]
          },
          "metadata": {},
          "execution_count": 13
        }
      ]
    },
    {
      "cell_type": "code",
      "source": [
        "age >= 21"
      ],
      "metadata": {
        "colab": {
          "base_uri": "https://localhost:8080/"
        },
        "id": "l4DspSnBxyWt",
        "outputId": "3b6f5b20-b8c4-4211-9f4e-8207d45d9b77"
      },
      "execution_count": 14,
      "outputs": [
        {
          "output_type": "execute_result",
          "data": {
            "text/plain": [
              "False"
            ]
          },
          "metadata": {},
          "execution_count": 14
        }
      ]
    },
    {
      "cell_type": "code",
      "source": [
        "age_0 = 22\n",
        "age_1 = 18\n",
        "age_0 >= 21 and age_1 >= 21"
      ],
      "metadata": {
        "colab": {
          "base_uri": "https://localhost:8080/"
        },
        "id": "hLl8HGfix0R8",
        "outputId": "620434ab-938c-43e8-8105-dc66b4decb9a"
      },
      "execution_count": 15,
      "outputs": [
        {
          "output_type": "execute_result",
          "data": {
            "text/plain": [
              "False"
            ]
          },
          "metadata": {},
          "execution_count": 15
        }
      ]
    },
    {
      "cell_type": "code",
      "source": [
        "age_0 = 22\n",
        "age_1 = 18\n",
        "age_0 >= 21 and age_1 >=21"
      ],
      "metadata": {
        "colab": {
          "base_uri": "https://localhost:8080/"
        },
        "id": "tuDUqhqwx3Fe",
        "outputId": "1b5e76db-3450-42b3-f014-509ebb6ab08a"
      },
      "execution_count": 16,
      "outputs": [
        {
          "output_type": "execute_result",
          "data": {
            "text/plain": [
              "False"
            ]
          },
          "metadata": {},
          "execution_count": 16
        }
      ]
    },
    {
      "cell_type": "code",
      "source": [
        "age_1 = 22\n",
        "age_0 >= 21 and age_1 >= 21"
      ],
      "metadata": {
        "colab": {
          "base_uri": "https://localhost:8080/"
        },
        "id": "Ppu_2pYpx68i",
        "outputId": "4d7565e8-b2ae-4ed5-dbd0-7d506b4dacf7"
      },
      "execution_count": 17,
      "outputs": [
        {
          "output_type": "execute_result",
          "data": {
            "text/plain": [
              "True"
            ]
          },
          "metadata": {},
          "execution_count": 17
        }
      ]
    },
    {
      "cell_type": "code",
      "source": [
        "(age_0 >= 21) and (age_1 >= 21)"
      ],
      "metadata": {
        "colab": {
          "base_uri": "https://localhost:8080/"
        },
        "id": "m6LA_qTox9Ab",
        "outputId": "ca4e2591-15c5-43e0-f26d-19ddc357f3f9"
      },
      "execution_count": 18,
      "outputs": [
        {
          "output_type": "execute_result",
          "data": {
            "text/plain": [
              "True"
            ]
          },
          "metadata": {},
          "execution_count": 18
        }
      ]
    },
    {
      "cell_type": "code",
      "source": [
        "age_0 = 22\n",
        "age_1 = 18\n",
        "age_0 >= 21 or age_1 >= 21"
      ],
      "metadata": {
        "colab": {
          "base_uri": "https://localhost:8080/"
        },
        "id": "aq_hhE3GyAek",
        "outputId": "379908b2-be01-4ba2-a536-ae2a0f3d6542"
      },
      "execution_count": 19,
      "outputs": [
        {
          "output_type": "execute_result",
          "data": {
            "text/plain": [
              "True"
            ]
          },
          "metadata": {},
          "execution_count": 19
        }
      ]
    },
    {
      "cell_type": "code",
      "source": [
        "age_0 = 18\n",
        "age_0 >= 21 or age_1 >= 21"
      ],
      "metadata": {
        "colab": {
          "base_uri": "https://localhost:8080/"
        },
        "id": "F1_WoQ7gyDUK",
        "outputId": "79d9b6f7-8d99-40a3-f0e6-a1e92159b5a9"
      },
      "execution_count": 20,
      "outputs": [
        {
          "output_type": "execute_result",
          "data": {
            "text/plain": [
              "False"
            ]
          },
          "metadata": {},
          "execution_count": 20
        }
      ]
    },
    {
      "cell_type": "code",
      "source": [
        "requested_toppings = ['cheese', 'pepperoni', 'pineapple']\n",
        "'cheese' in requested_toppings"
      ],
      "metadata": {
        "colab": {
          "base_uri": "https://localhost:8080/"
        },
        "id": "VM1IBtm_yGNo",
        "outputId": "f37a6aee-2caa-49e7-c3d2-c6b7f6372f85"
      },
      "execution_count": 21,
      "outputs": [
        {
          "output_type": "execute_result",
          "data": {
            "text/plain": [
              "True"
            ]
          },
          "metadata": {},
          "execution_count": 21
        }
      ]
    },
    {
      "cell_type": "code",
      "source": [
        "'mushroom' in requested_toppings"
      ],
      "metadata": {
        "colab": {
          "base_uri": "https://localhost:8080/"
        },
        "id": "4AO99jDIyNur",
        "outputId": "9b788ba7-d424-4976-c9b2-49ffb9b12ab0"
      },
      "execution_count": 23,
      "outputs": [
        {
          "output_type": "execute_result",
          "data": {
            "text/plain": [
              "False"
            ]
          },
          "metadata": {},
          "execution_count": 23
        }
      ]
    },
    {
      "cell_type": "code",
      "source": [
        "banned_users = ['teddy', 'felicia', 'khushi']\n",
        "user = 'kalid'\n",
        "if user not in banned_users:\n",
        "  print(f\"{user.title()}, you can post a response if you wish.\")"
      ],
      "metadata": {
        "colab": {
          "base_uri": "https://localhost:8080/"
        },
        "id": "fB3EUUJFySAR",
        "outputId": "9ea9470d-0b43-4105-d820-7c3db286492f"
      },
      "execution_count": 24,
      "outputs": [
        {
          "output_type": "stream",
          "name": "stdout",
          "text": [
            "Kalid, you can post a response if you wish.\n"
          ]
        }
      ]
    },
    {
      "cell_type": "code",
      "source": [
        "game_active = True\n",
        "can_edit = False"
      ],
      "metadata": {
        "id": "AJhz9dk4ynbv"
      },
      "execution_count": 25,
      "outputs": []
    },
    {
      "cell_type": "code",
      "source": [
        "#if conditional_test:\n",
        "  #do something\n",
        "age = 20\n",
        "if age >= 18:\n",
        "  print(\"You are old enough to vote!\")"
      ],
      "metadata": {
        "colab": {
          "base_uri": "https://localhost:8080/"
        },
        "id": "uEXGfYxJypwu",
        "outputId": "f0abd136-928b-4f9d-8805-b98bed9be97e"
      },
      "execution_count": 26,
      "outputs": [
        {
          "output_type": "stream",
          "name": "stdout",
          "text": [
            "You are old enough to vote!\n"
          ]
        }
      ]
    },
    {
      "cell_type": "code",
      "source": [
        "age = 20\n",
        "if age >= 18:\n",
        "  print(\"You are old enough to vote!\")\n",
        "  print(\"Have you registered to vote yet?\")"
      ],
      "metadata": {
        "colab": {
          "base_uri": "https://localhost:8080/"
        },
        "id": "Jm1Pic70zhB6",
        "outputId": "0ac9c672-75a2-4073-df3e-9507014c753b"
      },
      "execution_count": 27,
      "outputs": [
        {
          "output_type": "stream",
          "name": "stdout",
          "text": [
            "You are old enough to vote!\n",
            "Have you registered to vote yet?\n"
          ]
        }
      ]
    },
    {
      "cell_type": "code",
      "source": [
        "age = 15\n",
        "if age >= 18:\n",
        "  print(\"You are old enough to vote!\")\n",
        "  print(\"Have you registered to vote yet?\")\n",
        "else:\n",
        "  print(\"Sorry, you are too young to vote.\")\n",
        "  print(\"Please register to vote as soon as you turn 18!\")"
      ],
      "metadata": {
        "colab": {
          "base_uri": "https://localhost:8080/"
        },
        "id": "EFWSSB_Zzi_l",
        "outputId": "49abaf76-f4ac-4b9b-8988-2014616fd50c"
      },
      "execution_count": 28,
      "outputs": [
        {
          "output_type": "stream",
          "name": "stdout",
          "text": [
            "Sorry, you are too young to vote.\n",
            "Please register to vote as soon as you turn 18!\n"
          ]
        }
      ]
    },
    {
      "cell_type": "code",
      "source": [
        "age = 25\n",
        "if age < 4:\n",
        "  print(\"Your admission cost is $ 5.\")\n",
        "elif age < 18:\n",
        "  print(\"Your admission cost is $ 25.\")\n",
        "else:\n",
        "  print(\"Your admission cost is $ 40.\")"
      ],
      "metadata": {
        "colab": {
          "base_uri": "https://localhost:8080/"
        },
        "id": "Ladm1XsTzm_a",
        "outputId": "658e8f1c-d21a-402f-c1bc-02ecf8287d55"
      },
      "execution_count": 34,
      "outputs": [
        {
          "output_type": "stream",
          "name": "stdout",
          "text": [
            "Your admission cost is $ 40.\n"
          ]
        }
      ]
    },
    {
      "cell_type": "code",
      "source": [
        "age = 12\n",
        "\n",
        "if age < 4:\n",
        "  price = 0\n",
        "elif age < 18:\n",
        "  price = 25\n",
        "else:\n",
        "  price = 40\n",
        "\n",
        "print(f\"Your admission cost is ${price}.\")\n",
        ""
      ],
      "metadata": {
        "colab": {
          "base_uri": "https://localhost:8080/"
        },
        "id": "yYYOBBqazvNC",
        "outputId": "50314a50-4656-4930-95f7-bd7b8d9414e1"
      },
      "execution_count": 35,
      "outputs": [
        {
          "output_type": "stream",
          "name": "stdout",
          "text": [
            "Your admission cost is $25.\n"
          ]
        }
      ]
    },
    {
      "cell_type": "code",
      "source": [
        "age = 12\n",
        "\n",
        "if age < 4:\n",
        "  price = 0\n",
        "elif age < 18:\n",
        "  price = 25\n",
        "elif age < 65:\n",
        "  price = 40\n",
        "else:\n",
        "  price = 20\n",
        "\n",
        "print(f\"Your admission cost is ${price}.\")"
      ],
      "metadata": {
        "colab": {
          "base_uri": "https://localhost:8080/"
        },
        "id": "K2OvfsoKz8TW",
        "outputId": "68b212e9-58f1-4b5f-8b8a-77344bcf4f7b"
      },
      "execution_count": 36,
      "outputs": [
        {
          "output_type": "stream",
          "name": "stdout",
          "text": [
            "Your admission cost is $25.\n"
          ]
        }
      ]
    },
    {
      "cell_type": "code",
      "source": [
        "age = 12\n",
        "\n",
        "if age < 4:\n",
        "  price = 0\n",
        "elif age < 18:\n",
        "  price = 25\n",
        "elif age < 65:\n",
        "  price = 40\n",
        "elif age >= 65:\n",
        "  price = 20\n",
        "\n",
        "print(f\"Your admission cost is ${price}.\")"
      ],
      "metadata": {
        "colab": {
          "base_uri": "https://localhost:8080/"
        },
        "id": "8BzRhfsL0DfC",
        "outputId": "c13f6c31-f9d8-49fb-d5d5-dc4281737189"
      },
      "execution_count": 37,
      "outputs": [
        {
          "output_type": "stream",
          "name": "stdout",
          "text": [
            "Your admission cost is $25.\n"
          ]
        }
      ]
    },
    {
      "cell_type": "code",
      "source": [
        "requested_toppings = ['pineapple', 'extra cheese']\n",
        "\n",
        "if 'mushrooms' in requested_toppings:\n",
        "  print(\"Adding mushrooms.\")\n",
        "if 'pepperoni' in requested_toppings:\n",
        "  print(\"Adding pepperoni.\")\n",
        "if 'extra cheese' in requested_toppings:\n",
        "  print(\"Adding extra cheese.\")\n",
        "if 'pineapple' in requested_toppings:\n",
        "  print(\"Adding pineapple.\")\n",
        "\n",
        "print(\"\\nFinished making your pizza!\")"
      ],
      "metadata": {
        "colab": {
          "base_uri": "https://localhost:8080/"
        },
        "id": "kqoa9CnJ0Fxx",
        "outputId": "66b5bcb7-ad1b-482b-cd1b-88b3dc455200"
      },
      "execution_count": 39,
      "outputs": [
        {
          "output_type": "stream",
          "name": "stdout",
          "text": [
            "Adding extra cheese.\n",
            "Adding pineapple.\n",
            "\n",
            "Finished making your pizza!\n"
          ]
        }
      ]
    },
    {
      "cell_type": "code",
      "source": [
        "requested_toppings = ['pineapple', 'extra cheese']\n",
        "\n",
        "if 'mushrooms' in requested_toppings:\n",
        "  print(\"Adding mushrooms.\")\n",
        "elif 'pepperoni' in requested_toppings:\n",
        "  print(\"Adding pepperoni.\")\n",
        "elif 'extra cheese' in requested_toppings:\n",
        "  print(\"Adding extra cheese.\")\n",
        "elif 'pineapple' in requested_toppings:\n",
        "  print(\"Adding pineapple.\")\n",
        "\n",
        "print(\"\\nFinished making your pizza!\")"
      ],
      "metadata": {
        "colab": {
          "base_uri": "https://localhost:8080/"
        },
        "id": "qybbirZa0Y12",
        "outputId": "2bbd22f2-648b-4a88-9777-e29ae2bf7d01"
      },
      "execution_count": 40,
      "outputs": [
        {
          "output_type": "stream",
          "name": "stdout",
          "text": [
            "Adding extra cheese.\n",
            "\n",
            "Finished making your pizza!\n"
          ]
        }
      ]
    },
    {
      "cell_type": "code",
      "source": [
        "requested_toppings = ['pineapple', 'pepperoni', 'extra cheese']\n",
        "\n",
        "for requested_topping in requested_toppings:\n",
        "  print(f\"Adding {requested_topping}.\")\n",
        "\n",
        "print(\"\\nFinished making your pizza!\")"
      ],
      "metadata": {
        "colab": {
          "base_uri": "https://localhost:8080/"
        },
        "id": "Q73I5E950t9L",
        "outputId": "8e78837f-fff0-45f5-beed-9f20e7d793b4"
      },
      "execution_count": 41,
      "outputs": [
        {
          "output_type": "stream",
          "name": "stdout",
          "text": [
            "Adding pineapple.\n",
            "Adding pepperoni.\n",
            "Adding extra cheese.\n",
            "\n",
            "Finished making your pizza!\n"
          ]
        }
      ]
    },
    {
      "cell_type": "code",
      "source": [
        "requested_toppings = ['pineapple', 'pepperoni', 'extra cheese']\n",
        "\n",
        "for requested_topping in requested_toppings:\n",
        "  if requested_topping == 'pineapple':\n",
        "    print(\"Sorry, we are out of pineapple right now.\")\n",
        "  else:\n",
        "    print(f\"Adding {requested_topping}.\")\n",
        "\n",
        "print(\"\\nFinished making your pizza!\")"
      ],
      "metadata": {
        "colab": {
          "base_uri": "https://localhost:8080/"
        },
        "id": "l1RAyRXI1CXS",
        "outputId": "713b5964-e826-4817-ef19-a8cc5b373a23"
      },
      "execution_count": 42,
      "outputs": [
        {
          "output_type": "stream",
          "name": "stdout",
          "text": [
            "Sorry, we are out of pineapple right now.\n",
            "Adding pepperoni.\n",
            "Adding extra cheese.\n",
            "\n",
            "Finished making your pizza!\n"
          ]
        }
      ]
    },
    {
      "cell_type": "code",
      "source": [
        "requested_toppings = []\n",
        "\n",
        "if requested_toppings:\n",
        "  for requested_topping in requested_toppings:\n",
        "    print(f\"Adding {requested_topping}.\")\n",
        "  print(\"\\nFinished making your pizza!\")\n",
        "else:\n",
        "  print(\"Are you sure you want a plain pizza?\")"
      ],
      "metadata": {
        "colab": {
          "base_uri": "https://localhost:8080/"
        },
        "id": "ZhDocgsm1QzV",
        "outputId": "7b3173d5-168d-4d0d-c342-b4a84f0267fd"
      },
      "execution_count": 43,
      "outputs": [
        {
          "output_type": "stream",
          "name": "stdout",
          "text": [
            "Are you sure you want a plain pizza?\n"
          ]
        }
      ]
    },
    {
      "cell_type": "code",
      "source": [
        "available_toppings = ['chicken', 'onions', 'beef', 'pepperoni', 'pineapple', 'extra cheese']\n",
        "\n",
        "requested_toppings = ['mushrooms', 'french fries', 'extra cheese']\n",
        "\n",
        "for requested_topping in requested_toppings:\n",
        "  if requested_topping in available_toppings:\n",
        "    print(f\"Adding {requested_topping}.\")\n",
        "  else:\n",
        "    print(f\"Sorry, we don't have {requested_topping}.\")\n",
        "\n",
        "print(\"\\nFinished making your pizza!\")"
      ],
      "metadata": {
        "colab": {
          "base_uri": "https://localhost:8080/"
        },
        "id": "x-G3GB3p1YYx",
        "outputId": "ebdfb9ac-4760-40d2-e317-d4e76784ec76"
      },
      "execution_count": 44,
      "outputs": [
        {
          "output_type": "stream",
          "name": "stdout",
          "text": [
            "Sorry, we don't have mushrooms.\n",
            "Sorry, we don't have french fries.\n",
            "Adding extra cheese.\n",
            "\n",
            "Finished making your pizza!\n"
          ]
        }
      ]
    },
    {
      "cell_type": "code",
      "source": [
        "# Try it yourself 5-1\n",
        "\n",
        "# Test 1\n",
        "car = 'audi'\n",
        "print(\"Is car == 'audi'? I predict True.\")\n",
        "print(car == 'audi')\n",
        "\n",
        "# Test 2\n",
        "name = 'Kalid'\n",
        "print(\"\\nIs name != 'Teddy'? I predict True.\")\n",
        "print(name != 'Teddy')\n",
        "\n",
        "# Test 3\n",
        "age = 25\n",
        "print(\"\\nIs age < 30? I predict True.\")\n",
        "print(age < 30)\n",
        "\n",
        "# Test 4\n",
        "is_sunny = True\n",
        "is_warm = False\n",
        "print(\"\\nIs it sunny OR warm? I predict True.\")\n",
        "print(is_sunny or is_warm)\n",
        "\n",
        "# Test 5\n",
        "is_raining = True\n",
        "is_cold = True\n",
        "print(\"\\nIs it raining AND cold? I predict True.\")\n",
        "print(is_raining and is_cold)\n",
        "\n",
        "# Test 6\n",
        "fruits = ['apple', 'banana', 'mango']\n",
        "print(\"\\nIs 'pineapple' in fruits? I predict False.\")\n",
        "print('pineapple' in fruits)\n",
        "\n",
        "# Test 7\n",
        "vegetables = ['carrot', 'broccoli', 'green pepper']\n",
        "print(\"\\nIs 'zucchini' in vegetables? I predict False.\")\n",
        "print('zucchini' in vegetables)\n",
        "\n",
        "# Test 8\n",
        "empty_string = \"!\"\n",
        "print(\"\\nIs empty_string empty? I predict False.\")\n",
        "print(not empty_string)\n",
        "\n",
        "# Test 9\n",
        "price1 = 10.99\n",
        "price2 = 9.99\n",
        "print(\"\\nIs price1 < price2? I predict False.\")\n",
        "print(price1 < price2)\n",
        "\n",
        "# Test 10\n",
        "score = 75\n",
        "print(\"\\nIs score < 60 or score > 90? I predict True.\")\n",
        "print(score < 60 or score > 90)"
      ],
      "metadata": {
        "colab": {
          "base_uri": "https://localhost:8080/"
        },
        "id": "WCe0AEEc2BBY",
        "outputId": "c998eb6e-7c03-48b6-c117-0f22c77c40af"
      },
      "execution_count": 46,
      "outputs": [
        {
          "output_type": "stream",
          "name": "stdout",
          "text": [
            "Is car == 'audi'? I predict True.\n",
            "True\n",
            "\n",
            "Is name != 'Teddy'? I predict True.\n",
            "True\n",
            "\n",
            "Is age < 30? I predict True.\n",
            "True\n",
            "\n",
            "Is it sunny OR warm? I predict True.\n",
            "True\n",
            "\n",
            "Is it raining AND cold? I predict True.\n",
            "True\n",
            "\n",
            "Is 'pineapple' in fruits? I predict False.\n",
            "False\n",
            "\n",
            "Is 'zucchini' in vegetables? I predict False.\n",
            "False\n",
            "\n",
            "Is empty_string empty? I predict False.\n",
            "False\n",
            "\n",
            "Is price1 < price2? I predict False.\n",
            "False\n",
            "\n",
            "Is score < 60 or score > 90? I predict True.\n",
            "False\n"
          ]
        }
      ]
    },
    {
      "cell_type": "code",
      "source": [
        "# This TIY 5-2\n",
        "# Tests for equality and inequality with strings\n",
        "name1 = 'John'\n",
        "name2 = 'Alice'\n",
        "print(\"\\nIs name1 == 'John'? I predict True.\")\n",
        "print(name1 == 'John')\n",
        "print(\"\\nIs name2 != 'John'? I predict False.\")\n",
        "print(name2 == 'John')\n",
        "\n",
        "# Tests using the lower() method\n",
        "text = 'Hello, World!'\n",
        "text_1 = 'Hello, World!'\n",
        "print(\"\\nIs 'hello, world!' == text.lower()? I predict True.\")\n",
        "print('hello, world!' == text.lower())\n",
        "print(\"\\nIs 'Hello World!' == text_1.lower()? I predict False.\")\n",
        "print('Hello World!' == text_1.lower())\n",
        "\n",
        "# Numerical tests\n",
        "num1 = 42\n",
        "num2 = 30\n",
        "print(\"\\nIs num1 > num2? I predict True.\")\n",
        "print(num1 > num2)\n",
        "print(\"\\nIs num1 <= num2? I predict False.\")\n",
        "print(num1 <= num2)\n",
        "\n",
        "# Tests using the and keyword and the or keyword\n",
        "is_sunny = True\n",
        "is_warm = False\n",
        "print(\"\\nIs it sunny and warm? I predict False.\")\n",
        "print(is_sunny and is_warm)\n",
        "print(\"\\nIs it sunny or warm? I predict True.\")\n",
        "print(is_sunny or is_warm)\n",
        "\n",
        "# Test whether an item is in a list\n",
        "fruits = ['apple', 'banana', 'cherry']\n",
        "print(\"\\nIs 'apple' in fruits? I predict True.\")\n",
        "print('apple' in fruits)\n",
        "print(\"\\nIs 'strawberry' in fruits? I predict False.\")\n",
        "print('strawberry' in fruits)\n",
        "\n",
        "# Test whether an item is not in a list\n",
        "vegetables = ['carrot', 'broccoli', 'spinach']\n",
        "print(\"\\nIs 'zucchini' not in vegetables? I predict True.\")\n",
        "print('zucchini' not in vegetables)\n",
        "print(\"\\nIs 'carrot' not in vegetables? I predict False.\")\n",
        "print('carrot' not in vegetables)"
      ],
      "metadata": {
        "colab": {
          "base_uri": "https://localhost:8080/"
        },
        "id": "-YqbWhJv4G8H",
        "outputId": "42a8174a-a80a-44ff-be37-369d31b2e397"
      },
      "execution_count": 47,
      "outputs": [
        {
          "output_type": "stream",
          "name": "stdout",
          "text": [
            "\n",
            "Is name1 == 'John'? I predict True.\n",
            "True\n",
            "\n",
            "Is name2 != 'John'? I predict False.\n",
            "False\n",
            "\n",
            "Is 'hello, world!' == text.lower()? I predict True.\n",
            "True\n",
            "\n",
            "Is 'Hello World!' == text_1.lower()? I predict False.\n",
            "False\n",
            "\n",
            "Is num1 > num2? I predict True.\n",
            "True\n",
            "\n",
            "Is num1 <= num2? I predict False.\n",
            "False\n",
            "\n",
            "Is it sunny and warm? I predict False.\n",
            "False\n",
            "\n",
            "Is it sunny or warm? I predict True.\n",
            "True\n",
            "\n",
            "Is 'apple' in fruits? I predict True.\n",
            "True\n",
            "\n",
            "Is 'strawberry' in fruits? I predict False.\n",
            "False\n",
            "\n",
            "Is 'zucchini' not in vegetables? I predict True.\n",
            "True\n",
            "\n",
            "Is 'carrot' not in vegetables? I predict False.\n",
            "False\n"
          ]
        }
      ]
    },
    {
      "cell_type": "code",
      "source": [
        "# This is TIY 5-3\n",
        "alien_color = 'green'\n",
        "\n",
        "if alien_color == 'green':\n",
        "    print(\"The player just earned 5 points.\")\n",
        "\n",
        "alien_color = 'red'\n",
        "\n",
        "if alien_color == 'green':\n",
        "    print(\"The player just earned 5 points.\")"
      ],
      "metadata": {
        "colab": {
          "base_uri": "https://localhost:8080/"
        },
        "id": "u4evlbFF4Sh1",
        "outputId": "c3994103-3814-4462-ed03-5ef3899cf4be"
      },
      "execution_count": 49,
      "outputs": [
        {
          "output_type": "stream",
          "name": "stdout",
          "text": [
            "The player just earned 5 points.\n"
          ]
        }
      ]
    },
    {
      "cell_type": "code",
      "source": [
        "# Tis is TIY 5-6\n",
        "age = 20\n",
        "\n",
        "if age < 2:\n",
        "    print(\"The person is a baby.\")\n",
        "elif age < 4:\n",
        "    print(\"The person is a toddler.\")\n",
        "elif age < 13:\n",
        "    print(\"The person is a kid.\")\n",
        "elif age < 20:\n",
        "    print(\"The person is a teenager.\")\n",
        "elif age < 65:\n",
        "    print(\"The person is an adult.\")\n",
        "else:\n",
        "    print(\"The person is an elder.\")"
      ],
      "metadata": {
        "colab": {
          "base_uri": "https://localhost:8080/"
        },
        "id": "Otnr2xHg4Z6L",
        "outputId": "cd9c17e3-77fd-4453-ec87-24b3576873b3"
      },
      "execution_count": 50,
      "outputs": [
        {
          "output_type": "stream",
          "name": "stdout",
          "text": [
            "The person is an adult.\n"
          ]
        }
      ]
    },
    {
      "cell_type": "code",
      "source": [
        "# This is TIY 5-12\n",
        "import random\n",
        "secret_number= random.randint(1,10)\n",
        "user_input= None\n",
        "while secret_number!=user_input:\n",
        "    user_input=input(\"Guess a Number between 1 to 10 \")\n",
        "    if not user_input.isdigit():\n",
        "       print(\"Input a Valid Input\")\n",
        "       continue\n",
        "    user_input=int(user_input)\n",
        "    if user_input < 1 or user_input > 10:\n",
        "      print(\"Enter a number between 1 to 10\")\n",
        "    if user_input==secret_number:\n",
        "     print(\"Corrrect you have Won\")\n",
        "    elif user_input < secret_number:\n",
        "     print(\"Too Low\")\n",
        "    else:\n",
        "     print(\"Too High\")"
      ],
      "metadata": {
        "colab": {
          "base_uri": "https://localhost:8080/"
        },
        "id": "JOGevVvO4su3",
        "outputId": "e45d9f63-d39d-474b-fef5-cf1e0a427bab"
      },
      "execution_count": 51,
      "outputs": [
        {
          "output_type": "stream",
          "name": "stdout",
          "text": [
            "Guess a Number between 1 to 10 3\n",
            "Too High\n",
            "Guess a Number between 1 to 10 2\n",
            "Corrrect you have Won\n"
          ]
        }
      ]
    },
    {
      "cell_type": "code",
      "source": [
        "# This TIY 5-13\n",
        "correct_name = 'Kalid'\n",
        "\n",
        "name_list = ['Kalid', 'Teddy', 'Felicia', 'Khushi']\n",
        "print(\"This is the name guessing game!\")\n",
        "print(\"You have to guess the name who is the writer from the list of the name in below.\")\n",
        "print(\"While this game, you only have 5 chances to guess the name! You should try carefully.\")\n",
        "print(\"\\nHere is the list of the writers name.\")\n",
        "print(name_list)\n",
        "\n",
        "tries = 3\n",
        "\n",
        "while tries > 0:\n",
        "  guess = input(\"Please enter your guess: \")\n",
        "\n",
        "  if guess == correct_name:\n",
        "    print(f\"Congrats! your guess is correct! The correct name is {correct_name}.\")\n",
        "    break\n",
        "\n",
        "  else:\n",
        "    print(\"Oops, your guess is incorrect.\")\n",
        "    tries -= 1\n",
        "    if tries > 0:\n",
        "      print(f\"You still have {tries}/3 attemps.\")\n",
        "    else:\n",
        "      print(f\"You failed this game, unfortunately. The correct name is {correct_name}.\")"
      ],
      "metadata": {
        "colab": {
          "base_uri": "https://localhost:8080/"
        },
        "id": "WXCkT9sM5McU",
        "outputId": "244c27e5-d103-4080-f58a-24767a0accaa"
      },
      "execution_count": 59,
      "outputs": [
        {
          "output_type": "stream",
          "name": "stdout",
          "text": [
            "This is the name guessing game!\n",
            "You have to guess the name who is the writer from the list of the name in below.\n",
            "While this game, you only have 5 chances to guess the name! You should try carefully.\n",
            "\n",
            "Here is the list of the writers name.\n",
            "['Kalid', 'Teddy', 'Felicia', 'Khushi']\n",
            "Please enter your guess: Teddy\n",
            "Oops, your guess is incorrect.\n",
            "You still have 2/3 attemps.\n",
            "Please enter your guess: Felicia\n",
            "Oops, your guess is incorrect.\n",
            "You still have 1/3 attemps.\n",
            "Please enter your guess: Khushi\n",
            "Oops, your guess is incorrect.\n",
            "You failed this game, unfortunately. The correct name is Kalid.\n"
          ]
        }
      ]
    },
    {
      "cell_type": "code",
      "source": [],
      "metadata": {
        "id": "Utxi19gj5per"
      },
      "execution_count": null,
      "outputs": []
    }
  ]
}