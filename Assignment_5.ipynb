{
  "nbformat": 4,
  "nbformat_minor": 0,
  "metadata": {
    "colab": {
      "provenance": [],
      "authorship_tag": "ABX9TyPKdFmY5VXBpTM/yQ6p1TXC",
      "include_colab_link": true
    },
    "kernelspec": {
      "name": "python3",
      "display_name": "Python 3"
    },
    "language_info": {
      "name": "python"
    }
  },
  "cells": [
    {
      "cell_type": "markdown",
      "metadata": {
        "id": "view-in-github",
        "colab_type": "text"
      },
      "source": [
        "<a href=\"https://colab.research.google.com/github/Karido-Kun/CSC221_Kibra004/blob/main/Assignment_5.ipynb\" target=\"_parent\"><img src=\"https://colab.research.google.com/assets/colab-badge.svg\" alt=\"Open In Colab\"/></a>"
      ]
    },
    {
      "cell_type": "code",
      "execution_count": 17,
      "metadata": {
        "colab": {
          "base_uri": "https://localhost:8080/"
        },
        "id": "jTS6J5wIDtJ8",
        "outputId": "87612c53-9a53-48f7-841c-b33a312cf43c"
      },
      "outputs": [
        {
          "output_type": "stream",
          "name": "stdout",
          "text": [
            "I like Barbeque chicken pizza\n",
            "I like Cheese pizza\n",
            "I like Beef pizza\n",
            "I really love Pizza so much\n"
          ]
        }
      ],
      "source": [
        "# This is TIY 4-1\n",
        "Pizza=['Barbeque chicken pizza','Cheese pizza','Beef pizza']\n",
        "for Pizza in Pizza:\n",
        "  print(f'I like {Pizza}')\n",
        "print('I really love Pizza so much')\n"
      ]
    },
    {
      "cell_type": "code",
      "source": [
        "# TIY 4-2 is the same as TIY 4-1"
      ],
      "metadata": {
        "id": "gBvfE0X_E_W8"
      },
      "execution_count": null,
      "outputs": []
    },
    {
      "cell_type": "code",
      "source": [
        "# This is TIY 4-3\n",
        "for value in range(1,21):\n",
        "  print(value)"
      ],
      "metadata": {
        "colab": {
          "base_uri": "https://localhost:8080/"
        },
        "id": "Rgh-DJjcF05A",
        "outputId": "f717fb23-0bdb-4246-c356-978553e63a19"
      },
      "execution_count": 14,
      "outputs": [
        {
          "output_type": "stream",
          "name": "stdout",
          "text": [
            "1\n",
            "2\n",
            "3\n",
            "4\n",
            "5\n",
            "6\n",
            "7\n",
            "8\n",
            "9\n",
            "10\n",
            "11\n",
            "12\n",
            "13\n",
            "14\n",
            "15\n",
            "16\n",
            "17\n",
            "18\n",
            "19\n",
            "20\n"
          ]
        }
      ]
    },
    {
      "cell_type": "code",
      "source": [
        "\n",
        "def factorial(n):\n",
        "  integers=[]\n",
        "  products=1\n",
        "  if n==1:\n",
        "    return (n)\n",
        "  else:\n",
        "    for integer in range(1,n+1):\n",
        "      integers.append(integer)\n",
        "    for integer in integers:\n",
        "      products=products*integer\n",
        "    return products\n",
        "print(factorial(5))\n",
        "print(factorial(10))\n",
        "print(factorial(20))\n",
        "print(factorial(50))"
      ],
      "metadata": {
        "colab": {
          "base_uri": "https://localhost:8080/"
        },
        "id": "Qy33mzdpHjpU",
        "outputId": "e91bf3ae-1b51-44b3-d29b-605b2767d68d"
      },
      "execution_count": 26,
      "outputs": [
        {
          "output_type": "stream",
          "name": "stdout",
          "text": [
            "120\n",
            "3628800\n",
            "2432902008176640000\n",
            "30414093201713378043612608166064768844377641568960512000000000000\n"
          ]
        }
      ]
    },
    {
      "cell_type": "code",
      "source": [
        "def special_factorial(n):\n",
        "  integers=[]\n",
        "  products=1\n",
        "  if n==1:\n",
        "    return (n)\n",
        "  else:\n",
        "    for integer in range(1,n+1):\n",
        "      integers.append(integer)\n",
        "      if integer==(4) or integer==(13) or integer==(22):\n",
        "        integers.remove(integer)\n",
        "    for integer in integers:\n",
        "        products=products*integer\n",
        "    return products\n",
        "print(special_factorial(5))\n",
        "print(special_factorial(10))\n",
        "print(special_factorial(20))\n",
        "print(special_factorial(50))\n",
        ""
      ],
      "metadata": {
        "colab": {
          "base_uri": "https://localhost:8080/"
        },
        "id": "WfqIQ_r4Izqk",
        "outputId": "7dd51d67-8339-4005-f83b-c86911c56253"
      },
      "execution_count": 27,
      "outputs": [
        {
          "output_type": "stream",
          "name": "stdout",
          "text": [
            "30\n",
            "907200\n",
            "46786577080320000\n",
            "26585745805693512275885146998308364374455980392448000000000000\n"
          ]
        }
      ]
    },
    {
      "cell_type": "code",
      "source": [],
      "metadata": {
        "id": "k4Ry_4gqMH32"
      },
      "execution_count": null,
      "outputs": []
    }
  ]
}