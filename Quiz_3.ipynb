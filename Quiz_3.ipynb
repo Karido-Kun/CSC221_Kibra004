{
  "nbformat": 4,
  "nbformat_minor": 0,
  "metadata": {
    "colab": {
      "provenance": [],
      "authorship_tag": "ABX9TyPG8b8sj8vXhr2ZHanYlbfM",
      "include_colab_link": true
    },
    "kernelspec": {
      "name": "python3",
      "display_name": "Python 3"
    },
    "language_info": {
      "name": "python"
    }
  },
  "cells": [
    {
      "cell_type": "markdown",
      "metadata": {
        "id": "view-in-github",
        "colab_type": "text"
      },
      "source": [
        "<a href=\"https://colab.research.google.com/github/Karido-Kun/CSC221_Kibra004/blob/main/Quiz_3.ipynb\" target=\"_parent\"><img src=\"https://colab.research.google.com/assets/colab-badge.svg\" alt=\"Open In Colab\"/></a>"
      ]
    },
    {
      "cell_type": "code",
      "execution_count": null,
      "metadata": {
        "id": "YlNliI-h_LuU"
      },
      "outputs": [],
      "source": [
        "# 1. abs()\n",
        "def demonstrate_abs():\n",
        "    negative_number = -10\n",
        "    print(\"Absolute value of -10 is:\", abs(negative_number))\n"
      ]
    },
    {
      "cell_type": "code",
      "source": [
        "# 2. all()\n",
        "\n",
        "def demonstrate_all():\n",
        "    list_values = [True, True, False]\n",
        "    print(\"Do all values evaluate to True?:\", all(list_values))\n"
      ],
      "metadata": {
        "id": "4E9clnLq_lBW"
      },
      "execution_count": null,
      "outputs": []
    },
    {
      "cell_type": "code",
      "source": [
        "# 3. bin()\n",
        "\n",
        "def demonstrate_bin():\n",
        "    number = 7\n",
        "    print(\"Binary representation of 7 is:\", bin(number))"
      ],
      "metadata": {
        "id": "AOGM4_GB_qq0"
      },
      "execution_count": null,
      "outputs": []
    },
    {
      "cell_type": "code",
      "source": [
        "# 4. callable()\n",
        "\n",
        "def demonstrate_callable():\n",
        "    print(\"Is print callable?:\", callable(print))"
      ],
      "metadata": {
        "id": "xkc68Pb4_xTU"
      },
      "execution_count": null,
      "outputs": []
    },
    {
      "cell_type": "code",
      "source": [
        "# 5. chr()\n",
        "\n",
        "def demonstrate_chr():\n",
        "    ascii_value = 65\n",
        "    print(\"Character for ASCII 65:\", chr(ascii_value))"
      ],
      "metadata": {
        "id": "DHhvLbwg_4F0"
      },
      "execution_count": null,
      "outputs": []
    },
    {
      "cell_type": "code",
      "source": [
        "# 6. dir()\n",
        "\n",
        "def demonstrate_dir():\n",
        "    print(\"Attributes and methods of list:\", dir([]))"
      ],
      "metadata": {
        "id": "Tw9sGrCp_-5n"
      },
      "execution_count": null,
      "outputs": []
    },
    {
      "cell_type": "code",
      "source": [
        "# 7. enumerate()\n",
        "\n",
        "def demonstrate_enumerate():\n",
        "    for index, value in enumerate(['apple', 'banana', 'cherry']):\n",
        "        print(\"Index:\", index, \"Value:\", value)"
      ],
      "metadata": {
        "id": "oRiVJwymAFHo"
      },
      "execution_count": null,
      "outputs": []
    },
    {
      "cell_type": "code",
      "source": [
        "# 8. filter()\n",
        "\n",
        "def demonstrate_filter():\n",
        "    numbers = [1, 2, 3, 4, 5]\n",
        "    even_numbers = list(filter(lambda x: x % 2 == 0, numbers))\n",
        "    print(\"Even numbers:\", even_numbers)"
      ],
      "metadata": {
        "id": "5BLUJHhrAKfU"
      },
      "execution_count": null,
      "outputs": []
    },
    {
      "cell_type": "code",
      "source": [
        "# 9. getattr()\n",
        "\n",
        "def demonstrate_getattr():\n",
        "    class MyClass:\n",
        "        name = \"Python\"\n",
        "    obj = MyClass()\n",
        "    print(\"The name attribute of MyClass is:\", getattr(obj, 'name'))"
      ],
      "metadata": {
        "id": "0-Akrv66ARC6"
      },
      "execution_count": null,
      "outputs": []
    },
    {
      "cell_type": "code",
      "source": [
        "# 10. hex()\n",
        "\n",
        "def demonstrate_hex():\n",
        "    number = 255\n",
        "    print(\"Hexadecimal representation of 255 is:\", hex(number))"
      ],
      "metadata": {
        "id": "D4DXZdoyAcwB"
      },
      "execution_count": null,
      "outputs": []
    },
    {
      "cell_type": "code",
      "source": [
        "# 11. isinstance()\n",
        "\n",
        "def demonstrate_isinstance():\n",
        "    print(\"Is [1, 2, 3] an instance of list?:\", isinstance([1, 2, 3], list))"
      ],
      "metadata": {
        "id": "kqXRK65-A4dx"
      },
      "execution_count": null,
      "outputs": []
    },
    {
      "cell_type": "code",
      "source": [
        "# 12. map()\n",
        "\n",
        "def demonstrate_map():\n",
        "    numbers = [1, 2, 3, 4, 5]\n",
        "    squares = list(map(lambda x: x**2, numbers))\n",
        "    print(\"Squares of numbers:\", squares)\n"
      ],
      "metadata": {
        "id": "UjzPJWK8BiIT"
      },
      "execution_count": null,
      "outputs": []
    },
    {
      "cell_type": "code",
      "source": [
        "# 13. max()\n",
        "\n",
        "def demonstrate_max():\n",
        "    print(\"Maximum value in [1, 2, 3] is:\", max(1, 2, 3))"
      ],
      "metadata": {
        "id": "8ipMVzqMBljy"
      },
      "execution_count": null,
      "outputs": []
    },
    {
      "cell_type": "code",
      "source": [
        "# 14. next()\n",
        "\n",
        "def demonstrate_next():\n",
        "    it = iter([1, 2, 3])\n",
        "    print(\"Next value in iterator:\", next(it))"
      ],
      "metadata": {
        "id": "XgX-RDSIBoas"
      },
      "execution_count": null,
      "outputs": []
    },
    {
      "cell_type": "code",
      "source": [
        "# 15. ord()\n",
        "\n",
        "def demonstrate_ord():\n",
        "    char = 'A'\n",
        "    print(\"ASCII value of 'A' is:\", ord(char))\n"
      ],
      "metadata": {
        "id": "nhcjwwh1Bqkg"
      },
      "execution_count": null,
      "outputs": []
    },
    {
      "cell_type": "code",
      "source": [
        "# 16. range()\n",
        "\n",
        "def demonstrate_range():\n",
        "    print(\"Numbers from 0 to 4:\", list(range(5)))\n"
      ],
      "metadata": {
        "id": "P_xg2ejKBuZf"
      },
      "execution_count": null,
      "outputs": []
    },
    {
      "cell_type": "code",
      "source": [
        "# 17. sorted()\n",
        "\n",
        "def demonstrate_sorted():\n",
        "    print(\"Sorted list of [3, 1, 2] is:\", sorted([3, 1, 2]))"
      ],
      "metadata": {
        "id": "Vs4PopunBxVM"
      },
      "execution_count": null,
      "outputs": []
    },
    {
      "cell_type": "code",
      "source": [
        "# 18. sum()\n",
        "\n",
        "def demonstrate_sum():\n",
        "    numbers = [1, 2, 3, 4, 5]\n",
        "    print(\"Sum of 1 to 5 is:\", sum(numbers))\n"
      ],
      "metadata": {
        "id": "N7iHzoGcB0Cz"
      },
      "execution_count": null,
      "outputs": []
    },
    {
      "cell_type": "code",
      "source": [
        "# 19. type()\n",
        "\n",
        "def demonstrate_type():\n",
        "    print(\"Type of 123 is:\", type(123))"
      ],
      "metadata": {
        "id": "tR1UHs5WB3YA"
      },
      "execution_count": null,
      "outputs": []
    },
    {
      "cell_type": "code",
      "source": [
        "# 20. zip()\n",
        "\n",
        "def demonstrate_zip():\n",
        "    names = [\"John\", \"Jane\"]\n",
        "    ages = [25, 22]\n",
        "    for name, age in zip(names, ages):\n",
        "        print(f\"{name} is {age} years old\")"
      ],
      "metadata": {
        "id": "tKO1sI9IB5-F"
      },
      "execution_count": null,
      "outputs": []
    }
  ]
}