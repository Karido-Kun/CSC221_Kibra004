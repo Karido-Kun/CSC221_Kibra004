{
  "nbformat": 4,
  "nbformat_minor": 0,
  "metadata": {
    "colab": {
      "provenance": [],
      "authorship_tag": "ABX9TyOxdzcnHhKkPaWPDp25mtmY",
      "include_colab_link": true
    },
    "kernelspec": {
      "name": "python3",
      "display_name": "Python 3"
    },
    "language_info": {
      "name": "python"
    }
  },
  "cells": [
    {
      "cell_type": "markdown",
      "metadata": {
        "id": "view-in-github",
        "colab_type": "text"
      },
      "source": [
        "<a href=\"https://colab.research.google.com/github/Karido-Kun/CSC221_Kibra004/blob/main/Assignment_11.ipynb\" target=\"_parent\"><img src=\"https://colab.research.google.com/assets/colab-badge.svg\" alt=\"Open In Colab\"/></a>"
      ]
    },
    {
      "cell_type": "code",
      "execution_count": 1,
      "metadata": {
        "id": "Kj-J1UYYMuLn"
      },
      "outputs": [],
      "source": [
        "class Dog:\n",
        "  \"\"\"A simple attempt to model a dog.\"\"\"\n",
        "  def __init__(self, name, age):\n",
        "    \"\"\"Initialize name and age attributes.\"\"\"\n",
        "    self.name = name\n",
        "    self.age = age\n",
        "  def sit(self):\n",
        "    \"\"\"Simulate a dog sitting in response to a command.\"\"\"\n",
        "    print(f\"{self.name} is now sitting.\")\n",
        "  def roll_over(self):\n",
        "    \"\"\"Simulate rolling over in response to a command.\"\"\"\n",
        "    print(f\"{self.name} rolled over!\")"
      ]
    },
    {
      "cell_type": "code",
      "source": [
        "class Dog:\n",
        "  \"\"\"A simple attempt to model a dog.\"\"\"\n",
        "  def __init__(self, name, age):\n",
        "    \"\"\"Initialize name and age attributes.\"\"\"\n",
        "    self.name = name\n",
        "    self.age = age\n",
        "  def sit(self):\n",
        "    \"\"\"Simulate a dog sitting in response to a command.\"\"\"\n",
        "    print(f\"{self.name} is now sitting.\")\n",
        "  def roll_over(self):\n",
        "    \"\"\"Simulate rolling over in response to a command.\"\"\"\n",
        "    print(f\"{self.name} rolled over!\")\n",
        "\n",
        "my_dog = Dog('willie', 6)\n",
        "my_dog.sit()\n",
        "my_dog.roll_over()"
      ],
      "metadata": {
        "colab": {
          "base_uri": "https://localhost:8080/"
        },
        "id": "uXNXan0mMzho",
        "outputId": "41c55fef-5b75-4450-bb59-ba15dd0228f4"
      },
      "execution_count": 2,
      "outputs": [
        {
          "output_type": "stream",
          "name": "stdout",
          "text": [
            "willie is now sitting.\n",
            "willie rolled over!\n"
          ]
        }
      ]
    },
    {
      "cell_type": "code",
      "source": [
        "class Dog:\n",
        "  \"\"\"A simple attempt to model a dog.\"\"\"\n",
        "  def __init__(self, name, age):\n",
        "    \"\"\"Initialize name and age attributes.\"\"\"\n",
        "    self.name = name\n",
        "    self.age = age\n",
        "  def sit(self):\n",
        "    \"\"\"Simulate a dog sitting in response to a command.\"\"\"\n",
        "    print(f\"{self.name} is now sitting.\")\n",
        "  def roll_over(self):\n",
        "    \"\"\"Simulate rolling over in response to a command.\"\"\"\n",
        "    print(f\"{self.name} rolled over!\")\n",
        "\n",
        "my_dog = Dog('willie', 6)\n",
        "your_dog = Dog('Lucy', 3)\n",
        "\n",
        "print(f\"My dog's name is {my_dog.name}.\")\n",
        "print(f\"My dog is {my_dog.age} years old.\")\n",
        "my_dog.sit()\n",
        "\n",
        "print(f\"\\nYour dog's name is {your_dog.name}.\")\n",
        "print(f\"Your dog is {your_dog.age} years old.\")\n",
        "your_dog.sit()"
      ],
      "metadata": {
        "colab": {
          "base_uri": "https://localhost:8080/"
        },
        "id": "W8af8rRhM6U0",
        "outputId": "e5985775-7dfc-4929-b2b4-5e37c411023f"
      },
      "execution_count": 3,
      "outputs": [
        {
          "output_type": "stream",
          "name": "stdout",
          "text": [
            "My dog's name is willie.\n",
            "My dog is 6 years old.\n",
            "willie is now sitting.\n",
            "\n",
            "Your dog's name is Lucy.\n",
            "Your dog is 3 years old.\n",
            "Lucy is now sitting.\n"
          ]
        }
      ]
    },
    {
      "cell_type": "code",
      "source": [
        "class Car:\n",
        "  \"\"\"A simple attempt to represent a car.\"\"\"\n",
        "\n",
        "  def __init__(self, make, model, year):\n",
        "    \"\"\"Initialize attributes to describe a car.\"\"\"\n",
        "    self.make = make\n",
        "    self.model = model\n",
        "    self.year = year\n",
        "\n",
        "  def get_descriptive_name(self):\n",
        "    \"\"\"Return a neatly formatted descriptive name.\"\"\"\n",
        "    long_name = f\"{self.year} {self.make} {self.model}\"\n",
        "    return long_name.title()\n",
        "\n",
        "my_new_car = Car('audi', 'a4', 2024)\n",
        "print(my_new_car.get_descriptive_name())"
      ],
      "metadata": {
        "colab": {
          "base_uri": "https://localhost:8080/"
        },
        "id": "a-yCBDIgM-Np",
        "outputId": "87e8b5c2-5e1c-4f37-aad5-04cba2b42c9c"
      },
      "execution_count": 4,
      "outputs": [
        {
          "output_type": "stream",
          "name": "stdout",
          "text": [
            "2024 Audi A4\n"
          ]
        }
      ]
    },
    {
      "cell_type": "code",
      "source": [
        "class Car:\n",
        "  \"\"\"A simple attempt to represent a car.\"\"\"\n",
        "\n",
        "  def __init__(self, make, model, year):\n",
        "    \"\"\"Initialize attributes to describe a car.\"\"\"\n",
        "    self.make = make\n",
        "    self.model = model\n",
        "    self.year = year\n",
        "    self.odometer_reading = 0\n",
        "\n",
        "  def get_descriptive_name(self):\n",
        "    \"\"\"Return a neatly formatted descriptive name.\"\"\"\n",
        "    long_name = f\"{self.year} {self.make} {self.model}\"\n",
        "    return long_name.title()\n",
        "\n",
        "  def read_odometer(self):\n",
        "    \"\"\"Print a statement showing the car's mileage.\"\"\"\n",
        "    print(f\"This car has {self.odometer_reading} miles on it.\")\n",
        "\n",
        "my_new_car = Car('audi', 'a4', 2024)\n",
        "print(my_new_car.get_descriptive_name())\n",
        "my_new_car.read_odometer()"
      ],
      "metadata": {
        "colab": {
          "base_uri": "https://localhost:8080/"
        },
        "id": "mXi-s3rfNB9R",
        "outputId": "d0924cd4-149e-4250-b6ec-446162b4b42f"
      },
      "execution_count": 5,
      "outputs": [
        {
          "output_type": "stream",
          "name": "stdout",
          "text": [
            "2024 Audi A4\n",
            "This car has 0 miles on it.\n"
          ]
        }
      ]
    },
    {
      "cell_type": "code",
      "source": [
        "class Car:\n",
        "  \"\"\"A simple attempt to represent a car.\"\"\"\n",
        "\n",
        "  def __init__(self, make, model, year):\n",
        "    \"\"\"Initialize attributes to describe a car.\"\"\"\n",
        "    self.make = make\n",
        "    self.model = model\n",
        "    self.year = year\n",
        "    self.odometer_reading = 0\n",
        "\n",
        "  def get_descriptive_name(self):\n",
        "    \"\"\"Return a neatly formatted descriptive name.\"\"\"\n",
        "    long_name = f\"{self.year} {self.make} {self.model}\"\n",
        "    return long_name.title()\n",
        "\n",
        "  def read_odometer(self):\n",
        "    \"\"\"Print a statement showing the car's mileage.\"\"\"\n",
        "    print(f\"This car has {self.odometer_reading} miles on it.\")\n",
        "\n",
        "my_new_car = Car('audi', 'a4', 2024)\n",
        "print(my_new_car.get_descriptive_name())\n",
        "my_new_car.odometer_reading = 23\n",
        "my_new_car.read_odometer()"
      ],
      "metadata": {
        "colab": {
          "base_uri": "https://localhost:8080/"
        },
        "id": "33N1OUDANFMe",
        "outputId": "884cd3dd-00d8-489d-eaa7-1b85b37ba0d8"
      },
      "execution_count": 6,
      "outputs": [
        {
          "output_type": "stream",
          "name": "stdout",
          "text": [
            "2024 Audi A4\n",
            "This car has 23 miles on it.\n"
          ]
        }
      ]
    },
    {
      "cell_type": "code",
      "source": [
        "class Car:\n",
        "  \"\"\"A simple attempt to represent a car.\"\"\"\n",
        "\n",
        "  def __init__(self, make, model, year):\n",
        "    \"\"\"Initialize attributes to describe a car.\"\"\"\n",
        "    self.make = make\n",
        "    self.model = model\n",
        "    self.year = year\n",
        "    self.odometer_reading = 0\n",
        "\n",
        "  def get_descriptive_name(self):\n",
        "    \"\"\"Return a neatly formatted descriptive name.\"\"\"\n",
        "    long_name = f\"{self.year} {self.make} {self.model}\"\n",
        "    return long_name.title()\n",
        "\n",
        "  def read_odometer(self):\n",
        "    \"\"\"Print a statement showing the car's mileage.\"\"\"\n",
        "    print(f\"This car has {self.odometer_reading} miles on it.\")\n",
        "\n",
        "  def update_odometer(self, mileage):\n",
        "    \"\"\"Set the odometer reading to the given value.\"\"\"\n",
        "    self.odometer_reading = mileage\n",
        "\n",
        "my_new_car = Car('audi', 'a4', 2024)\n",
        "print(my_new_car.get_descriptive_name())\n",
        "my_new_car.update_odometer(23)\n",
        "my_new_car.read_odometer()"
      ],
      "metadata": {
        "colab": {
          "base_uri": "https://localhost:8080/"
        },
        "id": "mUM8yEG-NJe_",
        "outputId": "83387e22-a923-4e90-c4e3-ba8e8596182d"
      },
      "execution_count": 7,
      "outputs": [
        {
          "output_type": "stream",
          "name": "stdout",
          "text": [
            "2024 Audi A4\n",
            "This car has 23 miles on it.\n"
          ]
        }
      ]
    },
    {
      "cell_type": "code",
      "source": [
        "class Car:\n",
        "  \"\"\"A simple attempt to represent a car.\"\"\"\n",
        "\n",
        "  def __init__(self, make, model, year):\n",
        "    \"\"\"Initialize attributes to describe a car.\"\"\"\n",
        "    self.make = make\n",
        "    self.model = model\n",
        "    self.year = year\n",
        "    self.odometer_reading = 0\n",
        "\n",
        "  def get_descriptive_name(self):\n",
        "    \"\"\"Return a neatly formatted descriptive name.\"\"\"\n",
        "    long_name = f\"{self.year} {self.make} {self.model}\"\n",
        "    return long_name.title()\n",
        "\n",
        "  def read_odometer(self):\n",
        "    \"\"\"Print a statement showing the car's mileage.\"\"\"\n",
        "    print(f\"This car has {self.odometer_reading} miles on it.\")\n",
        "\n",
        "  def update_odometer(self, mileage):\n",
        "    \"\"\"\n",
        "    Set the odometer reading to the given value.\n",
        "    Reject the change if it attempts to roll the odometer back.\n",
        "    \"\"\"\n",
        "    if mileage >= self.odometer_reading:\n",
        "      self.odometer_reading = mileage\n",
        "    else:\n",
        "      print(\"You can't roll back an odometer!\")"
      ],
      "metadata": {
        "id": "0dffq4XNNM24"
      },
      "execution_count": 8,
      "outputs": []
    },
    {
      "cell_type": "code",
      "source": [
        "class Car:\n",
        "  \"\"\"A simple attempt to represent a car.\"\"\"\n",
        "\n",
        "  def __init__(self, make, model, year):\n",
        "    \"\"\"Initialize attributes to describe a car.\"\"\"\n",
        "    self.make = make\n",
        "    self.model = model\n",
        "    self.year = year\n",
        "    self.odometer_reading = 0\n",
        "\n",
        "  def get_descriptive_name(self):\n",
        "    \"\"\"Return a neatly formatted descriptive name.\"\"\"\n",
        "    long_name = f\"{self.year} {self.make} {self.model}\"\n",
        "    return long_name.title()\n",
        "\n",
        "  def read_odometer(self):\n",
        "    \"\"\"Print a statement showing the car's mileage.\"\"\"\n",
        "    print(f\"This car has {self.odometer_reading} miles on it.\")\n",
        "\n",
        "  def update_odometer(self, mileage):\n",
        "    \"\"\"\n",
        "    Set the odometer reading to the given value.\n",
        "    Reject the change if it attempts to roll the odometer back.\n",
        "    \"\"\"\n",
        "    if mileage >= self.odometer_reading:\n",
        "      self.odometer_reading = mileage\n",
        "    else:\n",
        "      print(\"You can't roll back an odometer!\")\n",
        "\n",
        "  def increment_odometer(self, miles):\n",
        "    \"\"\"Add the given amount to the odometer reading.\"\"\"\n",
        "    self.odometer_reading += miles\n",
        "\n",
        "my_used_car = Car('subaru', 'outback', 2019)\n",
        "print(my_used_car.get_descriptive_name())\n",
        "my_used_car.update_odometer(23_500)\n",
        "my_used_car.read_odometer()\n",
        "my_used_car.increment_odometer(100)\n",
        "my_used_car.read_odometer()\n",
        "\n"
      ],
      "metadata": {
        "colab": {
          "base_uri": "https://localhost:8080/"
        },
        "id": "qpnT3E7ONQIM",
        "outputId": "0363893d-4654-4ecb-ccd6-535ba258ab69"
      },
      "execution_count": 9,
      "outputs": [
        {
          "output_type": "stream",
          "name": "stdout",
          "text": [
            "2019 Subaru Outback\n",
            "This car has 23500 miles on it.\n",
            "This car has 23600 miles on it.\n"
          ]
        }
      ]
    },
    {
      "cell_type": "code",
      "source": [
        "class Car:\n",
        "  \"\"\"A simple attempt to represent a car.\"\"\"\n",
        "\n",
        "  def __init__(self, make, model, year):\n",
        "    \"\"\"Initialize attributes to describe a car.\"\"\"\n",
        "    self.make = make\n",
        "    self.model = model\n",
        "    self.year = year\n",
        "    self.odometer_reading = 0\n",
        "\n",
        "  def get_descriptive_name(self):\n",
        "    \"\"\"Return a neatly formatted descriptive name.\"\"\"\n",
        "    long_name = f\"{self.year} {self.make} {self.model}\"\n",
        "    return long_name.title()\n",
        "\n",
        "  def read_odometer(self):\n",
        "    \"\"\"Print a statement showing the car's mileage.\"\"\"\n",
        "    print(f\"This car has {self.odometer_reading} miles on it.\")\n",
        "\n",
        "  def update_odometer(self, mileage):\n",
        "    \"\"\"\n",
        "    Set the odometer reading to the given value.\n",
        "    Reject the change if it attempts to roll the odometer back.\n",
        "    \"\"\"\n",
        "    if mileage >= self.odometer_reading:\n",
        "      self.odometer_reading = mileage\n",
        "    else:\n",
        "      print(\"You can't roll back an odometer!\")\n",
        "\n",
        "  def increment_odometer(self, miles):\n",
        "    \"\"\"Add the given amount to the odometer reading.\"\"\"\n",
        "    self.odometer_reading += miles\n",
        "\n",
        "class ElectricCar(Car):\n",
        "    \"\"\"Represent aspects of a car, specific to electric vehicles.\"\"\"\n",
        "\n",
        "    def __init__(self, make, model, year):\n",
        "      \"\"\"Initialize attributes of the parent class.\"\"\"\n",
        "      super().__init__(make, model, year)\n",
        "\n",
        "my_leaf = ElectricCar('nissan', 'leaf', 2024)\n",
        "print(my_leaf.get_descriptive_name())"
      ],
      "metadata": {
        "colab": {
          "base_uri": "https://localhost:8080/"
        },
        "id": "7XKWXRHoNVnK",
        "outputId": "410d5a70-e2a6-4184-a353-5272499f84eb"
      },
      "execution_count": 10,
      "outputs": [
        {
          "output_type": "stream",
          "name": "stdout",
          "text": [
            "2024 Nissan Leaf\n"
          ]
        }
      ]
    },
    {
      "cell_type": "code",
      "source": [
        "class Car:\n",
        "  \"\"\"A simple attempt to represent a car.\"\"\"\n",
        "\n",
        "  def __init__(self, make, model, year):\n",
        "    \"\"\"Initialize attributes to describe a car.\"\"\"\n",
        "    self.make = make\n",
        "    self.model = model\n",
        "    self.year = year\n",
        "    self.odometer_reading = 0\n",
        "\n",
        "  def get_descriptive_name(self):\n",
        "    \"\"\"Return a neatly formatted descriptive name.\"\"\"\n",
        "    long_name = f\"{self.year} {self.make} {self.model}\"\n",
        "    return long_name.title()\n",
        "\n",
        "  def read_odometer(self):\n",
        "    \"\"\"Print a statement showing the car's mileage.\"\"\"\n",
        "    print(f\"This car has {self.odometer_reading} miles on it.\")\n",
        "\n",
        "  def update_odometer(self, mileage):\n",
        "    \"\"\"\n",
        "    Set the odometer reading to the given value.\n",
        "    Reject the change if it attempts to roll the odometer back.\n",
        "    \"\"\"\n",
        "    if mileage >= self.odometer_reading:\n",
        "      self.odometer_reading = mileage\n",
        "    else:\n",
        "      print(\"You can't roll back an odometer!\")\n",
        "\n",
        "  def increment_odometer(self, miles):\n",
        "    \"\"\"Add the given amount to the odometer reading.\"\"\"\n",
        "    self.odometer_reading += miles\n",
        "\n",
        "class ElectricCar(Car):\n",
        "    \"\"\"Represent aspects of a car, specific to electric vehicles.\"\"\"\n",
        "\n",
        "    def __init__(self, make, model, year):\n",
        "      \"\"\"\n",
        "      Initialize attributes of the parent class.\n",
        "      Then initialize attributes specific to an electric car.\n",
        "      \"\"\"\n",
        "      super().__init__(make, model, year)\n",
        "      self.battery_size = 40\n",
        "\n",
        "    def describe_battery(self):\n",
        "      \"\"\"Print a statement describing the battery size.\"\"\"\n",
        "      print(f\"This car has a {self.battery_size}-kWh battery.\")\n",
        "\n",
        "my_leaf = ElectricCar('nissan', 'leaf', 2024)\n",
        "print(my_leaf.get_descriptive_name())\n",
        "my_leaf.describe_battery()"
      ],
      "metadata": {
        "colab": {
          "base_uri": "https://localhost:8080/"
        },
        "id": "WGiEb1FKNaJM",
        "outputId": "d1a641ee-aeaf-4ee7-ef3d-eefcf47c282f"
      },
      "execution_count": 11,
      "outputs": [
        {
          "output_type": "stream",
          "name": "stdout",
          "text": [
            "2024 Nissan Leaf\n",
            "This car has a 40-kWh battery.\n"
          ]
        }
      ]
    },
    {
      "cell_type": "code",
      "source": [
        "class Car:\n",
        "  \"\"\"A simple attempt to represent a car.\"\"\"\n",
        "\n",
        "  def __init__(self, make, model, year):\n",
        "    \"\"\"Initialize attributes to describe a car.\"\"\"\n",
        "    self.make = make\n",
        "    self.model = model\n",
        "    self.year = year\n",
        "    self.odometer_reading = 0\n",
        "\n",
        "  def get_descriptive_name(self):\n",
        "    \"\"\"Return a neatly formatted descriptive name.\"\"\"\n",
        "    long_name = f\"{self.year} {self.make} {self.model}\"\n",
        "    return long_name.title()\n",
        "\n",
        "  def read_odometer(self):\n",
        "    \"\"\"Print a statement showing the car's mileage.\"\"\"\n",
        "    print(f\"This car has {self.odometer_reading} miles on it.\")\n",
        "\n",
        "  def update_odometer(self, mileage):\n",
        "    \"\"\"\n",
        "    Set the odometer reading to the given value.\n",
        "    Reject the change if it attempts to roll the odometer back.\n",
        "    \"\"\"\n",
        "    if mileage >= self.odometer_reading:\n",
        "      self.odometer_reading = mileage\n",
        "    else:\n",
        "      print(\"You can't roll back an odometer!\")\n",
        "\n",
        "  def increment_odometer(self, miles):\n",
        "    \"\"\"Add the given amount to the odometer reading.\"\"\"\n",
        "    self.odometer_reading += miles\n",
        "\n",
        "class ElectricCar(Car):\n",
        "    \"\"\"Represent aspects of a car, specific to electric vehicles.\"\"\"\n",
        "\n",
        "    def __init__(self, make, model, year):\n",
        "      \"\"\"\n",
        "      Initialize attributes of the parent class.\n",
        "      Then initialize attributes specific to an electric car.\n",
        "      \"\"\"\n",
        "      super().__init__(make, model, year)\n",
        "      self.battery_size = 40\n",
        "\n",
        "    def describe_battery(self):\n",
        "      \"\"\"Print a statement describing the battery size.\"\"\"\n",
        "      print(f\"This car has a {self.battery_size}-kWh battery.\")\n",
        "\n",
        "    def fill_gas_tank(self):\n",
        "      \"\"\"Electric cars don't have gas tanks.\"\"\"\n",
        "      print(\"This car doesn't have a gas tank!\")"
      ],
      "metadata": {
        "id": "1CFLrDi4NdvN"
      },
      "execution_count": 12,
      "outputs": []
    },
    {
      "cell_type": "code",
      "source": [
        "class Car:\n",
        "  \"\"\"A simple attempt to represent a car.\"\"\"\n",
        "\n",
        "  def __init__(self, make, model, year):\n",
        "    \"\"\"Initialize attributes to describe a car.\"\"\"\n",
        "    self.make = make\n",
        "    self.model = model\n",
        "    self.year = year\n",
        "    self.odometer_reading = 0\n",
        "\n",
        "  def get_descriptive_name(self):\n",
        "    \"\"\"Return a neatly formatted descriptive name.\"\"\"\n",
        "    long_name = f\"{self.year} {self.make} {self.model}\"\n",
        "    return long_name.title()\n",
        "\n",
        "  def read_odometer(self):\n",
        "    \"\"\"Print a statement showing the car's mileage.\"\"\"\n",
        "    print(f\"This car has {self.odometer_reading} miles on it.\")\n",
        "\n",
        "  def update_odometer(self, mileage):\n",
        "    \"\"\"\n",
        "    Set the odometer reading to the given value.\n",
        "    Reject the change if it attempts to roll the odometer back.\n",
        "    \"\"\"\n",
        "    if mileage >= self.odometer_reading:\n",
        "      self.odometer_reading = mileage\n",
        "    else:\n",
        "      print(\"You can't roll back an odometer!\")\n",
        "\n",
        "  def increment_odometer(self, miles):\n",
        "    \"\"\"Add the given amount to the odometer reading.\"\"\"\n",
        "    self.odometer_reading += miles\n",
        "\n",
        "class Battery:\n",
        "    \"\"\"A simple attempt to model a battery for an electric car.\"\"\"\n",
        "\n",
        "    def __init__(self, battery_size=40):\n",
        "      \"\"\"Initialize the battery's attributes.\"\"\"\n",
        "      self.battery_size = battery_size\n",
        "\n",
        "    def describe_battery(self):\n",
        "      \"\"\"Print a statement describing the battery size.\"\"\"\n",
        "      print(f\"This car has a {self.battery_size}-kWh battery.\")\n",
        "\n",
        "class ElectricCar(Car):\n",
        "    \"\"\"Represent aspects of a car, specific to electric vehicles.\"\"\"\n",
        "\n",
        "    def __init__(self, make, model, year):\n",
        "      \"\"\"\n",
        "      Initialize attributes of the parent class.\n",
        "      Then initialize attributes specific to an electric car.\n",
        "      \"\"\"\n",
        "      super().__init__(make, model, year)\n",
        "      self.battery = Battery()\n",
        "\n",
        "my_leaf = ElectricCar('nissan', 'leaf', 2024)\n",
        "print(my_leaf.get_descriptive_name())\n",
        "my_leaf.battery.describe_battery()"
      ],
      "metadata": {
        "colab": {
          "base_uri": "https://localhost:8080/"
        },
        "id": "bUXzfYzQNh4L",
        "outputId": "8de740b2-dc12-470d-ff4c-ee040c4476f9"
      },
      "execution_count": 13,
      "outputs": [
        {
          "output_type": "stream",
          "name": "stdout",
          "text": [
            "2024 Nissan Leaf\n",
            "This car has a 40-kWh battery.\n"
          ]
        }
      ]
    },
    {
      "cell_type": "code",
      "source": [
        "class Car:\n",
        "  \"\"\"A simple attempt to represent a car.\"\"\"\n",
        "\n",
        "  def __init__(self, make, model, year):\n",
        "    \"\"\"Initialize attributes to describe a car.\"\"\"\n",
        "    self.make = make\n",
        "    self.model = model\n",
        "    self.year = year\n",
        "    self.odometer_reading = 0\n",
        "\n",
        "  def get_descriptive_name(self):\n",
        "    \"\"\"Return a neatly formatted descriptive name.\"\"\"\n",
        "    long_name = f\"{self.year} {self.make} {self.model}\"\n",
        "    return long_name.title()\n",
        "\n",
        "  def read_odometer(self):\n",
        "    \"\"\"Print a statement showing the car's mileage.\"\"\"\n",
        "    print(f\"This car has {self.odometer_reading} miles on it.\")\n",
        "\n",
        "  def update_odometer(self, mileage):\n",
        "    \"\"\"\n",
        "    Set the odometer reading to the given value.\n",
        "    Reject the change if it attempts to roll the odometer back.\n",
        "    \"\"\"\n",
        "    if mileage >= self.odometer_reading:\n",
        "      self.odometer_reading = mileage\n",
        "    else:\n",
        "      print(\"You can't roll back an odometer!\")\n",
        "\n",
        "  def increment_odometer(self, miles):\n",
        "    \"\"\"Add the given amount to the odometer reading.\"\"\"\n",
        "    self.odometer_reading += miles\n",
        "\n",
        "class Battery:\n",
        "    \"\"\"A simple attempt to model a battery for an electric car.\"\"\"\n",
        "\n",
        "    def __init__(self, battery_size=40):\n",
        "      \"\"\"Initialize the battery's attributes.\"\"\"\n",
        "      self.battery_size = battery_size\n",
        "\n",
        "    def describe_battery(self):\n",
        "      \"\"\"Print a statement describing the battery size.\"\"\"\n",
        "      print(f\"This car has a {self.battery_size}-kWh battery.\")\n",
        "\n",
        "    def get_range(self):\n",
        "      \"\"\"Print a statement about the range this battery provides.\"\"\"\n",
        "      if self.battery_size == 40:\n",
        "        range = 150\n",
        "      elif self.battery_size == 65:\n",
        "        ange = 225\n",
        "      print(f\"This car can go about {range} miles on a full charge.\")\n",
        "\n",
        "class ElectricCar(Car):\n",
        "    \"\"\"Represent aspects of a car, specific to electric vehicles.\"\"\"\n",
        "\n",
        "    def __init__(self, make, model, year):\n",
        "      \"\"\"\n",
        "      Initialize attributes of the parent class.\n",
        "      Then initialize attributes specific to an electric car.\n",
        "      \"\"\"\n",
        "      super().__init__(make, model, year)\n",
        "      self.battery = Battery()\n",
        "\n",
        "my_leaf = ElectricCar('nissan', 'leaf', 2024)\n",
        "print(my_leaf.get_descriptive_name())\n",
        "my_leaf.battery.describe_battery()\n",
        "my_leaf.battery.get_range()"
      ],
      "metadata": {
        "colab": {
          "base_uri": "https://localhost:8080/"
        },
        "id": "QEg_FkVLNm5l",
        "outputId": "57f1425b-c3f7-4b15-a9ce-5551cabe7bb0"
      },
      "execution_count": 14,
      "outputs": [
        {
          "output_type": "stream",
          "name": "stdout",
          "text": [
            "2024 Nissan Leaf\n",
            "This car has a 40-kWh battery.\n",
            "This car can go about 150 miles on a full charge.\n"
          ]
        }
      ]
    },
    {
      "cell_type": "code",
      "source": [
        "\"\"\"A class that can be used to represent a car.\"\"\"\n",
        "\n",
        "class Car:\n",
        "    \"\"\"A simple attempt to represent a car.\"\"\"\n",
        "    def __init__(self, make, model, year):\n",
        "      \"\"\"Initialize attributes to describe a car.\"\"\"\n",
        "      self.make = make\n",
        "      self.model = model\n",
        "      self.year = year\n",
        "      self.odometer_reading = 0\n",
        "    def get_descriptive_name(self):\n",
        "      \"\"\"Return a neatly formatted descriptive name.\"\"\"\n",
        "      long_name = f\"{self.year} {self.make} {self.model}\"\n",
        "      return long_name.title()\n",
        "    def read_odometer(self):\n",
        "      \"\"\"Print a statement showing the car's mileage.\"\"\"\n",
        "      print(f\"This car has {self.odometer_reading} miles on it.\")\n",
        "    def update_odometer(self, mileage):\n",
        "      \"\"\"\n",
        "      Set the odometer reading to the given value.\n",
        "      Reject the change if it attempts to roll the odometer back.\n",
        "      \"\"\"\n",
        "      if mileage >= self.odometer_reading:\n",
        "        self.odometer_reading = mileage\n",
        "      else:\n",
        "        print(\"You can't roll back an odometer!\")\n",
        "    def increment_odometer(self, miles):\n",
        "      \"\"\"Add the given amount to the odometer reading.\"\"\"\n",
        "      self.odometer_reading += miles"
      ],
      "metadata": {
        "id": "qG-8g3dENqbD"
      },
      "execution_count": 15,
      "outputs": []
    },
    {
      "cell_type": "code",
      "source": [
        "#from car import Car\n",
        "my_new_car = Car('audi', 'a4', 2024)\n",
        "print(my_new_car.get_descriptive_name())\n",
        "my_new_car.odometer_reading = 23\n",
        "my_new_car.read_odometer()"
      ],
      "metadata": {
        "colab": {
          "base_uri": "https://localhost:8080/"
        },
        "id": "EGc2eB_INtlv",
        "outputId": "1c9e4215-40e8-4b03-bb1f-ebc107db7809"
      },
      "execution_count": 16,
      "outputs": [
        {
          "output_type": "stream",
          "name": "stdout",
          "text": [
            "2024 Audi A4\n",
            "This car has 23 miles on it.\n"
          ]
        }
      ]
    },
    {
      "cell_type": "code",
      "source": [
        "\"\"\"A set of classes used to represent gas and electric cars.\"\"\"\n",
        "\n",
        "class Car:\n",
        "  \"\"\"A simple attempt to represent a car.\"\"\"\n",
        "\n",
        "  def __init__(self, make, model, year):\n",
        "    \"\"\"Initialize attributes to describe a car.\"\"\"\n",
        "    self.make = make\n",
        "    self.model = model\n",
        "    self.year = year\n",
        "    self.odometer_reading = 0\n",
        "\n",
        "  def get_descriptive_name(self):\n",
        "    \"\"\"Return a neatly formatted descriptive name.\"\"\"\n",
        "    long_name = f\"{self.year} {self.make} {self.model}\"\n",
        "    return long_name.title()\n",
        "\n",
        "  def read_odometer(self):\n",
        "    \"\"\"Print a statement showing the car's mileage.\"\"\"\n",
        "    print(f\"This car has {self.odometer_reading} miles on it.\")\n",
        "\n",
        "  def update_odometer(self, mileage):\n",
        "    \"\"\"\n",
        "    Set the odometer reading to the given value.\n",
        "    Reject the change if it attempts to roll the odometer back.\n",
        "    \"\"\"\n",
        "    if mileage >= self.odometer_reading:\n",
        "      self.odometer_reading = mileage\n",
        "    else:\n",
        "      print(\"You can't roll back an odometer!\")\n",
        "\n",
        "  def increment_odometer(self, miles):\n",
        "    \"\"\"Add the given amount to the odometer reading.\"\"\"\n",
        "    self.odometer_reading += miles\n",
        "\n",
        "class Battery:\n",
        "    \"\"\"A simple attempt to model a battery for an electric car.\"\"\"\n",
        "\n",
        "    def __init__(self, battery_size=40):\n",
        "      \"\"\"Initialize the battery's attributes.\"\"\"\n",
        "      self.battery_size = battery_size\n",
        "\n",
        "    def describe_battery(self):\n",
        "      \"\"\"Print a statement describing the battery size.\"\"\"\n",
        "      print(f\"This car has a {self.battery_size}-kWh battery.\")\n",
        "\n",
        "    def get_range(self):\n",
        "      \"\"\"Print a statement about the range this battery provides.\"\"\"\n",
        "      if self.battery_size == 40:\n",
        "        range = 150\n",
        "      elif self.battery_size == 65:\n",
        "        ange = 225\n",
        "      print(f\"This car can go about {range} miles on a full charge.\")\n",
        "\n",
        "class ElectricCar(Car):\n",
        "    \"\"\"Represent aspects of a car, specific to electric vehicles.\"\"\"\n",
        "\n",
        "    def __init__(self, make, model, year):\n",
        "      \"\"\"\n",
        "      Initialize attributes of the parent class.\n",
        "      Then initialize attributes specific to an electric car.\n",
        "      \"\"\"\n",
        "      super().__init__(make, model, year)\n",
        "      self.battery = Battery()"
      ],
      "metadata": {
        "id": "-qRku6uhNwRE"
      },
      "execution_count": 17,
      "outputs": []
    },
    {
      "cell_type": "code",
      "source": [
        "#from car import ElectricCar\n",
        "\n",
        "my_leaf = ElectricCar('nissan', 'leaf', 2024)\n",
        "print(my_leaf.get_descriptive_name())\n",
        "my_leaf.battery.describe_battery()\n",
        "my_leaf.battery.get_range()"
      ],
      "metadata": {
        "colab": {
          "base_uri": "https://localhost:8080/"
        },
        "id": "auGhls8eN0Ia",
        "outputId": "c3dc150a-9b97-4d2f-c1dc-33ef96362286"
      },
      "execution_count": 18,
      "outputs": [
        {
          "output_type": "stream",
          "name": "stdout",
          "text": [
            "2024 Nissan Leaf\n",
            "This car has a 40-kWh battery.\n",
            "This car can go about 150 miles on a full charge.\n"
          ]
        }
      ]
    },
    {
      "cell_type": "code",
      "source": [
        "#from car import Car, ElectricCar\n",
        "\n",
        "my_mustang = Car('ford', 'mustang', 2024)\n",
        "print(my_mustang.get_descriptive_name())\n",
        "my_leaf = ElectricCar('nissan', 'leaf', 2024)\n",
        "print(my_leaf.get_descriptive_name())"
      ],
      "metadata": {
        "colab": {
          "base_uri": "https://localhost:8080/"
        },
        "id": "M8nXPCKrN4KY",
        "outputId": "5cbf221c-91f6-48d9-b4b6-b8341c50e3cf"
      },
      "execution_count": 19,
      "outputs": [
        {
          "output_type": "stream",
          "name": "stdout",
          "text": [
            "2024 Ford Mustang\n",
            "2024 Nissan Leaf\n"
          ]
        }
      ]
    },
    {
      "cell_type": "code",
      "source": [
        "#import car\n",
        "\n",
        "my_mustang = Car('ford', 'mustang', 2024)\n",
        "print(my_mustang.get_descriptive_name())\n",
        "\n",
        "my_leaf = ElectricCar('nissan', 'leaf', 2024)\n",
        "print(my_leaf.get_descriptive_name())"
      ],
      "metadata": {
        "colab": {
          "base_uri": "https://localhost:8080/"
        },
        "id": "pjRlBlVeN6Wp",
        "outputId": "8e126e81-5c30-4065-8bc2-e3f628c0ef8e"
      },
      "execution_count": 20,
      "outputs": [
        {
          "output_type": "stream",
          "name": "stdout",
          "text": [
            "2024 Ford Mustang\n",
            "2024 Nissan Leaf\n"
          ]
        }
      ]
    },
    {
      "cell_type": "code",
      "source": [
        "\"\"\"A set of classes that can be used to represent electric cars.\"\"\"\n",
        "\n",
        "#from car import Car\n",
        "\n",
        "class Car:\n",
        "  \"\"\"A simple attempt to represent a car.\"\"\"\n",
        "\n",
        "  def __init__(self, make, model, year):\n",
        "    \"\"\"Initialize attributes to describe a car.\"\"\"\n",
        "    self.make = make\n",
        "    self.model = model\n",
        "    self.year = year\n",
        "    self.odometer_reading = 0\n",
        "\n",
        "  def get_descriptive_name(self):\n",
        "    \"\"\"Return a neatly formatted descriptive name.\"\"\"\n",
        "    long_name = f\"{self.year} {self.make} {self.model}\"\n",
        "    return long_name.title()\n",
        "\n",
        "  def read_odometer(self):\n",
        "    \"\"\"Print a statement showing the car's mileage.\"\"\"\n",
        "    print(f\"This car has {self.odometer_reading} miles on it.\")\n",
        "\n",
        "  def update_odometer(self, mileage):\n",
        "    \"\"\"\n",
        "    Set the odometer reading to the given value.\n",
        "    Reject the change if it attempts to roll the odometer back.\n",
        "    \"\"\"\n",
        "    if mileage >= self.odometer_reading:\n",
        "      self.odometer_reading = mileage\n",
        "    else:\n",
        "      print(\"You can't roll back an odometer!\")\n",
        "\n",
        "  def increment_odometer(self, miles):\n",
        "    \"\"\"Add the given amount to the odometer reading.\"\"\"\n",
        "    self.odometer_reading += miles\n",
        "\n",
        "class Battery:\n",
        "    \"\"\"A simple attempt to model a battery for an electric car.\"\"\"\n",
        "\n",
        "    def __init__(self, battery_size=40):\n",
        "      \"\"\"Initialize the battery's attributes.\"\"\"\n",
        "      self.battery_size = battery_size\n",
        "\n",
        "    def describe_battery(self):\n",
        "      \"\"\"Print a statement describing the battery size.\"\"\"\n",
        "      print(f\"This car has a {self.battery_size}-kWh battery.\")\n",
        "\n",
        "    def get_range(self):\n",
        "      \"\"\"Print a statement about the range this battery provides.\"\"\"\n",
        "      if self.battery_size == 40:\n",
        "        range = 150\n",
        "      elif self.battery_size == 65:\n",
        "        ange = 225\n",
        "      print(f\"This car can go about {range} miles on a full charge.\")\n",
        "\n",
        "class ElectricCar(Car):\n",
        "    \"\"\"Represent aspects of a car, specific to electric vehicles.\"\"\"\n",
        "\n",
        "    def __init__(self, make, model, year):\n",
        "      \"\"\"\n",
        "      Initialize attributes of the parent class.\n",
        "      Then initialize attributes specific to an electric car.\n",
        "      \"\"\"\n",
        "      super().__init__(make, model, year)\n",
        "      self.battery = Battery()"
      ],
      "metadata": {
        "id": "9SgAuOCBN9BW"
      },
      "execution_count": 21,
      "outputs": []
    },
    {
      "cell_type": "code",
      "source": [
        "\"\"\"A class that can be used to represent a car.\"\"\"\n",
        "\n",
        "class Car:\n",
        "  \"\"\"A simple attempt to represent a car.\"\"\"\n",
        "\n",
        "  def __init__(self, make, model, year):\n",
        "    \"\"\"Initialize attributes to describe a car.\"\"\"\n",
        "    self.make = make\n",
        "    self.model = model\n",
        "    self.year = year\n",
        "    self.odometer_reading = 0\n",
        "\n",
        "  def get_descriptive_name(self):\n",
        "    \"\"\"Return a neatly formatted descriptive name.\"\"\"\n",
        "    long_name = f\"{self.year} {self.make} {self.model}\"\n",
        "    return long_name.title()\n",
        "\n",
        "  def read_odometer(self):\n",
        "    \"\"\"Print a statement showing the car's mileage.\"\"\"\n",
        "    print(f\"This car has {self.odometer_reading} miles on it.\")\n",
        "\n",
        "  def update_odometer(self, mileage):\n",
        "    \"\"\"\n",
        "    Set the odometer reading to the given value.\n",
        "    Reject the change if it attempts to roll the odometer back.\n",
        "    \"\"\"\n",
        "    if mileage >= self.odometer_reading:\n",
        "      self.odometer_reading = mileage\n",
        "    else:\n",
        "      print(\"You can't roll back an odometer!\")\n",
        "\n",
        "  def increment_odometer(self, miles):\n",
        "    \"\"\"Add the given amount to the odometer reading.\"\"\"\n",
        "    self.odometer_reading += miles"
      ],
      "metadata": {
        "id": "oNFH1tgLOBI7"
      },
      "execution_count": 22,
      "outputs": []
    },
    {
      "cell_type": "code",
      "source": [
        "#from car import Car\n",
        "#from electric_car import ElectricCar\n",
        "my_mustang = Car('ford', 'mustang', 2024)\n",
        "print(my_mustang.get_descriptive_name())\n",
        "my_leaf = ElectricCar('nissan', 'leaf', 2024)\n",
        "print(my_leaf.get_descriptive_name())"
      ],
      "metadata": {
        "colab": {
          "base_uri": "https://localhost:8080/"
        },
        "id": "tTSR5aiBOEt1",
        "outputId": "d7625f59-69fc-434b-da96-94040a26526c"
      },
      "execution_count": 23,
      "outputs": [
        {
          "output_type": "stream",
          "name": "stdout",
          "text": [
            "2024 Ford Mustang\n",
            "2024 Nissan Leaf\n"
          ]
        }
      ]
    },
    {
      "cell_type": "code",
      "source": [
        "#import car\n",
        "\n",
        "my_mustang = Car('ford', 'mustang', 2024)\n",
        "print(my_mustang.get_descriptive_name())\n",
        "\n",
        "my_leaf = ElectricCar('nissan', 'leaf', 2024)\n",
        "print(my_leaf.get_descriptive_name())\n"
      ],
      "metadata": {
        "colab": {
          "base_uri": "https://localhost:8080/"
        },
        "id": "2aEotrW6OHMk",
        "outputId": "a83a7317-84f9-4b28-f769-406dc5c50475"
      },
      "execution_count": 24,
      "outputs": [
        {
          "output_type": "stream",
          "name": "stdout",
          "text": [
            "2024 Ford Mustang\n",
            "2024 Nissan Leaf\n"
          ]
        }
      ]
    },
    {
      "cell_type": "code",
      "source": [
        "\"\"\"A set of classes that can be used to represent electric cars.\"\"\"\n",
        "#from car import Car\n",
        "\n",
        "class Battery:\n",
        "    \"\"\"A simple attempt to model a battery for an electric car.\"\"\"\n",
        "\n",
        "    def __init__(self, battery_size=40):\n",
        "      \"\"\"Initialize the battery's attributes.\"\"\"\n",
        "      self.battery_size = battery_size\n",
        "\n",
        "    def describe_battery(self):\n",
        "      \"\"\"Print a statement describing the battery size.\"\"\"\n",
        "      print(f\"This car has a {self.battery_size}-kWh battery.\")\n",
        "\n",
        "    def get_range(self):\n",
        "      \"\"\"Print a statement about the range this battery provides.\"\"\"\n",
        "      if self.battery_size == 40:\n",
        "        range = 150\n",
        "      elif self.battery_size == 65:\n",
        "        ange = 225\n",
        "      print(f\"This car can go about {range} miles on a full charge.\")\n",
        "\n",
        "class ElectricCar(Car):\n",
        "    \"\"\"Represent aspects of a car, specific to electric vehicles.\"\"\"\n",
        "\n",
        "    def __init__(self, make, model, year):\n",
        "      \"\"\"\n",
        "      Initialize attributes of the parent class.\n",
        "      Then initialize attributes specific to an electric car.\n",
        "      \"\"\"\n",
        "      super().__init__(make, model, year)\n",
        "      self.battery = Battery()"
      ],
      "metadata": {
        "id": "z4ZAYck7OJiU"
      },
      "execution_count": 25,
      "outputs": []
    },
    {
      "cell_type": "code",
      "source": [
        "\"\"\"A class that can be used to represent a car.\"\"\"\n",
        "\n",
        "class Car:\n",
        "  \"\"\"A simple attempt to represent a car.\"\"\"\n",
        "\n",
        "  def __init__(self, make, model, year):\n",
        "    \"\"\"Initialize attributes to describe a car.\"\"\"\n",
        "    self.make = make\n",
        "    self.model = model\n",
        "    self.year = year\n",
        "    self.odometer_reading = 0\n",
        "\n",
        "  def get_descriptive_name(self):\n",
        "    \"\"\"Return a neatly formatted descriptive name.\"\"\"\n",
        "    long_name = f\"{self.year} {self.make} {self.model}\"\n",
        "    return long_name.title()\n",
        "\n",
        "  def read_odometer(self):\n",
        "    \"\"\"Print a statement showing the car's mileage.\"\"\"\n",
        "    print(f\"This car has {self.odometer_reading} miles on it.\")\n",
        "\n",
        "  def update_odometer(self, mileage):\n",
        "    \"\"\"\n",
        "    Set the odometer reading to the given value.\n",
        "    Reject the change if it attempts to roll the odometer back.\n",
        "    \"\"\"\n",
        "    if mileage >= self.odometer_reading:\n",
        "      self.odometer_reading = mileage\n",
        "    else:\n",
        "      print(\"You can't roll back an odometer!\")\n",
        "\n",
        "  def increment_odometer(self, miles):\n",
        "    \"\"\"Add the given amount to the odometer reading.\"\"\"\n",
        "    self.odometer_reading += miles\n"
      ],
      "metadata": {
        "id": "ndJIuEImONC-"
      },
      "execution_count": 26,
      "outputs": []
    },
    {
      "cell_type": "code",
      "source": [
        "#from car import Car\n",
        "#from electric_car import ElectricCar\n",
        "my_mustang = Car('ford', 'mustang', 2024)\n",
        "print(my_mustang.get_descriptive_name())\n",
        "my_leaf = ElectricCar('nissan', 'leaf', 2024)\n",
        "print(my_leaf.get_descriptive_name())"
      ],
      "metadata": {
        "colab": {
          "base_uri": "https://localhost:8080/"
        },
        "id": "V8j6ZA1FOQc-",
        "outputId": "78bf0f6a-f7cc-4d6b-d6d4-95097a3e5dda"
      },
      "execution_count": 27,
      "outputs": [
        {
          "output_type": "stream",
          "name": "stdout",
          "text": [
            "2024 Ford Mustang\n",
            "2024 Nissan Leaf\n"
          ]
        }
      ]
    },
    {
      "cell_type": "code",
      "source": [
        "#from electric_car import ElectricCar as EC\n",
        "\n",
        "my_leaf = ElectricCar('nissan', 'leaf', 2024)\n",
        "\n",
        "#import electric_car as ec\n",
        "\n",
        "my_leaf = ElectricCar('nissan', 'leaf', 2024)"
      ],
      "metadata": {
        "id": "RgPwwD4DOTON"
      },
      "execution_count": 28,
      "outputs": []
    },
    {
      "cell_type": "code",
      "source": [
        "from random import randint\n",
        "randint(1, 6)"
      ],
      "metadata": {
        "colab": {
          "base_uri": "https://localhost:8080/"
        },
        "id": "6Okl6BatOWEl",
        "outputId": "919a7a29-18e7-4ee9-9e91-99e907d768cf"
      },
      "execution_count": 29,
      "outputs": [
        {
          "output_type": "execute_result",
          "data": {
            "text/plain": [
              "4"
            ]
          },
          "metadata": {},
          "execution_count": 29
        }
      ]
    },
    {
      "cell_type": "code",
      "source": [
        "from random import choice\n",
        "players =  ['charles', 'martina', 'michael', 'florence', 'eli']\n",
        "\n",
        "first_up = choice(players)\n",
        "first_up\n",
        "'florence'"
      ],
      "metadata": {
        "colab": {
          "base_uri": "https://localhost:8080/",
          "height": 35
        },
        "id": "DiU6YlBIOYf3",
        "outputId": "95a6abb8-6308-42a2-ed97-a08521616a82"
      },
      "execution_count": 31,
      "outputs": [
        {
          "output_type": "execute_result",
          "data": {
            "text/plain": [
              "'florence'"
            ],
            "application/vnd.google.colaboratory.intrinsic+json": {
              "type": "string"
            }
          },
          "metadata": {},
          "execution_count": 31
        }
      ]
    },
    {
      "cell_type": "code",
      "source": [
        "# TIY 9-1, 9-2, 9-3, 9-6, and 9-7.\n",
        "class Restaurant:\n",
        "    def __init__(self, restaurant_name, cuisine_type):\n",
        "        self.restaurant_name = restaurant_name\n",
        "        self.cuisine_type = cuisine_type\n",
        "\n",
        "    def describe_restaurant(self):\n",
        "        print(f\"Restaurant Name: {self.restaurant_name}\")\n",
        "        print(f\"Cuisine Type: {self.cuisine_type}\")\n",
        "\n",
        "    def open_restaurant(self):\n",
        "        print(f\"The restaurant {self.restaurant_name} is now open!\")\n",
        "\n",
        "restaurant = Restaurant(\"Sample Restaurant\", \"Italian\")\n",
        "\n",
        "print(\"Restaurant Name:\", restaurant.restaurant_name)\n",
        "print(\"Cuisine Type:\", restaurant.cuisine_type)\n",
        "\n",
        "restaurant.describe_restaurant()\n",
        "restaurant.open_restaurant()"
      ],
      "metadata": {
        "colab": {
          "base_uri": "https://localhost:8080/"
        },
        "id": "3oFZMT_nOaz_",
        "outputId": "f7244749-8483-4bb9-f706-7dc1f50f0b47"
      },
      "execution_count": 32,
      "outputs": [
        {
          "output_type": "stream",
          "name": "stdout",
          "text": [
            "Restaurant Name: Sample Restaurant\n",
            "Cuisine Type: Italian\n",
            "Restaurant Name: Sample Restaurant\n",
            "Cuisine Type: Italian\n",
            "The restaurant Sample Restaurant is now open!\n"
          ]
        }
      ]
    },
    {
      "cell_type": "code",
      "source": [
        "class Restaurant:\n",
        "    def __init__(self, restaurant_name, cuisine_type):\n",
        "        self.restaurant_name = restaurant_name\n",
        "        self.cuisine_type = cuisine_type\n",
        "\n",
        "    def describe_restaurant(self):\n",
        "        print(f\"Restaurant Name: {self.restaurant_name}\")\n",
        "        print(f\"Cuisine Type: {self.cuisine_type}\")\n",
        "\n",
        "restaurant1 = Restaurant(\"Restaurant A\", \"Japanese\")\n",
        "restaurant2 = Restaurant(\"Restaurant B\", \"Italian\")\n",
        "restaurant3 = Restaurant(\"Restaurant C\", \"Mexican\")\n",
        "\n",
        "restaurant1.describe_restaurant()\n",
        "restaurant2.describe_restaurant()\n",
        "restaurant3.describe_restaurant()"
      ],
      "metadata": {
        "colab": {
          "base_uri": "https://localhost:8080/"
        },
        "id": "FkeaD_yROrne",
        "outputId": "e61b11ea-5890-428e-baaf-fb0ad9ceb7a0"
      },
      "execution_count": 33,
      "outputs": [
        {
          "output_type": "stream",
          "name": "stdout",
          "text": [
            "Restaurant Name: Restaurant A\n",
            "Cuisine Type: Japanese\n",
            "Restaurant Name: Restaurant B\n",
            "Cuisine Type: Italian\n",
            "Restaurant Name: Restaurant C\n",
            "Cuisine Type: Mexican\n"
          ]
        }
      ]
    },
    {
      "cell_type": "code",
      "source": [
        "class User:\n",
        "    def __init__(self, first_name, last_name, username, email, age, location):\n",
        "        self.first_name = first_name\n",
        "        self.last_name = last_name\n",
        "        self.username = username\n",
        "        self.email = email\n",
        "        self.age = age\n",
        "        self.location = location\n",
        "\n",
        "    def describe_user(self):\n",
        "        print(f\"User Information for {self.first_name} {self.last_name}:\")\n",
        "        print(f\"Username: {self.username}\")\n",
        "        print(f\"Email: {self.email}\")\n",
        "        print(f\"Age: {self.age}\")\n",
        "        print(f\"Location: {self.location}\")\n",
        "\n",
        "    def greet_user(self):\n",
        "        print(f\"Hello, {self.first_name}! Welcome back.\")\n",
        "\n",
        "user1 = User(\"John\", \"Shea\", \"johnshea\", \"johnsh30@example.com\", 30, \"New York\")\n",
        "user2 = User(\"Alice\", \"Smith\", \"alicesmith\", \"alicesm25@example.com\", 25, \"Los Angeles\")\n",
        "user3 = User(\"Bob\", \"Johnson\", \"bobjohnson\", \"bobjh40@example.com\", 40, \"Chicago\")\n",
        "\n",
        "user1.describe_user()\n",
        "user1.greet_user()\n",
        "\n",
        "user2.describe_user()\n",
        "user2.greet_user()\n",
        "\n",
        "user3.describe_user()\n",
        "user3.greet_user()"
      ],
      "metadata": {
        "colab": {
          "base_uri": "https://localhost:8080/"
        },
        "id": "TEJj9X58OuZ5",
        "outputId": "9ad52a52-9b49-441b-a915-67d7d86bd6a0"
      },
      "execution_count": 34,
      "outputs": [
        {
          "output_type": "stream",
          "name": "stdout",
          "text": [
            "User Information for John Shea:\n",
            "Username: johnshea\n",
            "Email: johnsh30@example.com\n",
            "Age: 30\n",
            "Location: New York\n",
            "Hello, John! Welcome back.\n",
            "User Information for Alice Smith:\n",
            "Username: alicesmith\n",
            "Email: alicesm25@example.com\n",
            "Age: 25\n",
            "Location: Los Angeles\n",
            "Hello, Alice! Welcome back.\n",
            "User Information for Bob Johnson:\n",
            "Username: bobjohnson\n",
            "Email: bobjh40@example.com\n",
            "Age: 40\n",
            "Location: Chicago\n",
            "Hello, Bob! Welcome back.\n"
          ]
        }
      ]
    },
    {
      "cell_type": "code",
      "source": [
        "class Restaurant:\n",
        "    def __init__(self, restaurant_name, cuisine_type):\n",
        "        self.restaurant_name = restaurant_name\n",
        "        self.cuisine_type = cuisine_type\n",
        "\n",
        "    def describe_restaurant(self):\n",
        "        print(f\"Restaurant Name: {self.restaurant_name}\")\n",
        "        print(f\"Cuisine Type: {self.cuisine_type}\")\n",
        "\n",
        "    def open_restaurant(self):\n",
        "        print(f\"The restaurant {self.restaurant_name} is now open!\")\n",
        "\n",
        "class IceCreamStand(Restaurant):\n",
        "    def __init__(self, restaurant_name, cuisine_type, flavors):\n",
        "        super().__init__(restaurant_name, cuisine_type)\n",
        "        self.flavors = flavors\n",
        "\n",
        "    def display_flavors(self):\n",
        "        print(\"Available Ice Cream Flavors:\")\n",
        "        for flavor in self.flavors:\n",
        "            print(f\"- {flavor}\")\n",
        "\n",
        "ice_cream_stand = IceCreamStand(\"Sweet Treats\", \"Ice Cream\", [\"Vanilla\", \"Chocolate\", \"Strawberry\", \"Mint Chocolate\", \"Cookie Dough\"])\n",
        "\n",
        "ice_cream_stand.describe_restaurant()\n",
        "ice_cream_stand.display_flavors()\n"
      ],
      "metadata": {
        "colab": {
          "base_uri": "https://localhost:8080/"
        },
        "id": "tJnaa0SJOxRW",
        "outputId": "9e8f0f12-ade2-439d-9709-952a72140a53"
      },
      "execution_count": 35,
      "outputs": [
        {
          "output_type": "stream",
          "name": "stdout",
          "text": [
            "Restaurant Name: Sweet Treats\n",
            "Cuisine Type: Ice Cream\n",
            "Available Ice Cream Flavors:\n",
            "- Vanilla\n",
            "- Chocolate\n",
            "- Strawberry\n",
            "- Mint Chocolate\n",
            "- Cookie Dough\n"
          ]
        }
      ]
    },
    {
      "cell_type": "code",
      "source": [
        "class User:\n",
        "    def __init__(self, first_name, last_name, username, email, age, location):\n",
        "        self.first_name = first_name\n",
        "        self.last_name = last_name\n",
        "        self.username = username\n",
        "        self.email = email\n",
        "        self.age = age\n",
        "        self.location = location\n",
        "\n",
        "    def describe_user(self):\n",
        "        print(f\"User Information for {self.first_name} {self.last_name}:\")\n",
        "        print(f\"Username: {self.username}\")\n",
        "        print(f\"Email: {self.email}\")\n",
        "        print(f\"Age: {self.age}\")\n",
        "        print(f\"Location: {self.location}\")\n",
        "\n",
        "    def greet_user(self):\n",
        "        print(f\"Hello, {self.first_name}! Welcome back.\")\n",
        "\n",
        "class Admin(User):\n",
        "    def __init__(self, first_name, last_name, username, email, age, location, privileges):\n",
        "        super().__init__(first_name, last_name, username, email, age, location)\n",
        "        self.privileges = privileges\n",
        "\n",
        "    def show_privileges(self):\n",
        "        print(f\"Administrator Privileges:\")\n",
        "        for privilege in self.privileges:\n",
        "            print(f\"- {privilege}\")\n",
        "\n",
        "admin_privileges = [\"can add post\", \"can delete post\", \"can ban user\", \"can moderate comments\"]\n",
        "admin_user = Admin(\"Admin\", \"User\", \"adminuser\", \"admin@example.com\", 35, \"Admin Town\", admin_privileges)\n",
        "\n",
        "admin_user.describe_user()\n",
        "admin_user.show_privileges()"
      ],
      "metadata": {
        "colab": {
          "base_uri": "https://localhost:8080/"
        },
        "id": "sL5LshL3O0Lq",
        "outputId": "08c551da-7bc8-4a93-b887-ed7232feb60f"
      },
      "execution_count": 36,
      "outputs": [
        {
          "output_type": "stream",
          "name": "stdout",
          "text": [
            "User Information for Admin User:\n",
            "Username: adminuser\n",
            "Email: admin@example.com\n",
            "Age: 35\n",
            "Location: Admin Town\n",
            "Administrator Privileges:\n",
            "- can add post\n",
            "- can delete post\n",
            "- can ban user\n",
            "- can moderate comments\n"
          ]
        }
      ]
    },
    {
      "cell_type": "code",
      "source": [],
      "metadata": {
        "id": "QHzTRcTTO3pZ"
      },
      "execution_count": null,
      "outputs": []
    }
  ]
}